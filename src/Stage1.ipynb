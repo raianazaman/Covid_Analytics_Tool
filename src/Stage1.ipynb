{
 "cells": [
  {
   "cell_type": "markdown",
   "metadata": {},
   "source": [
    "# Task 3 (team)"
   ]
  },
  {
   "cell_type": "code",
   "execution_count": 1,
   "metadata": {},
   "outputs": [],
   "source": [
    "import pandas as pd\n",
    "import numpy as np"
   ]
  },
  {
   "cell_type": "markdown",
   "metadata": {},
   "source": [
    "## Loading in data"
   ]
  },
  {
   "cell_type": "code",
   "execution_count": 2,
   "metadata": {},
   "outputs": [],
   "source": [
    "#read the population file.\n",
    "pop = pd.read_csv(\"..\\data\\covid_county_population_usafacts.csv\", index_col = [\"countyFIPS\", \"County Name\", \"State\"])\n",
    "\n",
    "#read the covid confirmed cases file.\n",
    "confirmed = pd.read_csv(\"..\\data\\covid_confirmed_usafacts.csv\", index_col = [\"countyFIPS\", \"County Name\", \"State\"])\n",
    "\n",
    "#read the covid deaths file.\n",
    "deaths = pd.read_csv(\"..\\data\\covid_deaths_usafacts.csv\", index_col = [\"countyFIPS\", \"County Name\", \"State\"])\n"
   ]
  },
  {
   "cell_type": "markdown",
   "metadata": {},
   "source": [
    "## Displaying Dataframes"
   ]
  },
  {
   "cell_type": "code",
   "execution_count": 3,
   "metadata": {},
   "outputs": [
    {
     "output_type": "execute_result",
     "data": {
      "text/plain": [
       "                                        stateFIPS  1/22/20  1/23/20  1/24/20  \\\n",
       "countyFIPS County Name           State                                         \n",
       "0          Statewide Unallocated AL             1        0        0        0   \n",
       "1001       Autauga County        AL             1        0        0        0   \n",
       "1003       Baldwin County        AL             1        0        0        0   \n",
       "1005       Barbour County        AL             1        0        0        0   \n",
       "1007       Bibb County           AL             1        0        0        0   \n",
       "\n",
       "                                        1/25/20  1/26/20  1/27/20  1/28/20  \\\n",
       "countyFIPS County Name           State                                       \n",
       "0          Statewide Unallocated AL           0        0        0        0   \n",
       "1001       Autauga County        AL           0        0        0        0   \n",
       "1003       Baldwin County        AL           0        0        0        0   \n",
       "1005       Barbour County        AL           0        0        0        0   \n",
       "1007       Bibb County           AL           0        0        0        0   \n",
       "\n",
       "                                        1/29/20  1/30/20  ...  11/10/20  \\\n",
       "countyFIPS County Name           State                    ...             \n",
       "0          Statewide Unallocated AL           0        0  ...         0   \n",
       "1001       Autauga County        AL           0        0  ...      2328   \n",
       "1003       Baldwin County        AL           0        0  ...      7348   \n",
       "1005       Barbour County        AL           0        0  ...      1107   \n",
       "1007       Bibb County           AL           0        0  ...       948   \n",
       "\n",
       "                                        11/11/20  11/12/20  11/13/20  \\\n",
       "countyFIPS County Name           State                                 \n",
       "0          Statewide Unallocated AL            0         0         0   \n",
       "1001       Autauga County        AL         2351      2385      2417   \n",
       "1003       Baldwin County        AL         7409      7454      7523   \n",
       "1005       Barbour County        AL         1112      1113      1117   \n",
       "1007       Bibb County           AL          961       966       973   \n",
       "\n",
       "                                        11/14/20  11/15/20  11/16/20  \\\n",
       "countyFIPS County Name           State                                 \n",
       "0          Statewide Unallocated AL            0         0         0   \n",
       "1001       Autauga County        AL         2435      2456      2481   \n",
       "1003       Baldwin County        AL         7596      7646      7696   \n",
       "1005       Barbour County        AL         1123      1128      1130   \n",
       "1007       Bibb County           AL          978       986       993   \n",
       "\n",
       "                                        11/17/20  11/18/20  11/19/20  \n",
       "countyFIPS County Name           State                                \n",
       "0          Statewide Unallocated AL            0         0         0  \n",
       "1001       Autauga County        AL         2506      2529      2554  \n",
       "1003       Baldwin County        AL         7772      7849      7933  \n",
       "1005       Barbour County        AL         1134      1137      1145  \n",
       "1007       Bibb County           AL         1004      1008      1011  \n",
       "\n",
       "[5 rows x 304 columns]"
      ],
      "text/html": "<div>\n<style scoped>\n    .dataframe tbody tr th:only-of-type {\n        vertical-align: middle;\n    }\n\n    .dataframe tbody tr th {\n        vertical-align: top;\n    }\n\n    .dataframe thead th {\n        text-align: right;\n    }\n</style>\n<table border=\"1\" class=\"dataframe\">\n  <thead>\n    <tr style=\"text-align: right;\">\n      <th></th>\n      <th></th>\n      <th></th>\n      <th>stateFIPS</th>\n      <th>1/22/20</th>\n      <th>1/23/20</th>\n      <th>1/24/20</th>\n      <th>1/25/20</th>\n      <th>1/26/20</th>\n      <th>1/27/20</th>\n      <th>1/28/20</th>\n      <th>1/29/20</th>\n      <th>1/30/20</th>\n      <th>...</th>\n      <th>11/10/20</th>\n      <th>11/11/20</th>\n      <th>11/12/20</th>\n      <th>11/13/20</th>\n      <th>11/14/20</th>\n      <th>11/15/20</th>\n      <th>11/16/20</th>\n      <th>11/17/20</th>\n      <th>11/18/20</th>\n      <th>11/19/20</th>\n    </tr>\n    <tr>\n      <th>countyFIPS</th>\n      <th>County Name</th>\n      <th>State</th>\n      <th></th>\n      <th></th>\n      <th></th>\n      <th></th>\n      <th></th>\n      <th></th>\n      <th></th>\n      <th></th>\n      <th></th>\n      <th></th>\n      <th></th>\n      <th></th>\n      <th></th>\n      <th></th>\n      <th></th>\n      <th></th>\n      <th></th>\n      <th></th>\n      <th></th>\n      <th></th>\n      <th></th>\n    </tr>\n  </thead>\n  <tbody>\n    <tr>\n      <th>0</th>\n      <th>Statewide Unallocated</th>\n      <th>AL</th>\n      <td>1</td>\n      <td>0</td>\n      <td>0</td>\n      <td>0</td>\n      <td>0</td>\n      <td>0</td>\n      <td>0</td>\n      <td>0</td>\n      <td>0</td>\n      <td>0</td>\n      <td>...</td>\n      <td>0</td>\n      <td>0</td>\n      <td>0</td>\n      <td>0</td>\n      <td>0</td>\n      <td>0</td>\n      <td>0</td>\n      <td>0</td>\n      <td>0</td>\n      <td>0</td>\n    </tr>\n    <tr>\n      <th>1001</th>\n      <th>Autauga County</th>\n      <th>AL</th>\n      <td>1</td>\n      <td>0</td>\n      <td>0</td>\n      <td>0</td>\n      <td>0</td>\n      <td>0</td>\n      <td>0</td>\n      <td>0</td>\n      <td>0</td>\n      <td>0</td>\n      <td>...</td>\n      <td>2328</td>\n      <td>2351</td>\n      <td>2385</td>\n      <td>2417</td>\n      <td>2435</td>\n      <td>2456</td>\n      <td>2481</td>\n      <td>2506</td>\n      <td>2529</td>\n      <td>2554</td>\n    </tr>\n    <tr>\n      <th>1003</th>\n      <th>Baldwin County</th>\n      <th>AL</th>\n      <td>1</td>\n      <td>0</td>\n      <td>0</td>\n      <td>0</td>\n      <td>0</td>\n      <td>0</td>\n      <td>0</td>\n      <td>0</td>\n      <td>0</td>\n      <td>0</td>\n      <td>...</td>\n      <td>7348</td>\n      <td>7409</td>\n      <td>7454</td>\n      <td>7523</td>\n      <td>7596</td>\n      <td>7646</td>\n      <td>7696</td>\n      <td>7772</td>\n      <td>7849</td>\n      <td>7933</td>\n    </tr>\n    <tr>\n      <th>1005</th>\n      <th>Barbour County</th>\n      <th>AL</th>\n      <td>1</td>\n      <td>0</td>\n      <td>0</td>\n      <td>0</td>\n      <td>0</td>\n      <td>0</td>\n      <td>0</td>\n      <td>0</td>\n      <td>0</td>\n      <td>0</td>\n      <td>...</td>\n      <td>1107</td>\n      <td>1112</td>\n      <td>1113</td>\n      <td>1117</td>\n      <td>1123</td>\n      <td>1128</td>\n      <td>1130</td>\n      <td>1134</td>\n      <td>1137</td>\n      <td>1145</td>\n    </tr>\n    <tr>\n      <th>1007</th>\n      <th>Bibb County</th>\n      <th>AL</th>\n      <td>1</td>\n      <td>0</td>\n      <td>0</td>\n      <td>0</td>\n      <td>0</td>\n      <td>0</td>\n      <td>0</td>\n      <td>0</td>\n      <td>0</td>\n      <td>0</td>\n      <td>...</td>\n      <td>948</td>\n      <td>961</td>\n      <td>966</td>\n      <td>973</td>\n      <td>978</td>\n      <td>986</td>\n      <td>993</td>\n      <td>1004</td>\n      <td>1008</td>\n      <td>1011</td>\n    </tr>\n  </tbody>\n</table>\n<p>5 rows × 304 columns</p>\n</div>"
     },
     "metadata": {},
     "execution_count": 3
    }
   ],
   "source": [
    "confirmed.head()"
   ]
  },
  {
   "cell_type": "code",
   "execution_count": 4,
   "metadata": {},
   "outputs": [
    {
     "output_type": "execute_result",
     "data": {
      "text/plain": [
       "                                        stateFIPS  1/22/20  1/23/20  1/24/20  \\\n",
       "countyFIPS County Name           State                                         \n",
       "0          Statewide Unallocated AL             1        0        0        0   \n",
       "1001       Autauga County        AL             1        0        0        0   \n",
       "1003       Baldwin County        AL             1        0        0        0   \n",
       "1005       Barbour County        AL             1        0        0        0   \n",
       "1007       Bibb County           AL             1        0        0        0   \n",
       "\n",
       "                                        1/25/20  1/26/20  1/27/20  1/28/20  \\\n",
       "countyFIPS County Name           State                                       \n",
       "0          Statewide Unallocated AL           0        0        0        0   \n",
       "1001       Autauga County        AL           0        0        0        0   \n",
       "1003       Baldwin County        AL           0        0        0        0   \n",
       "1005       Barbour County        AL           0        0        0        0   \n",
       "1007       Bibb County           AL           0        0        0        0   \n",
       "\n",
       "                                        1/29/20  1/30/20  ...  11/10/20  \\\n",
       "countyFIPS County Name           State                    ...             \n",
       "0          Statewide Unallocated AL           0        0  ...         0   \n",
       "1001       Autauga County        AL           0        0  ...        30   \n",
       "1003       Baldwin County        AL           0        0  ...        84   \n",
       "1005       Barbour County        AL           0        0  ...         9   \n",
       "1007       Bibb County           AL           0        0  ...        17   \n",
       "\n",
       "                                        11/11/20  11/12/20  11/13/20  \\\n",
       "countyFIPS County Name           State                                 \n",
       "0          Statewide Unallocated AL            0         0         0   \n",
       "1001       Autauga County        AL           32        32        36   \n",
       "1003       Baldwin County        AL           84        84        84   \n",
       "1005       Barbour County        AL            9         9         9   \n",
       "1007       Bibb County           AL           17        17        17   \n",
       "\n",
       "                                        11/14/20  11/15/20  11/16/20  \\\n",
       "countyFIPS County Name           State                                 \n",
       "0          Statewide Unallocated AL            0         0         0   \n",
       "1001       Autauga County        AL           36        36        36   \n",
       "1003       Baldwin County        AL           84        84        84   \n",
       "1005       Barbour County        AL            9         9         9   \n",
       "1007       Bibb County           AL           17        17        17   \n",
       "\n",
       "                                        11/17/20  11/18/20  11/19/20  \n",
       "countyFIPS County Name           State                                \n",
       "0          Statewide Unallocated AL            0         0         0  \n",
       "1001       Autauga County        AL           37        37        39  \n",
       "1003       Baldwin County        AL           84        84        84  \n",
       "1005       Barbour County        AL            9        10        10  \n",
       "1007       Bibb County           AL           17        18        18  \n",
       "\n",
       "[5 rows x 304 columns]"
      ],
      "text/html": "<div>\n<style scoped>\n    .dataframe tbody tr th:only-of-type {\n        vertical-align: middle;\n    }\n\n    .dataframe tbody tr th {\n        vertical-align: top;\n    }\n\n    .dataframe thead th {\n        text-align: right;\n    }\n</style>\n<table border=\"1\" class=\"dataframe\">\n  <thead>\n    <tr style=\"text-align: right;\">\n      <th></th>\n      <th></th>\n      <th></th>\n      <th>stateFIPS</th>\n      <th>1/22/20</th>\n      <th>1/23/20</th>\n      <th>1/24/20</th>\n      <th>1/25/20</th>\n      <th>1/26/20</th>\n      <th>1/27/20</th>\n      <th>1/28/20</th>\n      <th>1/29/20</th>\n      <th>1/30/20</th>\n      <th>...</th>\n      <th>11/10/20</th>\n      <th>11/11/20</th>\n      <th>11/12/20</th>\n      <th>11/13/20</th>\n      <th>11/14/20</th>\n      <th>11/15/20</th>\n      <th>11/16/20</th>\n      <th>11/17/20</th>\n      <th>11/18/20</th>\n      <th>11/19/20</th>\n    </tr>\n    <tr>\n      <th>countyFIPS</th>\n      <th>County Name</th>\n      <th>State</th>\n      <th></th>\n      <th></th>\n      <th></th>\n      <th></th>\n      <th></th>\n      <th></th>\n      <th></th>\n      <th></th>\n      <th></th>\n      <th></th>\n      <th></th>\n      <th></th>\n      <th></th>\n      <th></th>\n      <th></th>\n      <th></th>\n      <th></th>\n      <th></th>\n      <th></th>\n      <th></th>\n      <th></th>\n    </tr>\n  </thead>\n  <tbody>\n    <tr>\n      <th>0</th>\n      <th>Statewide Unallocated</th>\n      <th>AL</th>\n      <td>1</td>\n      <td>0</td>\n      <td>0</td>\n      <td>0</td>\n      <td>0</td>\n      <td>0</td>\n      <td>0</td>\n      <td>0</td>\n      <td>0</td>\n      <td>0</td>\n      <td>...</td>\n      <td>0</td>\n      <td>0</td>\n      <td>0</td>\n      <td>0</td>\n      <td>0</td>\n      <td>0</td>\n      <td>0</td>\n      <td>0</td>\n      <td>0</td>\n      <td>0</td>\n    </tr>\n    <tr>\n      <th>1001</th>\n      <th>Autauga County</th>\n      <th>AL</th>\n      <td>1</td>\n      <td>0</td>\n      <td>0</td>\n      <td>0</td>\n      <td>0</td>\n      <td>0</td>\n      <td>0</td>\n      <td>0</td>\n      <td>0</td>\n      <td>0</td>\n      <td>...</td>\n      <td>30</td>\n      <td>32</td>\n      <td>32</td>\n      <td>36</td>\n      <td>36</td>\n      <td>36</td>\n      <td>36</td>\n      <td>37</td>\n      <td>37</td>\n      <td>39</td>\n    </tr>\n    <tr>\n      <th>1003</th>\n      <th>Baldwin County</th>\n      <th>AL</th>\n      <td>1</td>\n      <td>0</td>\n      <td>0</td>\n      <td>0</td>\n      <td>0</td>\n      <td>0</td>\n      <td>0</td>\n      <td>0</td>\n      <td>0</td>\n      <td>0</td>\n      <td>...</td>\n      <td>84</td>\n      <td>84</td>\n      <td>84</td>\n      <td>84</td>\n      <td>84</td>\n      <td>84</td>\n      <td>84</td>\n      <td>84</td>\n      <td>84</td>\n      <td>84</td>\n    </tr>\n    <tr>\n      <th>1005</th>\n      <th>Barbour County</th>\n      <th>AL</th>\n      <td>1</td>\n      <td>0</td>\n      <td>0</td>\n      <td>0</td>\n      <td>0</td>\n      <td>0</td>\n      <td>0</td>\n      <td>0</td>\n      <td>0</td>\n      <td>0</td>\n      <td>...</td>\n      <td>9</td>\n      <td>9</td>\n      <td>9</td>\n      <td>9</td>\n      <td>9</td>\n      <td>9</td>\n      <td>9</td>\n      <td>9</td>\n      <td>10</td>\n      <td>10</td>\n    </tr>\n    <tr>\n      <th>1007</th>\n      <th>Bibb County</th>\n      <th>AL</th>\n      <td>1</td>\n      <td>0</td>\n      <td>0</td>\n      <td>0</td>\n      <td>0</td>\n      <td>0</td>\n      <td>0</td>\n      <td>0</td>\n      <td>0</td>\n      <td>0</td>\n      <td>...</td>\n      <td>17</td>\n      <td>17</td>\n      <td>17</td>\n      <td>17</td>\n      <td>17</td>\n      <td>17</td>\n      <td>17</td>\n      <td>17</td>\n      <td>18</td>\n      <td>18</td>\n    </tr>\n  </tbody>\n</table>\n<p>5 rows × 304 columns</p>\n</div>"
     },
     "metadata": {},
     "execution_count": 4
    }
   ],
   "source": [
    "deaths.head()"
   ]
  },
  {
   "cell_type": "code",
   "execution_count": 5,
   "metadata": {},
   "outputs": [
    {
     "output_type": "execute_result",
     "data": {
      "text/plain": [
       "                                        population\n",
       "countyFIPS County Name           State            \n",
       "0          Statewide Unallocated AL              0\n",
       "1001       Autauga County        AL          55869\n",
       "1003       Baldwin County        AL         223234\n",
       "1005       Barbour County        AL          24686\n",
       "1007       Bibb County           AL          22394"
      ],
      "text/html": "<div>\n<style scoped>\n    .dataframe tbody tr th:only-of-type {\n        vertical-align: middle;\n    }\n\n    .dataframe tbody tr th {\n        vertical-align: top;\n    }\n\n    .dataframe thead th {\n        text-align: right;\n    }\n</style>\n<table border=\"1\" class=\"dataframe\">\n  <thead>\n    <tr style=\"text-align: right;\">\n      <th></th>\n      <th></th>\n      <th></th>\n      <th>population</th>\n    </tr>\n    <tr>\n      <th>countyFIPS</th>\n      <th>County Name</th>\n      <th>State</th>\n      <th></th>\n    </tr>\n  </thead>\n  <tbody>\n    <tr>\n      <th>0</th>\n      <th>Statewide Unallocated</th>\n      <th>AL</th>\n      <td>0</td>\n    </tr>\n    <tr>\n      <th>1001</th>\n      <th>Autauga County</th>\n      <th>AL</th>\n      <td>55869</td>\n    </tr>\n    <tr>\n      <th>1003</th>\n      <th>Baldwin County</th>\n      <th>AL</th>\n      <td>223234</td>\n    </tr>\n    <tr>\n      <th>1005</th>\n      <th>Barbour County</th>\n      <th>AL</th>\n      <td>24686</td>\n    </tr>\n    <tr>\n      <th>1007</th>\n      <th>Bibb County</th>\n      <th>AL</th>\n      <td>22394</td>\n    </tr>\n  </tbody>\n</table>\n</div>"
     },
     "metadata": {},
     "execution_count": 5
    }
   ],
   "source": [
    "pop.head()"
   ]
  },
  {
   "cell_type": "markdown",
   "metadata": {},
   "source": [
    "## merge all data to create super COVID dataframe"
   ]
  },
  {
   "cell_type": "code",
   "execution_count": 6,
   "metadata": {
    "tags": []
   },
   "outputs": [],
   "source": [
    "#merge populaiton datat and confirmed cases\n",
    "merged = pd.merge(pop, confirmed, left_index=True, right_index=True)\n",
    "\n",
    "#rename the date columns to have prefix of confirm_\n",
    "merged.columns = [\"confirmed_\" + col if index >= 2 else col for index, col in enumerate(merged.columns)]\n",
    "#merged.sort_values(by=[\"countyFIPS\"])\n",
    "\n",
    "total_current_colums = len(merged.columns)\n",
    "\n",
    "#merge with deaths file.\n",
    "merged = pd.merge(merged, deaths.drop(columns=[\"stateFIPS\"]), left_index=True, right_index=True)\n",
    "\n",
    "#rename the date columns to have prefix of deaths_\n",
    "merged.columns = [\"deaths_\" + col if index >= total_current_colums else col for index, col in enumerate(merged.columns)]"
   ]
  },
  {
   "cell_type": "code",
   "execution_count": 7,
   "metadata": {},
   "outputs": [],
   "source": [
    "#Sort the merged data by CountyFips\n",
    "merged.sort_values(by=[\"stateFIPS\",\"countyFIPS\"],inplace=True)"
   ]
  },
  {
   "cell_type": "code",
   "execution_count": 8,
   "metadata": {},
   "outputs": [
    {
     "output_type": "execute_result",
     "data": {
      "text/plain": [
       "                                        population  stateFIPS  \\\n",
       "countyFIPS County Name           State                          \n",
       "0          Statewide Unallocated AL              0          1   \n",
       "1001       Autauga County        AL          55869          1   \n",
       "1003       Baldwin County        AL         223234          1   \n",
       "1005       Barbour County        AL          24686          1   \n",
       "1007       Bibb County           AL          22394          1   \n",
       "\n",
       "                                        confirmed_1/22/20  confirmed_1/23/20  \\\n",
       "countyFIPS County Name           State                                         \n",
       "0          Statewide Unallocated AL                     0                  0   \n",
       "1001       Autauga County        AL                     0                  0   \n",
       "1003       Baldwin County        AL                     0                  0   \n",
       "1005       Barbour County        AL                     0                  0   \n",
       "1007       Bibb County           AL                     0                  0   \n",
       "\n",
       "                                        confirmed_1/24/20  confirmed_1/25/20  \\\n",
       "countyFIPS County Name           State                                         \n",
       "0          Statewide Unallocated AL                     0                  0   \n",
       "1001       Autauga County        AL                     0                  0   \n",
       "1003       Baldwin County        AL                     0                  0   \n",
       "1005       Barbour County        AL                     0                  0   \n",
       "1007       Bibb County           AL                     0                  0   \n",
       "\n",
       "                                        confirmed_1/26/20  confirmed_1/27/20  \\\n",
       "countyFIPS County Name           State                                         \n",
       "0          Statewide Unallocated AL                     0                  0   \n",
       "1001       Autauga County        AL                     0                  0   \n",
       "1003       Baldwin County        AL                     0                  0   \n",
       "1005       Barbour County        AL                     0                  0   \n",
       "1007       Bibb County           AL                     0                  0   \n",
       "\n",
       "                                        confirmed_1/28/20  confirmed_1/29/20  \\\n",
       "countyFIPS County Name           State                                         \n",
       "0          Statewide Unallocated AL                     0                  0   \n",
       "1001       Autauga County        AL                     0                  0   \n",
       "1003       Baldwin County        AL                     0                  0   \n",
       "1005       Barbour County        AL                     0                  0   \n",
       "1007       Bibb County           AL                     0                  0   \n",
       "\n",
       "                                        ...  deaths_11/10/20  deaths_11/11/20  \\\n",
       "countyFIPS County Name           State  ...                                     \n",
       "0          Statewide Unallocated AL     ...                0                0   \n",
       "1001       Autauga County        AL     ...               30               32   \n",
       "1003       Baldwin County        AL     ...               84               84   \n",
       "1005       Barbour County        AL     ...                9                9   \n",
       "1007       Bibb County           AL     ...               17               17   \n",
       "\n",
       "                                        deaths_11/12/20  deaths_11/13/20  \\\n",
       "countyFIPS County Name           State                                     \n",
       "0          Statewide Unallocated AL                   0                0   \n",
       "1001       Autauga County        AL                  32               36   \n",
       "1003       Baldwin County        AL                  84               84   \n",
       "1005       Barbour County        AL                   9                9   \n",
       "1007       Bibb County           AL                  17               17   \n",
       "\n",
       "                                        deaths_11/14/20  deaths_11/15/20  \\\n",
       "countyFIPS County Name           State                                     \n",
       "0          Statewide Unallocated AL                   0                0   \n",
       "1001       Autauga County        AL                  36               36   \n",
       "1003       Baldwin County        AL                  84               84   \n",
       "1005       Barbour County        AL                   9                9   \n",
       "1007       Bibb County           AL                  17               17   \n",
       "\n",
       "                                        deaths_11/16/20  deaths_11/17/20  \\\n",
       "countyFIPS County Name           State                                     \n",
       "0          Statewide Unallocated AL                   0                0   \n",
       "1001       Autauga County        AL                  36               37   \n",
       "1003       Baldwin County        AL                  84               84   \n",
       "1005       Barbour County        AL                   9                9   \n",
       "1007       Bibb County           AL                  17               17   \n",
       "\n",
       "                                        deaths_11/18/20  deaths_11/19/20  \n",
       "countyFIPS County Name           State                                    \n",
       "0          Statewide Unallocated AL                   0                0  \n",
       "1001       Autauga County        AL                  37               39  \n",
       "1003       Baldwin County        AL                  84               84  \n",
       "1005       Barbour County        AL                  10               10  \n",
       "1007       Bibb County           AL                  18               18  \n",
       "\n",
       "[5 rows x 608 columns]"
      ],
      "text/html": "<div>\n<style scoped>\n    .dataframe tbody tr th:only-of-type {\n        vertical-align: middle;\n    }\n\n    .dataframe tbody tr th {\n        vertical-align: top;\n    }\n\n    .dataframe thead th {\n        text-align: right;\n    }\n</style>\n<table border=\"1\" class=\"dataframe\">\n  <thead>\n    <tr style=\"text-align: right;\">\n      <th></th>\n      <th></th>\n      <th></th>\n      <th>population</th>\n      <th>stateFIPS</th>\n      <th>confirmed_1/22/20</th>\n      <th>confirmed_1/23/20</th>\n      <th>confirmed_1/24/20</th>\n      <th>confirmed_1/25/20</th>\n      <th>confirmed_1/26/20</th>\n      <th>confirmed_1/27/20</th>\n      <th>confirmed_1/28/20</th>\n      <th>confirmed_1/29/20</th>\n      <th>...</th>\n      <th>deaths_11/10/20</th>\n      <th>deaths_11/11/20</th>\n      <th>deaths_11/12/20</th>\n      <th>deaths_11/13/20</th>\n      <th>deaths_11/14/20</th>\n      <th>deaths_11/15/20</th>\n      <th>deaths_11/16/20</th>\n      <th>deaths_11/17/20</th>\n      <th>deaths_11/18/20</th>\n      <th>deaths_11/19/20</th>\n    </tr>\n    <tr>\n      <th>countyFIPS</th>\n      <th>County Name</th>\n      <th>State</th>\n      <th></th>\n      <th></th>\n      <th></th>\n      <th></th>\n      <th></th>\n      <th></th>\n      <th></th>\n      <th></th>\n      <th></th>\n      <th></th>\n      <th></th>\n      <th></th>\n      <th></th>\n      <th></th>\n      <th></th>\n      <th></th>\n      <th></th>\n      <th></th>\n      <th></th>\n      <th></th>\n      <th></th>\n    </tr>\n  </thead>\n  <tbody>\n    <tr>\n      <th>0</th>\n      <th>Statewide Unallocated</th>\n      <th>AL</th>\n      <td>0</td>\n      <td>1</td>\n      <td>0</td>\n      <td>0</td>\n      <td>0</td>\n      <td>0</td>\n      <td>0</td>\n      <td>0</td>\n      <td>0</td>\n      <td>0</td>\n      <td>...</td>\n      <td>0</td>\n      <td>0</td>\n      <td>0</td>\n      <td>0</td>\n      <td>0</td>\n      <td>0</td>\n      <td>0</td>\n      <td>0</td>\n      <td>0</td>\n      <td>0</td>\n    </tr>\n    <tr>\n      <th>1001</th>\n      <th>Autauga County</th>\n      <th>AL</th>\n      <td>55869</td>\n      <td>1</td>\n      <td>0</td>\n      <td>0</td>\n      <td>0</td>\n      <td>0</td>\n      <td>0</td>\n      <td>0</td>\n      <td>0</td>\n      <td>0</td>\n      <td>...</td>\n      <td>30</td>\n      <td>32</td>\n      <td>32</td>\n      <td>36</td>\n      <td>36</td>\n      <td>36</td>\n      <td>36</td>\n      <td>37</td>\n      <td>37</td>\n      <td>39</td>\n    </tr>\n    <tr>\n      <th>1003</th>\n      <th>Baldwin County</th>\n      <th>AL</th>\n      <td>223234</td>\n      <td>1</td>\n      <td>0</td>\n      <td>0</td>\n      <td>0</td>\n      <td>0</td>\n      <td>0</td>\n      <td>0</td>\n      <td>0</td>\n      <td>0</td>\n      <td>...</td>\n      <td>84</td>\n      <td>84</td>\n      <td>84</td>\n      <td>84</td>\n      <td>84</td>\n      <td>84</td>\n      <td>84</td>\n      <td>84</td>\n      <td>84</td>\n      <td>84</td>\n    </tr>\n    <tr>\n      <th>1005</th>\n      <th>Barbour County</th>\n      <th>AL</th>\n      <td>24686</td>\n      <td>1</td>\n      <td>0</td>\n      <td>0</td>\n      <td>0</td>\n      <td>0</td>\n      <td>0</td>\n      <td>0</td>\n      <td>0</td>\n      <td>0</td>\n      <td>...</td>\n      <td>9</td>\n      <td>9</td>\n      <td>9</td>\n      <td>9</td>\n      <td>9</td>\n      <td>9</td>\n      <td>9</td>\n      <td>9</td>\n      <td>10</td>\n      <td>10</td>\n    </tr>\n    <tr>\n      <th>1007</th>\n      <th>Bibb County</th>\n      <th>AL</th>\n      <td>22394</td>\n      <td>1</td>\n      <td>0</td>\n      <td>0</td>\n      <td>0</td>\n      <td>0</td>\n      <td>0</td>\n      <td>0</td>\n      <td>0</td>\n      <td>0</td>\n      <td>...</td>\n      <td>17</td>\n      <td>17</td>\n      <td>17</td>\n      <td>17</td>\n      <td>17</td>\n      <td>17</td>\n      <td>17</td>\n      <td>17</td>\n      <td>18</td>\n      <td>18</td>\n    </tr>\n  </tbody>\n</table>\n<p>5 rows × 608 columns</p>\n</div>"
     },
     "metadata": {},
     "execution_count": 8
    }
   ],
   "source": [
    "merged.head()"
   ]
  },
  {
   "cell_type": "markdown",
   "metadata": {},
   "source": [
    "## Export Data Merged data (super COVID-19 datafame) To File in Data Folder."
   ]
  },
  {
   "cell_type": "code",
   "execution_count": 9,
   "metadata": {},
   "outputs": [],
   "source": [
    "#Save to data folder \n",
    "merged.to_csv(\"..\\data\\superCOVID-19dataframe.csv\")\n",
    "merged.to_csv(\"..\\data\\superCOVID-19datafame.csv\")"
   ]
  }
 ],
 "metadata": {
  "kernelspec": {
   "display_name": "Python 3",
   "language": "python",
   "name": "python3"
  },
  "language_info": {
   "codemirror_mode": {
    "name": "ipython",
    "version": 3
   },
   "file_extension": ".py",
   "mimetype": "text/x-python",
   "name": "python",
   "nbconvert_exporter": "python",
   "pygments_lexer": "ipython3",
   "version": "3.8.3-final"
  }
 },
 "nbformat": 4,
 "nbformat_minor": 4
}