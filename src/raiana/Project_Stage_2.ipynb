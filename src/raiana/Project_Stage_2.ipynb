{
  "nbformat": 4,
  "nbformat_minor": 0,
  "metadata": {
    "colab": {
      "name": "Project_Stage_2.ipynb",
      "provenance": [],
      "collapsed_sections": [],
      "authorship_tag": "ABX9TyOPGcLWWK1t4pp2UCelgd4g",
      "include_colab_link": true
    },
    "kernelspec": {
      "name": "python3",
      "display_name": "Python 3"
    }
  },
  "cells": [
    {
      "cell_type": "markdown",
      "metadata": {
        "id": "view-in-github",
        "colab_type": "text"
      },
      "source": [
        "<a href=\"https://colab.research.google.com/github/UNCG-CSE/COVID-Team-2/blob/master/src/raiana/Project_Stage_2.ipynb\" target=\"_parent\"><img src=\"https://colab.research.google.com/assets/colab-badge.svg\" alt=\"Open In Colab\"/></a>"
      ]
    },
    {
      "cell_type": "code",
      "metadata": {
        "id": "QkWjOC6_-_bT",
        "outputId": "382c85c7-2c51-4455-d130-cc0c3a73362c",
        "colab": {
          "base_uri": "https://localhost:8080/"
        }
      },
      "source": [
        "#Using to mount google drive as i am using google colab for this assignment\n",
        "from google.colab import drive\n",
        "drive.mount('/content/drive')"
      ],
      "execution_count": 1,
      "outputs": [
        {
          "output_type": "stream",
          "text": [
            "Mounted at /content/drive\n"
          ],
          "name": "stdout"
        }
      ]
    },
    {
      "cell_type": "code",
      "metadata": {
        "id": "6jgNZsGV_ISJ"
      },
      "source": [
        "import pandas as pd\n",
        "import numpy as np\n",
        "import matplotlib.pyplot as plt\n",
        "import sys\n",
        "\n",
        "import datetime as datetime"
      ],
      "execution_count": 2,
      "outputs": []
    },
    {
      "cell_type": "markdown",
      "metadata": {
        "id": "uokYzwPQH8UV"
      },
      "source": [
        "#Fuction from group task"
      ]
    },
    {
      "cell_type": "code",
      "metadata": {
        "id": "0W3id6EwBqlE"
      },
      "source": [
        "def get_confirmed_deaths_tuple_df(super_covid_df):\n",
        "\n",
        "    #calculate need cols and dates for confirmed df\n",
        "    confirmed_cases_cols = [\"countyFIPS\", \"County Name\", \"State\", \"stateFIPS\" ] + [col for col in super_covid_df.columns if col.startswith(\"confirmed_\")]\n",
        "    \n",
        "    #Get new dataframe from team file with needed cols\n",
        "    confirmed_cases = super_covid_df[confirmed_cases_cols].copy()\n",
        "\n",
        "    #rename date cols to remove confirmed title\n",
        "    confirmed_cases.columns = [col.replace(\"confirmed_\",\"\") if col.startswith(\"confirmed_\") else col for col in confirmed_cases.columns]\n",
        "\n",
        "    #calculate need cols and dates for deaths df\n",
        "    deaths_cols = [\"countyFIPS\", \"County Name\", \"State\", \"stateFIPS\" ] + [col for col in super_covid_df.columns if col.startswith(\"deaths_\")]\n",
        "\n",
        "    #Get new dataframe from team file with needed cols\n",
        "    deaths = super_covid_df[deaths_cols].copy()\n",
        "\n",
        "    #rename date cols to remove deaths title\n",
        "    deaths.columns = [col.replace(\"deaths_\",\"\") if col.startswith(\"deaths_\") else col for col in deaths.columns]\n",
        "\n",
        "    return confirmed_cases, deaths"
      ],
      "execution_count": 3,
      "outputs": []
    },
    {
      "cell_type": "markdown",
      "metadata": {
        "id": "i5v89cDsIMXz"
      },
      "source": [
        "#Part-1"
      ]
    },
    {
      "cell_type": "markdown",
      "metadata": {
        "id": "ABlz_6iN_f5u"
      },
      "source": [
        "#1.Generate weekly statistics (mean, median, mode) for number of new cases and deaths across a NY state."
      ]
    },
    {
      "cell_type": "code",
      "metadata": {
        "id": "ltIw9-da_PE0",
        "outputId": "4999c1fb-32a1-49a0-f7ce-94c194803f30",
        "colab": {
          "base_uri": "https://localhost:8080/"
        }
      },
      "source": [
        "#read world csv file\n",
        "USA_covid_data = pd.read_csv(\"/content/drive/My Drive/Datascience/COVID-Team-2/data/superCOVID-19datafame.csv\")\n",
        "\n",
        "print(USA_covid_data.head())"
      ],
      "execution_count": 13,
      "outputs": [
        {
          "output_type": "stream",
          "text": [
            "   countyFIPS            County Name  ... deaths_9/20/20  deaths_9/21/20\n",
            "0           0  Statewide Unallocated  ...              0               0\n",
            "1        1001         Autauga County  ...             24              24\n",
            "2        1003         Baldwin County  ...             49              49\n",
            "3        1005         Barbour County  ...              7               7\n",
            "4        1007            Bibb County  ...             10              10\n",
            "\n",
            "[5 rows x 493 columns]\n"
          ],
          "name": "stdout"
        }
      ]
    },
    {
      "cell_type": "code",
      "metadata": {
        "id": "SUsNNnJ5BeLn",
        "outputId": "2389d2dd-e87e-4314-db5f-3d5a7e3787bb",
        "colab": {
          "base_uri": "https://localhost:8080/"
        }
      },
      "source": [
        "\n",
        "confirmed_cases_USA, deaths_USA = get_confirmed_deaths_tuple_df (USA_covid_data)\n",
        "\n",
        "options = [\"NY\"] \n",
        "#total conformed  number in NY\n",
        "confirmed_cases_Selected = confirmed_cases_USA[confirmed_cases_USA ['State'].isin(options)] \n",
        "NY_confirmed = confirmed_cases_Selected.drop(['countyFIPS','stateFIPS'],1)\n",
        "print(NY_confirmed.head())\n"
      ],
      "execution_count": 14,
      "outputs": [
        {
          "output_type": "stream",
          "text": [
            "                County Name State  1/22/20  ...  9/19/20  9/20/20  9/21/20\n",
            "1858  Statewide Unallocated    NY        0  ...       69       69       69\n",
            "1859          Albany County    NY        0  ...     3006     3016     3024\n",
            "1860        Allegany County    NY        0  ...       96       98       99\n",
            "1861           Bronx County    NY        0  ...    52526    52578    52619\n",
            "1862          Broome County    NY        0  ...     1459     1465     1472\n",
            "\n",
            "[5 rows x 246 columns]\n"
          ],
          "name": "stdout"
        }
      ]
    },
    {
      "cell_type": "code",
      "metadata": {
        "id": "CxntA-MBE1i7",
        "outputId": "be41c545-a6e3-460c-8d35-f218fb5277af",
        "colab": {
          "base_uri": "https://localhost:8080/"
        }
      },
      "source": [
        "\n",
        "#total death number in NY\n",
        "deaths_Selected= deaths_USA [deaths_USA ['State'].isin(options)]\n",
        "NY_death = deaths_Selected.drop(['countyFIPS','stateFIPS'],1)\n",
        "print(NY_death.head())"
      ],
      "execution_count": 15,
      "outputs": [
        {
          "output_type": "stream",
          "text": [
            "                County Name State  1/22/20  ...  9/19/20  9/20/20  9/21/20\n",
            "1858  Statewide Unallocated    NY        0  ...      106      106      106\n",
            "1859          Albany County    NY        0  ...      123      123      123\n",
            "1860        Allegany County    NY        0  ...        2        2        2\n",
            "1861           Bronx County    NY        0  ...     4939     4941     4942\n",
            "1862          Broome County    NY        0  ...       85       85       85\n",
            "\n",
            "[5 rows x 246 columns]\n"
          ],
          "name": "stdout"
        }
      ]
    },
    {
      "cell_type": "code",
      "metadata": {
        "id": "JhL1X1Iv_jEa",
        "outputId": "b8f80425-4194-4562-b61d-928ef66d6ddf",
        "colab": {
          "base_uri": "https://localhost:8080/"
        }
      },
      "source": [
        "# calculate each week's new cases\n",
        "def weekly_cases(df):\n",
        "  daily_cases = df.drop(df.columns[[0, 1, 2, 3]], 1)\n",
        "  daily_difference = daily_cases.diff(axis=1)\n",
        "  daily_difference = daily_difference.drop(daily_difference.columns[0], 1) # drop the first column\n",
        "  result = pd.DataFrame()\n",
        "  previous_week = -1\n",
        "  for date in daily_difference.columns:\n",
        "    current_week = pd.to_datetime(date).week\n",
        "    if current_week != previous_week:\n",
        "      previous_week = current_week\n",
        "      result[date] = daily_difference[date]\n",
        "    else:\n",
        "      result.loc[:-1] += daily_difference[date]\n",
        "  result['State'] = df['State']\n",
        "  return result.groupby('State').sum() # merge each couties's cases to the corresponding state\n",
        "\n",
        "weekly_confirmed = weekly_cases(NY_confirmed)\n",
        "\n",
        "weekly_death = weekly_cases(NY_death)\n",
        "\n",
        "# generate table\n",
        "def output_table(title, df):\n",
        "  # calculate stats\n",
        "  states_mean = df.mean(axis=1)\n",
        "  states_median = df.median(axis=1)\n",
        "  states_mode = df.mode(axis=1)\n",
        "\n",
        "  # format table and print\n",
        "  print(title)\n",
        "  print('==============================')\n",
        "  print('{:^6} {:^6} | {:^6} | {:^6}'.format('', 'Mean', 'Median', 'Mode'))\n",
        "  for state in df.index:\n",
        "    mean = int(states_mean.loc[state])\n",
        "    median = int(states_median.loc[state])\n",
        "    mode = int(states_mode.loc[state].values[0])\n",
        "    print('{:^6} {:^6} | {:^6} | {:^6}'.format(state, mean, median, mode))\n",
        "output_table('Weekly Confirmed', weekly_confirmed)\n",
        "output_table('Weekly Death', weekly_death)"
      ],
      "execution_count": 16,
      "outputs": [
        {
          "output_type": "stream",
          "text": [
            "Weekly Confirmed\n",
            "==============================\n",
            "        Mean  | Median |  Mode \n",
            "  NY    1479  |  565   |   0   \n",
            "Weekly Death\n",
            "==============================\n",
            "        Mean  | Median |  Mode \n",
            "  NY    103   |   11   |   0   \n"
          ],
          "name": "stdout"
        }
      ]
    },
    {
      "cell_type": "markdown",
      "metadata": {
        "id": "25HzT26pFwCc"
      },
      "source": [
        "#Compare the data against other states."
      ]
    },
    {
      "cell_type": "markdown",
      "metadata": {
        "id": "gGsBO-S0F-_T"
      },
      "source": [
        "**Choosing 5 state to campare which has similar population**"
      ]
    },
    {
      "cell_type": "code",
      "metadata": {
        "id": "T7EWPADyF2tz",
        "outputId": "2fdb67e8-ec33-496e-9342-a7b9b7b814ff",
        "colab": {
          "base_uri": "https://localhost:8080/"
        }
      },
      "source": [
        "#total population of \n",
        "New_USA_covid_data= USA_covid_data.groupby( USA_covid_data['State']).sum()\n",
        "\n",
        "#sort data by population deascending\n",
        "New_USA_covid_data=New_USA_covid_data.sort_values(by='population', ascending=False)\n",
        "New_USA_covid_data=New_USA_covid_data.drop(['countyFIPS','stateFIPS'],1)\n",
        "\n",
        "print(New_USA_covid_data.head(10))"
      ],
      "execution_count": 17,
      "outputs": [
        {
          "output_type": "stream",
          "text": [
            "       population  confirmed_1/22/20  ...  deaths_9/20/20  deaths_9/21/20\n",
            "State                                 ...                                \n",
            "CA       39512223                  0  ...           15018           15069\n",
            "TX       28995881                  0  ...           14888           14912\n",
            "FL       21477737                  0  ...           13296           13317\n",
            "NY       19453561                  0  ...           32776           32778\n",
            "PA       12801989                  0  ...            7980            8004\n",
            "IL       12671821                  0  ...            8450            8457\n",
            "OH       11689100                  0  ...            4615            4623\n",
            "GA       10617423                  0  ...            6602            6604\n",
            "NC       10488084                  0  ...            3243            3247\n",
            "MI        9986857                  0  ...            6969            6981\n",
            "\n",
            "[10 rows x 489 columns]\n"
          ],
          "name": "stdout"
        }
      ]
    },
    {
      "cell_type": "markdown",
      "metadata": {
        "id": "lF-6_4DYGQEe"
      },
      "source": [
        "**Selecting data of PA, IL,OH,GA ,NC**"
      ]
    },
    {
      "cell_type": "code",
      "metadata": {
        "id": "1LTCZ27yGWYc",
        "outputId": "1eb0e53e-11a8-421b-ed0b-081aa00656ea",
        "colab": {
          "base_uri": "https://localhost:8080/"
        }
      },
      "source": [
        "confirmed_cases_USA, deaths_USA = get_confirmed_deaths_tuple_df (USA_covid_data)\n",
        "options = ['NC',\"PA\",\"IL\",\"OH\",\"GA\",\"NY\"] \n",
        "\n",
        "#total conformed  number \n",
        "confirmed_cases_Selected = confirmed_cases_USA[confirmed_cases_USA ['State'].isin(options)] \n",
        "Selected_confirmed = confirmed_cases_Selected.drop(['countyFIPS','stateFIPS'],1)\n",
        "print(Selected_confirmed.head())\n",
        "\n",
        "\n",
        "#total death number \n",
        "deaths_Selected= deaths_USA [deaths_USA ['State'].isin(options)]\n",
        "Selected_death = deaths_Selected.drop(['countyFIPS','stateFIPS'],1)\n",
        "print(Selected_death.head())\n",
        "\n"
      ],
      "execution_count": 18,
      "outputs": [
        {
          "output_type": "stream",
          "text": [
            "               County Name State  1/22/20  ...  9/19/20  9/20/20  9/21/20\n",
            "397  Statewide Unallocated    GA        0  ...    19361    19445    19750\n",
            "398         Appling County    GA        0  ...     1001     1007     1010\n",
            "399        Atkinson County    GA        0  ...      435      435      435\n",
            "400           Bacon County    GA        0  ...      589      592      592\n",
            "401           Baker County    GA        0  ...       78       78       78\n",
            "\n",
            "[5 rows x 246 columns]\n",
            "               County Name State  1/22/20  ...  9/19/20  9/20/20  9/21/20\n",
            "397  Statewide Unallocated    GA        0  ...      154      154      154\n",
            "398         Appling County    GA        0  ...       26       26       26\n",
            "399        Atkinson County    GA        0  ...        3        3        3\n",
            "400           Bacon County    GA        0  ...       10       10       10\n",
            "401           Baker County    GA        0  ...        3        3        3\n",
            "\n",
            "[5 rows x 246 columns]\n"
          ],
          "name": "stdout"
        }
      ]
    },
    {
      "cell_type": "code",
      "metadata": {
        "id": "erUKqLOqHYbT",
        "outputId": "6f83acad-3930-43ee-9f84-9c9af1befc0f",
        "colab": {
          "base_uri": "https://localhost:8080/"
        }
      },
      "source": [
        "weekly_confirmed = weekly_cases(Selected_confirmed)\n",
        "\n",
        "weekly_death = weekly_cases(Selected_death)\n",
        "\n",
        "# generate table\n",
        "def output_table(title, df):\n",
        "  # calculate stats\n",
        "  states_mean = df.mean(axis=1)\n",
        "  states_median = df.median(axis=1)\n",
        "  states_mode = df.mode(axis=1)\n",
        "\n",
        "  # format table and print\n",
        "  print(title)\n",
        "  print('==============================')\n",
        "  print('{:^6} {:^6} | {:^6} | {:^6}'.format('', 'Mean', 'Median', 'Mode'))\n",
        "  for state in df.index:\n",
        "    mean = int(states_mean.loc[state])\n",
        "    median = int(states_median.loc[state])\n",
        "    mode = int(states_mode.loc[state].values[0])\n",
        "    print('{:^6} {:^6} | {:^6} | {:^6}'.format(state, mean, median, mode))\n",
        "output_table('Weekly Confirmed', weekly_confirmed)\n",
        "output_table('Weekly Death', weekly_death)"
      ],
      "execution_count": 19,
      "outputs": [
        {
          "output_type": "stream",
          "text": [
            "Weekly Confirmed\n",
            "==============================\n",
            "        Mean  | Median |  Mode \n",
            "  GA    990   |  822   |   0   \n",
            "  IL    909   |  990   |   0   \n",
            "  NC    617   |  536   |   0   \n",
            "  NY    1479  |  565   |   0   \n",
            "  OH    538   |  543   |   0   \n",
            "  PA    482   |  474   |   0   \n",
            "Weekly Death\n",
            "==============================\n",
            "        Mean  | Median |  Mode \n",
            "  GA     23   |   17   |   0   \n",
            "  IL     14   |   7    |   0   \n",
            "  NC     4    |   3    |   0   \n",
            "  NY    103   |   11   |   0   \n",
            "  OH     12   |   8    |   0   \n",
            "  PA     18   |   3    |   0   \n"
          ],
          "name": "stdout"
        }
      ]
    },
    {
      "cell_type": "markdown",
      "metadata": {
        "id": "j_UqC1p0Hytr"
      },
      "source": [
        "#3.Identify counties in  NY state with high case and death rates"
      ]
    },
    {
      "cell_type": "code",
      "metadata": {
        "id": "P9u1gwpaMkCy",
        "outputId": "c25a22cd-9920-4d49-da60-357859d6e971",
        "colab": {
          "base_uri": "https://localhost:8080/"
        }
      },
      "source": [
        "#read file for NYC  from state 1\n",
        "NYC_df =  pd.read_csv(\"/content/drive/My Drive/Datascience/COVID-Team-2/src/raiana/raiana.nyc.csv\")\n",
        "\n",
        "confirmed_cases_NY, deaths_NY = get_confirmed_deaths_tuple_df(NYC_df)\n",
        "\n",
        "print(confirmed_cases_NY.head())\n",
        "print(deaths_NY.head())"
      ],
      "execution_count": 20,
      "outputs": [
        {
          "output_type": "stream",
          "text": [
            "   countyFIPS            County Name State  ...  9/17/20  9/18/20  9/19/20\n",
            "0           0  Statewide Unallocated    NY  ...       69       69       69\n",
            "1       36001          Albany County    NY  ...     2969     2979     3006\n",
            "2       36003        Allegany County    NY  ...       94       95       96\n",
            "3       36005           Bronx County    NY  ...    52422    52468    52526\n",
            "4       36007          Broome County    NY  ...     1437     1450     1459\n",
            "\n",
            "[5 rows x 246 columns]\n",
            "   countyFIPS            County Name State  ...  9/17/20  9/18/20  9/19/20\n",
            "0           0  Statewide Unallocated    NY  ...      106      106      106\n",
            "1       36001          Albany County    NY  ...      123      123      123\n",
            "2       36003        Allegany County    NY  ...        2        2        2\n",
            "3       36005           Bronx County    NY  ...     4934     4934     4939\n",
            "4       36007          Broome County    NY  ...       85       85       85\n",
            "\n",
            "[5 rows x 246 columns]\n"
          ],
          "name": "stdout"
        }
      ]
    },
    {
      "cell_type": "code",
      "metadata": {
        "id": "4p3JuV6fKhnb",
        "outputId": "97b3dc2b-b3b1-40f2-c92c-b2930578e814",
        "colab": {
          "base_uri": "https://localhost:8080/",
          "height": 411
        }
      },
      "source": [
        "\n",
        "NYC_county_population = NYC_df[['County Name', 'population']]\n",
        "NYC_county_population"
      ],
      "execution_count": 21,
      "outputs": [
        {
          "output_type": "execute_result",
          "data": {
            "text/html": [
              "<div>\n",
              "<style scoped>\n",
              "    .dataframe tbody tr th:only-of-type {\n",
              "        vertical-align: middle;\n",
              "    }\n",
              "\n",
              "    .dataframe tbody tr th {\n",
              "        vertical-align: top;\n",
              "    }\n",
              "\n",
              "    .dataframe thead th {\n",
              "        text-align: right;\n",
              "    }\n",
              "</style>\n",
              "<table border=\"1\" class=\"dataframe\">\n",
              "  <thead>\n",
              "    <tr style=\"text-align: right;\">\n",
              "      <th></th>\n",
              "      <th>County Name</th>\n",
              "      <th>population</th>\n",
              "    </tr>\n",
              "  </thead>\n",
              "  <tbody>\n",
              "    <tr>\n",
              "      <th>0</th>\n",
              "      <td>Statewide Unallocated</td>\n",
              "      <td>0</td>\n",
              "    </tr>\n",
              "    <tr>\n",
              "      <th>1</th>\n",
              "      <td>Albany County</td>\n",
              "      <td>305506</td>\n",
              "    </tr>\n",
              "    <tr>\n",
              "      <th>2</th>\n",
              "      <td>Allegany County</td>\n",
              "      <td>46091</td>\n",
              "    </tr>\n",
              "    <tr>\n",
              "      <th>3</th>\n",
              "      <td>Bronx County</td>\n",
              "      <td>1418207</td>\n",
              "    </tr>\n",
              "    <tr>\n",
              "      <th>4</th>\n",
              "      <td>Broome County</td>\n",
              "      <td>190488</td>\n",
              "    </tr>\n",
              "    <tr>\n",
              "      <th>...</th>\n",
              "      <td>...</td>\n",
              "      <td>...</td>\n",
              "    </tr>\n",
              "    <tr>\n",
              "      <th>58</th>\n",
              "      <td>Washington County</td>\n",
              "      <td>61204</td>\n",
              "    </tr>\n",
              "    <tr>\n",
              "      <th>59</th>\n",
              "      <td>Wayne County</td>\n",
              "      <td>89918</td>\n",
              "    </tr>\n",
              "    <tr>\n",
              "      <th>60</th>\n",
              "      <td>Westchester County</td>\n",
              "      <td>967506</td>\n",
              "    </tr>\n",
              "    <tr>\n",
              "      <th>61</th>\n",
              "      <td>Wyoming County</td>\n",
              "      <td>39859</td>\n",
              "    </tr>\n",
              "    <tr>\n",
              "      <th>62</th>\n",
              "      <td>Yates County</td>\n",
              "      <td>24913</td>\n",
              "    </tr>\n",
              "  </tbody>\n",
              "</table>\n",
              "<p>63 rows × 2 columns</p>\n",
              "</div>"
            ],
            "text/plain": [
              "              County Name  population\n",
              "0   Statewide Unallocated           0\n",
              "1           Albany County      305506\n",
              "2         Allegany County       46091\n",
              "3            Bronx County     1418207\n",
              "4           Broome County      190488\n",
              "..                    ...         ...\n",
              "58      Washington County       61204\n",
              "59           Wayne County       89918\n",
              "60     Westchester County      967506\n",
              "61         Wyoming County       39859\n",
              "62           Yates County       24913\n",
              "\n",
              "[63 rows x 2 columns]"
            ]
          },
          "metadata": {
            "tags": []
          },
          "execution_count": 21
        }
      ]
    },
    {
      "cell_type": "code",
      "metadata": {
        "id": "hIiOUBZJHyUW",
        "outputId": "3639ed65-bf32-475b-d862-7193256134fe",
        "colab": {
          "base_uri": "https://localhost:8080/"
        }
      },
      "source": [
        "\n",
        "# Top cases counties\n",
        "county_confirmed_cases = confirmed_cases_NY.merge(NYC_county_population, on='County Name')\n",
        "county_confirmed_cases['normalized_total'] = (1000 * county_confirmed_cases[county_confirmed_cases.columns[-2]]) / county_confirmed_cases['population']  # normalization\n",
        "county_confirmed_cases = county_confirmed_cases.replace([np.inf, -np.inf], np.nan).dropna()\n",
        "\n",
        "# get top 5 counties\n",
        "highest_confirmed_counties = county_confirmed_cases['normalized_total'].sort_values(ascending=False).head() \n",
        "highest_confirmed_counties = county_confirmed_cases.loc[highest_confirmed_counties.index,:]\n",
        "print(highest_confirmed_counties.round())\n",
        "\n",
        "\n",
        "# deaths\n",
        "county_deaths = deaths_NY.merge(NYC_county_population, on='County Name')\n",
        "county_deaths['normalized_total'] =  (10000 * county_deaths[deaths_NY.columns[-1]]) / county_deaths['population'] # normalization\n",
        "\n",
        "county_deaths = county_deaths.replace([np.inf, -np.inf], np.nan).dropna()\n",
        "highest_death_counties = county_deaths['normalized_total'].sort_values(ascending=False).head()\n",
        "highest_death_counties = county_deaths.loc[highest_death_counties.index,:]\n",
        "print(highest_death_counties.round())"
      ],
      "execution_count": 28,
      "outputs": [
        {
          "output_type": "stream",
          "text": [
            "    countyFIPS         County Name State  ...  9/19/20  population  normalized_total\n",
            "44       36087     Rockland County    NY  ...    14801      325789              45.0\n",
            "60       36119  Westchester County    NY  ...    37755      967506              39.0\n",
            "3        36005        Bronx County    NY  ...    52526     1418207              37.0\n",
            "30       36059       Nassau County    NY  ...    46154     1356924              34.0\n",
            "43       36085     Richmond County    NY  ...    15713      476143              33.0\n",
            "\n",
            "[5 rows x 248 columns]\n",
            "    countyFIPS      County Name State  ...  9/19/20  population  normalized_total\n",
            "3        36005     Bronx County    NY  ...     4939     1418207              35.0\n",
            "41       36081    Queens County    NY  ...     7243     2253858              32.0\n",
            "24       36047     Kings County    NY  ...     7315     2559903              29.0\n",
            "43       36085  Richmond County    NY  ...     1085      476143              23.0\n",
            "31       36061  New York County    NY  ...     3173     1628706              19.0\n",
            "\n",
            "[5 rows x 248 columns]\n"
          ],
          "name": "stdout"
        }
      ]
    },
    {
      "cell_type": "markdown",
      "metadata": {
        "id": "Q5B92RhwIlhM"
      },
      "source": [
        "#Plot daily trends (cases and deaths, new cases) of state and top 5 infected counties"
      ]
    },
    {
      "cell_type": "code",
      "metadata": {
        "id": "s3rUPM9INEeb",
        "outputId": "913df677-a0f3-44d3-f359-92e520de378e",
        "colab": {
          "base_uri": "https://localhost:8080/",
          "height": 621
        }
      },
      "source": [
        "fig, ax = plt.subplots()\n",
        "for i, county in enumerate(highest_confirmed_counties['County Name'].unique()):\n",
        "  plt.plot(highest_confirmed_counties.columns[5:-1], highest_confirmed_counties.iloc[i,4:-2], label=county)\n",
        "plt.legend()\n",
        "plt.xlabel('Date')\n",
        "plt.ylabel('Confirmed cases')\n",
        "plt.xticks(rotation=45)\n",
        "plt.title('Confirmed Cases for Counties in NY')\n",
        "ax.xaxis.set_major_locator(plt.MaxNLocator(12))\n",
        "\n",
        "fig, ax = plt.subplots()\n",
        "for i, county in enumerate(highest_death_counties['County Name'].unique()):\n",
        "  plt.plot(highest_death_counties.columns[5:-1], highest_death_counties.iloc[i,4:-2], label=county)\n",
        "plt.legend()\n",
        "plt.xlabel('Date')\n",
        "plt.ylabel('Death')\n",
        "plt.xticks(rotation=45)\n",
        "plt.title('Number of Death for Counties in NY')\n",
        "ax.xaxis.set_major_locator(plt.MaxNLocator(12))"
      ],
      "execution_count": 29,
      "outputs": [
        {
          "output_type": "display_data",
          "data": {
            "image/png": "[encoded data removed]",
            "text/plain": [
              "<Figure size 432x288 with 1 Axes>"
            ]
          },
          "metadata": {
            "tags": [],
            "needs_background": "light"
          }
        },
        {
          "output_type": "display_data",
          "data": {
            "image/png": "[encoded data removed]",
            "text/plain": [
              "<Figure size 432x288 with 1 Axes>"
            ]
          },
          "metadata": {
            "tags": [],
            "needs_background": "light"
          }
        }
      ]
    }
  ]
}