{
 "cells": [
  {
   "cell_type": "code",
   "execution_count": 1,
   "metadata": {},
   "outputs": [],
   "source": [
    "import pandas as pd\n",
    "# pd.options.display.min_rows = 20\n",
    "import numpy as np\n",
    "import matplotlib.pyplot as plt\n",
    "from util import *\n",
    "from scipy.stats.distributions import gamma\n",
    "from scipy.stats.distributions import poisson\n",
    "from scipy.stats.distributions import geom"
   ]
  },
  {
   "cell_type": "code",
   "execution_count": 2,
   "metadata": {},
   "outputs": [],
   "source": [
    "data_path = \"../../data/\"\n",
    "overall = pd.read_csv(data_path + \"superCOVID-19datafame.csv\", index_col = \"countyFIPS\")\n",
    "overall.drop((0), inplace = True)\n",
    "county_names = overall['County Name']\n",
    "overall.drop(columns = ['County Name'], inplace=True)"
   ]
  },
  {
   "cell_type": "code",
   "execution_count": 3,
   "metadata": {},
   "outputs": [],
   "source": [
    "states = overall.groupby('State')"
   ]
  },
  {
   "cell_type": "code",
   "execution_count": 4,
   "metadata": {},
   "outputs": [
    {
     "data": {
      "text/html": [
       "<div>\n",
       "<style scoped>\n",
       "    .dataframe tbody tr th:only-of-type {\n",
       "        vertical-align: middle;\n",
       "    }\n",
       "\n",
       "    .dataframe tbody tr th {\n",
       "        vertical-align: top;\n",
       "    }\n",
       "\n",
       "    .dataframe thead th {\n",
       "        text-align: right;\n",
       "    }\n",
       "</style>\n",
       "<table border=\"1\" class=\"dataframe\">\n",
       "  <thead>\n",
       "    <tr style=\"text-align: right;\">\n",
       "      <th></th>\n",
       "      <th>State</th>\n",
       "      <th>population</th>\n",
       "      <th>stateFIPS</th>\n",
       "      <th>confirmed_1/22/20</th>\n",
       "      <th>confirmed_1/23/20</th>\n",
       "      <th>confirmed_1/24/20</th>\n",
       "      <th>confirmed_1/25/20</th>\n",
       "      <th>confirmed_1/26/20</th>\n",
       "      <th>confirmed_1/27/20</th>\n",
       "      <th>confirmed_1/28/20</th>\n",
       "      <th>...</th>\n",
       "      <th>deaths_10/9/20</th>\n",
       "      <th>deaths_10/10/20</th>\n",
       "      <th>deaths_10/11/20</th>\n",
       "      <th>deaths_10/12/20</th>\n",
       "      <th>deaths_10/13/20</th>\n",
       "      <th>deaths_10/14/20</th>\n",
       "      <th>deaths_10/15/20</th>\n",
       "      <th>deaths_10/16/20</th>\n",
       "      <th>deaths_10/17/20</th>\n",
       "      <th>deaths_10/18/20</th>\n",
       "    </tr>\n",
       "    <tr>\n",
       "      <th>countyFIPS</th>\n",
       "      <th></th>\n",
       "      <th></th>\n",
       "      <th></th>\n",
       "      <th></th>\n",
       "      <th></th>\n",
       "      <th></th>\n",
       "      <th></th>\n",
       "      <th></th>\n",
       "      <th></th>\n",
       "      <th></th>\n",
       "      <th></th>\n",
       "      <th></th>\n",
       "      <th></th>\n",
       "      <th></th>\n",
       "      <th></th>\n",
       "      <th></th>\n",
       "      <th></th>\n",
       "      <th></th>\n",
       "      <th></th>\n",
       "      <th></th>\n",
       "      <th></th>\n",
       "    </tr>\n",
       "  </thead>\n",
       "  <tbody>\n",
       "    <tr>\n",
       "      <th>13001</th>\n",
       "      <td>GA</td>\n",
       "      <td>18386</td>\n",
       "      <td>13</td>\n",
       "      <td>0</td>\n",
       "      <td>0</td>\n",
       "      <td>0</td>\n",
       "      <td>0</td>\n",
       "      <td>0</td>\n",
       "      <td>0</td>\n",
       "      <td>0</td>\n",
       "      <td>...</td>\n",
       "      <td>34</td>\n",
       "      <td>34</td>\n",
       "      <td>34</td>\n",
       "      <td>34</td>\n",
       "      <td>34</td>\n",
       "      <td>30</td>\n",
       "      <td>34</td>\n",
       "      <td>34</td>\n",
       "      <td>34</td>\n",
       "      <td>35</td>\n",
       "    </tr>\n",
       "    <tr>\n",
       "      <th>13003</th>\n",
       "      <td>GA</td>\n",
       "      <td>8165</td>\n",
       "      <td>13</td>\n",
       "      <td>0</td>\n",
       "      <td>0</td>\n",
       "      <td>0</td>\n",
       "      <td>0</td>\n",
       "      <td>0</td>\n",
       "      <td>0</td>\n",
       "      <td>0</td>\n",
       "      <td>...</td>\n",
       "      <td>4</td>\n",
       "      <td>4</td>\n",
       "      <td>4</td>\n",
       "      <td>4</td>\n",
       "      <td>4</td>\n",
       "      <td>3</td>\n",
       "      <td>4</td>\n",
       "      <td>4</td>\n",
       "      <td>5</td>\n",
       "      <td>5</td>\n",
       "    </tr>\n",
       "    <tr>\n",
       "      <th>13005</th>\n",
       "      <td>GA</td>\n",
       "      <td>11164</td>\n",
       "      <td>13</td>\n",
       "      <td>0</td>\n",
       "      <td>0</td>\n",
       "      <td>0</td>\n",
       "      <td>0</td>\n",
       "      <td>0</td>\n",
       "      <td>0</td>\n",
       "      <td>0</td>\n",
       "      <td>...</td>\n",
       "      <td>14</td>\n",
       "      <td>14</td>\n",
       "      <td>14</td>\n",
       "      <td>14</td>\n",
       "      <td>14</td>\n",
       "      <td>14</td>\n",
       "      <td>14</td>\n",
       "      <td>14</td>\n",
       "      <td>14</td>\n",
       "      <td>14</td>\n",
       "    </tr>\n",
       "    <tr>\n",
       "      <th>13007</th>\n",
       "      <td>GA</td>\n",
       "      <td>3038</td>\n",
       "      <td>13</td>\n",
       "      <td>0</td>\n",
       "      <td>0</td>\n",
       "      <td>0</td>\n",
       "      <td>0</td>\n",
       "      <td>0</td>\n",
       "      <td>0</td>\n",
       "      <td>0</td>\n",
       "      <td>...</td>\n",
       "      <td>6</td>\n",
       "      <td>6</td>\n",
       "      <td>6</td>\n",
       "      <td>6</td>\n",
       "      <td>6</td>\n",
       "      <td>4</td>\n",
       "      <td>6</td>\n",
       "      <td>6</td>\n",
       "      <td>6</td>\n",
       "      <td>6</td>\n",
       "    </tr>\n",
       "    <tr>\n",
       "      <th>13009</th>\n",
       "      <td>GA</td>\n",
       "      <td>44890</td>\n",
       "      <td>13</td>\n",
       "      <td>0</td>\n",
       "      <td>0</td>\n",
       "      <td>0</td>\n",
       "      <td>0</td>\n",
       "      <td>0</td>\n",
       "      <td>0</td>\n",
       "      <td>0</td>\n",
       "      <td>...</td>\n",
       "      <td>61</td>\n",
       "      <td>61</td>\n",
       "      <td>61</td>\n",
       "      <td>62</td>\n",
       "      <td>62</td>\n",
       "      <td>58</td>\n",
       "      <td>62</td>\n",
       "      <td>62</td>\n",
       "      <td>63</td>\n",
       "      <td>63</td>\n",
       "    </tr>\n",
       "    <tr>\n",
       "      <th>...</th>\n",
       "      <td>...</td>\n",
       "      <td>...</td>\n",
       "      <td>...</td>\n",
       "      <td>...</td>\n",
       "      <td>...</td>\n",
       "      <td>...</td>\n",
       "      <td>...</td>\n",
       "      <td>...</td>\n",
       "      <td>...</td>\n",
       "      <td>...</td>\n",
       "      <td>...</td>\n",
       "      <td>...</td>\n",
       "      <td>...</td>\n",
       "      <td>...</td>\n",
       "      <td>...</td>\n",
       "      <td>...</td>\n",
       "      <td>...</td>\n",
       "      <td>...</td>\n",
       "      <td>...</td>\n",
       "      <td>...</td>\n",
       "      <td>...</td>\n",
       "    </tr>\n",
       "    <tr>\n",
       "      <th>13313</th>\n",
       "      <td>GA</td>\n",
       "      <td>104628</td>\n",
       "      <td>13</td>\n",
       "      <td>0</td>\n",
       "      <td>0</td>\n",
       "      <td>0</td>\n",
       "      <td>0</td>\n",
       "      <td>0</td>\n",
       "      <td>0</td>\n",
       "      <td>0</td>\n",
       "      <td>...</td>\n",
       "      <td>62</td>\n",
       "      <td>62</td>\n",
       "      <td>62</td>\n",
       "      <td>62</td>\n",
       "      <td>62</td>\n",
       "      <td>61</td>\n",
       "      <td>63</td>\n",
       "      <td>63</td>\n",
       "      <td>63</td>\n",
       "      <td>63</td>\n",
       "    </tr>\n",
       "    <tr>\n",
       "      <th>13315</th>\n",
       "      <td>GA</td>\n",
       "      <td>8635</td>\n",
       "      <td>13</td>\n",
       "      <td>0</td>\n",
       "      <td>0</td>\n",
       "      <td>0</td>\n",
       "      <td>0</td>\n",
       "      <td>0</td>\n",
       "      <td>0</td>\n",
       "      <td>0</td>\n",
       "      <td>...</td>\n",
       "      <td>25</td>\n",
       "      <td>25</td>\n",
       "      <td>25</td>\n",
       "      <td>25</td>\n",
       "      <td>25</td>\n",
       "      <td>23</td>\n",
       "      <td>25</td>\n",
       "      <td>25</td>\n",
       "      <td>25</td>\n",
       "      <td>25</td>\n",
       "    </tr>\n",
       "    <tr>\n",
       "      <th>13317</th>\n",
       "      <td>GA</td>\n",
       "      <td>9777</td>\n",
       "      <td>13</td>\n",
       "      <td>0</td>\n",
       "      <td>0</td>\n",
       "      <td>0</td>\n",
       "      <td>0</td>\n",
       "      <td>0</td>\n",
       "      <td>0</td>\n",
       "      <td>0</td>\n",
       "      <td>...</td>\n",
       "      <td>6</td>\n",
       "      <td>6</td>\n",
       "      <td>6</td>\n",
       "      <td>6</td>\n",
       "      <td>6</td>\n",
       "      <td>5</td>\n",
       "      <td>6</td>\n",
       "      <td>6</td>\n",
       "      <td>6</td>\n",
       "      <td>6</td>\n",
       "    </tr>\n",
       "    <tr>\n",
       "      <th>13319</th>\n",
       "      <td>GA</td>\n",
       "      <td>8954</td>\n",
       "      <td>13</td>\n",
       "      <td>0</td>\n",
       "      <td>0</td>\n",
       "      <td>0</td>\n",
       "      <td>0</td>\n",
       "      <td>0</td>\n",
       "      <td>0</td>\n",
       "      <td>0</td>\n",
       "      <td>...</td>\n",
       "      <td>17</td>\n",
       "      <td>17</td>\n",
       "      <td>17</td>\n",
       "      <td>17</td>\n",
       "      <td>17</td>\n",
       "      <td>17</td>\n",
       "      <td>17</td>\n",
       "      <td>17</td>\n",
       "      <td>17</td>\n",
       "      <td>17</td>\n",
       "    </tr>\n",
       "    <tr>\n",
       "      <th>13321</th>\n",
       "      <td>GA</td>\n",
       "      <td>20247</td>\n",
       "      <td>13</td>\n",
       "      <td>0</td>\n",
       "      <td>0</td>\n",
       "      <td>0</td>\n",
       "      <td>0</td>\n",
       "      <td>0</td>\n",
       "      <td>0</td>\n",
       "      <td>0</td>\n",
       "      <td>...</td>\n",
       "      <td>31</td>\n",
       "      <td>31</td>\n",
       "      <td>31</td>\n",
       "      <td>31</td>\n",
       "      <td>32</td>\n",
       "      <td>30</td>\n",
       "      <td>32</td>\n",
       "      <td>32</td>\n",
       "      <td>32</td>\n",
       "      <td>32</td>\n",
       "    </tr>\n",
       "  </tbody>\n",
       "</table>\n",
       "<p>159 rows × 545 columns</p>\n",
       "</div>"
      ],
      "text/plain": [
       "           State  population  stateFIPS  confirmed_1/22/20  confirmed_1/23/20  \\\n",
       "countyFIPS                                                                      \n",
       "13001         GA       18386         13                  0                  0   \n",
       "13003         GA        8165         13                  0                  0   \n",
       "13005         GA       11164         13                  0                  0   \n",
       "13007         GA        3038         13                  0                  0   \n",
       "13009         GA       44890         13                  0                  0   \n",
       "...          ...         ...        ...                ...                ...   \n",
       "13313         GA      104628         13                  0                  0   \n",
       "13315         GA        8635         13                  0                  0   \n",
       "13317         GA        9777         13                  0                  0   \n",
       "13319         GA        8954         13                  0                  0   \n",
       "13321         GA       20247         13                  0                  0   \n",
       "\n",
       "            confirmed_1/24/20  confirmed_1/25/20  confirmed_1/26/20  \\\n",
       "countyFIPS                                                            \n",
       "13001                       0                  0                  0   \n",
       "13003                       0                  0                  0   \n",
       "13005                       0                  0                  0   \n",
       "13007                       0                  0                  0   \n",
       "13009                       0                  0                  0   \n",
       "...                       ...                ...                ...   \n",
       "13313                       0                  0                  0   \n",
       "13315                       0                  0                  0   \n",
       "13317                       0                  0                  0   \n",
       "13319                       0                  0                  0   \n",
       "13321                       0                  0                  0   \n",
       "\n",
       "            confirmed_1/27/20  confirmed_1/28/20  ...  deaths_10/9/20  \\\n",
       "countyFIPS                                        ...                   \n",
       "13001                       0                  0  ...              34   \n",
       "13003                       0                  0  ...               4   \n",
       "13005                       0                  0  ...              14   \n",
       "13007                       0                  0  ...               6   \n",
       "13009                       0                  0  ...              61   \n",
       "...                       ...                ...  ...             ...   \n",
       "13313                       0                  0  ...              62   \n",
       "13315                       0                  0  ...              25   \n",
       "13317                       0                  0  ...               6   \n",
       "13319                       0                  0  ...              17   \n",
       "13321                       0                  0  ...              31   \n",
       "\n",
       "            deaths_10/10/20  deaths_10/11/20  deaths_10/12/20  \\\n",
       "countyFIPS                                                      \n",
       "13001                    34               34               34   \n",
       "13003                     4                4                4   \n",
       "13005                    14               14               14   \n",
       "13007                     6                6                6   \n",
       "13009                    61               61               62   \n",
       "...                     ...              ...              ...   \n",
       "13313                    62               62               62   \n",
       "13315                    25               25               25   \n",
       "13317                     6                6                6   \n",
       "13319                    17               17               17   \n",
       "13321                    31               31               31   \n",
       "\n",
       "            deaths_10/13/20  deaths_10/14/20  deaths_10/15/20  \\\n",
       "countyFIPS                                                      \n",
       "13001                    34               30               34   \n",
       "13003                     4                3                4   \n",
       "13005                    14               14               14   \n",
       "13007                     6                4                6   \n",
       "13009                    62               58               62   \n",
       "...                     ...              ...              ...   \n",
       "13313                    62               61               63   \n",
       "13315                    25               23               25   \n",
       "13317                     6                5                6   \n",
       "13319                    17               17               17   \n",
       "13321                    32               30               32   \n",
       "\n",
       "            deaths_10/16/20  deaths_10/17/20  deaths_10/18/20  \n",
       "countyFIPS                                                     \n",
       "13001                    34               34               35  \n",
       "13003                     4                5                5  \n",
       "13005                    14               14               14  \n",
       "13007                     6                6                6  \n",
       "13009                    62               63               63  \n",
       "...                     ...              ...              ...  \n",
       "13313                    63               63               63  \n",
       "13315                    25               25               25  \n",
       "13317                     6                6                6  \n",
       "13319                    17               17               17  \n",
       "13321                    32               32               32  \n",
       "\n",
       "[159 rows x 545 columns]"
      ]
     },
     "execution_count": 4,
     "metadata": {},
     "output_type": "execute_result"
    }
   ],
   "source": [
    "states.get_group('GA')"
   ]
  },
  {
   "cell_type": "code",
   "execution_count": null,
   "metadata": {},
   "outputs": [],
   "source": []
  },
  {
   "cell_type": "markdown",
   "metadata": {},
   "source": [
    "## Task 1\n",
    "- Generate weekly statistics (mean, median, mode) for number of cases and deaths across a specific state."
   ]
  },
  {
   "cell_type": "markdown",
   "metadata": {},
   "source": [
    "### Remove counties where population is 0 (causes div by 0 error)"
   ]
  },
  {
   "cell_type": "code",
   "execution_count": 5,
   "metadata": {},
   "outputs": [],
   "source": [
    "overall = drop_zeros(overall)"
   ]
  },
  {
   "cell_type": "markdown",
   "metadata": {},
   "source": [
    "### Normalizing data"
   ]
  },
  {
   "cell_type": "code",
   "execution_count": 6,
   "metadata": {},
   "outputs": [
    {
     "name": "stderr",
     "output_type": "stream",
     "text": [
      "c:\\users\\jamis\\appdata\\local\\programs\\python\\python38-32\\lib\\site-packages\\pandas\\core\\frame.py:4162: SettingWithCopyWarning: \n",
      "A value is trying to be set on a copy of a slice from a DataFrame\n",
      "\n",
      "See the caveats in the documentation: https://pandas.pydata.org/pandas-docs/stable/user_guide/indexing.html#returning-a-view-versus-a-copy\n",
      "  return super().drop(\n"
     ]
    },
    {
     "name": "stdout",
     "output_type": "stream",
     "text": [
      "            confirmed_1/22/20  confirmed_1/23/20  confirmed_1/24/20  \\\n",
      "countyFIPS                                                            \n",
      "13001                     0.0                0.0                0.0   \n",
      "13003                     0.0                0.0                0.0   \n",
      "13005                     0.0                0.0                0.0   \n",
      "13007                     0.0                0.0                0.0   \n",
      "13009                     0.0                0.0                0.0   \n",
      "...                       ...                ...                ...   \n",
      "13313                     0.0                0.0                0.0   \n",
      "13315                     0.0                0.0                0.0   \n",
      "13317                     0.0                0.0                0.0   \n",
      "13319                     0.0                0.0                0.0   \n",
      "13321                     0.0                0.0                0.0   \n",
      "\n",
      "            confirmed_1/25/20  confirmed_1/26/20  confirmed_1/27/20  \\\n",
      "countyFIPS                                                            \n",
      "13001                     0.0                0.0                0.0   \n",
      "13003                     0.0                0.0                0.0   \n",
      "13005                     0.0                0.0                0.0   \n",
      "13007                     0.0                0.0                0.0   \n",
      "13009                     0.0                0.0                0.0   \n",
      "...                       ...                ...                ...   \n",
      "13313                     0.0                0.0                0.0   \n",
      "13315                     0.0                0.0                0.0   \n",
      "13317                     0.0                0.0                0.0   \n",
      "13319                     0.0                0.0                0.0   \n",
      "13321                     0.0                0.0                0.0   \n",
      "\n",
      "            confirmed_1/28/20  confirmed_1/29/20  confirmed_1/30/20  \\\n",
      "countyFIPS                                                            \n",
      "13001                     0.0                0.0                0.0   \n",
      "13003                     0.0                0.0                0.0   \n",
      "13005                     0.0                0.0                0.0   \n",
      "13007                     0.0                0.0                0.0   \n",
      "13009                     0.0                0.0                0.0   \n",
      "...                       ...                ...                ...   \n",
      "13313                     0.0                0.0                0.0   \n",
      "13315                     0.0                0.0                0.0   \n",
      "13317                     0.0                0.0                0.0   \n",
      "13319                     0.0                0.0                0.0   \n",
      "13321                     0.0                0.0                0.0   \n",
      "\n",
      "            confirmed_1/31/20  ...  deaths_10/9/20  deaths_10/10/20  \\\n",
      "countyFIPS                     ...                                    \n",
      "13001                     0.0  ...             0.0              0.0   \n",
      "13003                     0.0  ...             0.0              0.0   \n",
      "13005                     0.0  ...             0.0              0.0   \n",
      "13007                     0.0  ...             0.0              0.0   \n",
      "13009                     0.0  ...             1.0              1.0   \n",
      "...                       ...  ...             ...              ...   \n",
      "13313                     0.0  ...             1.0              1.0   \n",
      "13315                     0.0  ...             0.0              0.0   \n",
      "13317                     0.0  ...             0.0              0.0   \n",
      "13319                     0.0  ...             0.0              0.0   \n",
      "13321                     0.0  ...             0.0              0.0   \n",
      "\n",
      "            deaths_10/11/20  deaths_10/12/20  deaths_10/13/20  \\\n",
      "countyFIPS                                                      \n",
      "13001                   0.0              0.0              0.0   \n",
      "13003                   0.0              0.0              0.0   \n",
      "13005                   0.0              0.0              0.0   \n",
      "13007                   0.0              0.0              0.0   \n",
      "13009                   1.0              1.0              1.0   \n",
      "...                     ...              ...              ...   \n",
      "13313                   1.0              1.0              1.0   \n",
      "13315                   0.0              0.0              0.0   \n",
      "13317                   0.0              0.0              0.0   \n",
      "13319                   0.0              0.0              0.0   \n",
      "13321                   0.0              0.0              0.0   \n",
      "\n",
      "            deaths_10/14/20  deaths_10/15/20  deaths_10/16/20  \\\n",
      "countyFIPS                                                      \n",
      "13001                   0.0              0.0              0.0   \n",
      "13003                   0.0              0.0              0.0   \n",
      "13005                   0.0              0.0              0.0   \n",
      "13007                   0.0              0.0              0.0   \n",
      "13009                   1.0              1.0              1.0   \n",
      "...                     ...              ...              ...   \n",
      "13313                   1.0              1.0              1.0   \n",
      "13315                   0.0              0.0              0.0   \n",
      "13317                   0.0              0.0              0.0   \n",
      "13319                   0.0              0.0              0.0   \n",
      "13321                   0.0              0.0              0.0   \n",
      "\n",
      "            deaths_10/17/20  deaths_10/18/20  \n",
      "countyFIPS                                    \n",
      "13001                   0.0              0.0  \n",
      "13003                   0.0              0.0  \n",
      "13005                   0.0              0.0  \n",
      "13007                   0.0              0.0  \n",
      "13009                   1.0              1.0  \n",
      "...                     ...              ...  \n",
      "13313                   1.0              1.0  \n",
      "13315                   0.0              0.0  \n",
      "13317                   0.0              0.0  \n",
      "13319                   0.0              0.0  \n",
      "13321                   0.0              0.0  \n",
      "\n",
      "[159 rows x 542 columns]\n"
     ]
    }
   ],
   "source": [
    "ga = get_state(overall, 'GA')\n",
    "ga_c = get_cases_from_start(ga)\n",
    "ga_d = get_deaths_from_start(ga)\n",
    "\n",
    "norm_ga = per_N(ga, 100000)\n",
    "norm_ga_c = get_cases_from_start(norm_ga)\n",
    "norm_ga_d = get_deaths_from_start(norm_ga)\n",
    "norm_ga_c['confirmed_1/22/20'] = 0\n",
    "norm_ga_d['deaths_1/22/20'] = 0\n",
    "print(norm_ga)"
   ]
  },
  {
   "cell_type": "markdown",
   "metadata": {},
   "source": [
    "### State comparisons"
   ]
  },
  {
   "cell_type": "code",
   "execution_count": 7,
   "metadata": {},
   "outputs": [
    {
     "name": "stderr",
     "output_type": "stream",
     "text": [
      "c:\\users\\jamis\\appdata\\local\\programs\\python\\python38-32\\lib\\site-packages\\pandas\\core\\frame.py:4162: SettingWithCopyWarning: \n",
      "A value is trying to be set on a copy of a slice from a DataFrame\n",
      "\n",
      "See the caveats in the documentation: https://pandas.pydata.org/pandas-docs/stable/user_guide/indexing.html#returning-a-view-versus-a-copy\n",
      "  return super().drop(\n"
     ]
    },
    {
     "name": "stdout",
     "output_type": "stream",
     "text": [
      "       mean  median  mode\n",
      "state                    \n",
      "GA      1.0     0.0   0.0\n",
      "UT     15.0     1.0   0.0\n",
      "TX      1.0     0.0   0.0 \n",
      "\n",
      "\n",
      "       mean  median  mode\n",
      "state                    \n",
      "GA      0.0     0.0   0.0\n",
      "UT      0.0     0.0   0.0\n",
      "TX      0.0     0.0   0.0\n"
     ]
    }
   ],
   "source": [
    "states = list(overall[\"State\"].unique())\n",
    "states_c, states_d = compare_states(overall, ['GA', 'UT', 'TX'])\n",
    "# states_c, states_d = compare_states(overall, states)\n",
    "print(states_c, '\\n\\n')\n",
    "print(states_d)"
   ]
  },
  {
   "cell_type": "markdown",
   "metadata": {},
   "source": [
    "### Identify counties within the previous state with high case and death rates (using norm by population)"
   ]
  },
  {
   "cell_type": "code",
   "execution_count": 8,
   "metadata": {},
   "outputs": [
    {
     "data": {
      "text/plain": [
       "countyFIPS\n",
       "13121    1.036900\n",
       "13135    1.033210\n",
       "13067    0.734317\n",
       "13089    0.704797\n",
       "13139    0.357934\n",
       "           ...   \n",
       "13249    0.003690\n",
       "13265    0.000000\n",
       "13239    0.000000\n",
       "13307    0.000000\n",
       "13125    0.000000\n",
       "Length: 159, dtype: float64"
      ]
     },
     "execution_count": 8,
     "metadata": {},
     "output_type": "execute_result"
    }
   ],
   "source": [
    "top_infected_counties = norm_ga_c.mean(axis=1).sort_values(ascending=False)\n",
    "top_infected_counties"
   ]
  },
  {
   "cell_type": "code",
   "execution_count": 9,
   "metadata": {},
   "outputs": [
    {
     "data": {
      "text/plain": [
       "countyFIPS\n",
       "13121    0.02214\n",
       "13067    0.01476\n",
       "13135    0.01476\n",
       "13089    0.01476\n",
       "13021    0.00738\n",
       "          ...   \n",
       "13213    0.00000\n",
       "13219    0.00000\n",
       "13221    0.00000\n",
       "13225    0.00000\n",
       "13001    0.00000\n",
       "Length: 159, dtype: float64"
      ]
     },
     "execution_count": 9,
     "metadata": {},
     "output_type": "execute_result"
    }
   ],
   "source": [
    "norm_ga_d.mean(axis=1).sort_values(ascending=False)"
   ]
  },
  {
   "cell_type": "markdown",
   "metadata": {},
   "source": [
    "### Interesting Observation: counties w/ high case rates different from counteis with high death rates\n",
    "### Top 3 county deaths rates seem to be near each other"
   ]
  },
  {
   "cell_type": "markdown",
   "metadata": {},
   "source": [
    "### Plot daily trends of state (using aggregated)"
   ]
  },
  {
   "cell_type": "code",
   "execution_count": 10,
   "metadata": {},
   "outputs": [],
   "source": [
    "num_days = range(1, len(norm_ga_c.columns) + 1)\n",
    "norm_ga_c.columns = num_days\n",
    "norm_ga_d.columns = num_days"
   ]
  },
  {
   "cell_type": "code",
   "execution_count": 11,
   "metadata": {},
   "outputs": [
    {
     "data": {
      "text/plain": [
       "<AxesSubplot:>"
      ]
     },
     "execution_count": 11,
     "metadata": {},
     "output_type": "execute_result"
    },
    {
     "data": {
      "image/png": "[encoded data removed]",
      "text/plain": [
       "<Figure size 432x288 with 1 Axes>"
      ]
     },
     "metadata": {
      "needs_background": "light"
     },
     "output_type": "display_data"
    }
   ],
   "source": [
    "total_cases = norm_ga_c.sum()\n",
    "total_deaths = norm_ga_d.sum()\n",
    "frame = pd.DataFrame(index = range(len(total_cases)))\n",
    "frame['cases'] = list(total_cases)\n",
    "frame['deaths'] = list(total_deaths)\n",
    "frame.plot()"
   ]
  },
  {
   "cell_type": "markdown",
   "metadata": {},
   "source": [
    "###  Why is there a negative value for number of reported deaths on day 268?"
   ]
  },
  {
   "cell_type": "markdown",
   "metadata": {},
   "source": [
    "## Log Normalization\n",
    "- What to do about 0 values when doing log transformation???"
   ]
  },
  {
   "cell_type": "code",
   "execution_count": 12,
   "metadata": {},
   "outputs": [
    {
     "data": {
      "text/plain": [
       "<AxesSubplot:>"
      ]
     },
     "execution_count": 12,
     "metadata": {},
     "output_type": "execute_result"
    },
    {
     "data": {
      "image/png": "[encoded data removed]",
      "text/plain": [
       "<Figure size 432x288 with 1 Axes>"
      ]
     },
     "metadata": {
      "needs_background": "light"
     },
     "output_type": "display_data"
    }
   ],
   "source": [
    "log_cases = norm_ga_c.sum().apply(np.log)\n",
    "log_deaths = norm_ga_d.sum().apply(np.log)\n",
    "log_frame = pd.DataFrame(index = range(len(log_cases)))\n",
    "log_frame['cases'] = list(log_cases)\n",
    "log_frame['deaths'] = list(log_deaths)\n",
    "log_frame.plot()"
   ]
  },
  {
   "cell_type": "code",
   "execution_count": 13,
   "metadata": {},
   "outputs": [
    {
     "name": "stdout",
     "output_type": "stream",
     "text": [
      "            confirmed_1/22/20  confirmed_1/23/20  confirmed_1/24/20  \\\n",
      "countyFIPS                                                            \n",
      "13001                       0                0.0                0.0   \n",
      "13003                       0                0.0                0.0   \n",
      "13005                       0                0.0                0.0   \n",
      "13007                       0                0.0                0.0   \n",
      "13009                       0                0.0                0.0   \n",
      "...                       ...                ...                ...   \n",
      "13313                       0                0.0                0.0   \n",
      "13315                       0                0.0                0.0   \n",
      "13317                       0                0.0                0.0   \n",
      "13319                       0                0.0                0.0   \n",
      "13321                       0                0.0                0.0   \n",
      "\n",
      "            confirmed_1/25/20  confirmed_1/26/20  confirmed_1/27/20  \\\n",
      "countyFIPS                                                            \n",
      "13001                     0.0                0.0                0.0   \n",
      "13003                     0.0                0.0                0.0   \n",
      "13005                     0.0                0.0                0.0   \n",
      "13007                     0.0                0.0                0.0   \n",
      "13009                     0.0                0.0                0.0   \n",
      "...                       ...                ...                ...   \n",
      "13313                     0.0                0.0                0.0   \n",
      "13315                     0.0                0.0                0.0   \n",
      "13317                     0.0                0.0                0.0   \n",
      "13319                     0.0                0.0                0.0   \n",
      "13321                     0.0                0.0                0.0   \n",
      "\n",
      "            confirmed_1/28/20  confirmed_1/29/20  confirmed_1/30/20  \\\n",
      "countyFIPS                                                            \n",
      "13001                     0.0                0.0                0.0   \n",
      "13003                     0.0                0.0                0.0   \n",
      "13005                     0.0                0.0                0.0   \n",
      "13007                     0.0                0.0                0.0   \n",
      "13009                     0.0                0.0                0.0   \n",
      "...                       ...                ...                ...   \n",
      "13313                     0.0                0.0                0.0   \n",
      "13315                     0.0                0.0                0.0   \n",
      "13317                     0.0                0.0                0.0   \n",
      "13319                     0.0                0.0                0.0   \n",
      "13321                     0.0                0.0                0.0   \n",
      "\n",
      "            confirmed_1/31/20  ...  confirmed_10/9/20  confirmed_10/10/20  \\\n",
      "countyFIPS                     ...                                          \n",
      "13001                     0.0  ...                6.0                 6.0   \n",
      "13003                     0.0  ...                3.0                 0.0   \n",
      "13005                     0.0  ...                0.0                 2.0   \n",
      "13007                     0.0  ...                0.0                 0.0   \n",
      "13009                     0.0  ...               12.0                 4.0   \n",
      "...                       ...  ...                ...                 ...   \n",
      "13313                     0.0  ...               39.0                18.0   \n",
      "13315                     0.0  ...                0.0                 0.0   \n",
      "13317                     0.0  ...                2.0                 0.0   \n",
      "13319                     0.0  ...                1.0                 2.0   \n",
      "13321                     0.0  ...                2.0                 4.0   \n",
      "\n",
      "            confirmed_10/11/20  confirmed_10/12/20  confirmed_10/13/20  \\\n",
      "countyFIPS                                                               \n",
      "13001                      7.0                 2.0                 0.0   \n",
      "13003                      2.0                 7.0                 1.0   \n",
      "13005                      0.0                 2.0                 1.0   \n",
      "13007                      0.0                 0.0                 0.0   \n",
      "13009                      3.0                 6.0                 0.0   \n",
      "...                        ...                 ...                 ...   \n",
      "13313                     26.0                 9.0                29.0   \n",
      "13315                      0.0                 0.0                 1.0   \n",
      "13317                      0.0                 0.0                 1.0   \n",
      "13319                      0.0                 1.0                 1.0   \n",
      "13321                      1.0                 4.0                 2.0   \n",
      "\n",
      "            confirmed_10/14/20  confirmed_10/15/20  confirmed_10/16/20  \\\n",
      "countyFIPS                                                               \n",
      "13001                      1.0                 8.0                 6.0   \n",
      "13003                      3.0                 3.0                 0.0   \n",
      "13005                      0.0                 1.0                 5.0   \n",
      "13007                      0.0                 1.0                 0.0   \n",
      "13009                     17.0                 6.0                 6.0   \n",
      "...                        ...                 ...                 ...   \n",
      "13313                     27.0                51.0                34.0   \n",
      "13315                      1.0                 0.0                 0.0   \n",
      "13317                      0.0                 1.0                 4.0   \n",
      "13319                      0.0                 3.0                 0.0   \n",
      "13321                      2.0                 3.0                 3.0   \n",
      "\n",
      "            confirmed_10/17/20  confirmed_10/18/20  \n",
      "countyFIPS                                          \n",
      "13001                      6.0                 1.0  \n",
      "13003                      0.0                 0.0  \n",
      "13005                      0.0                 0.0  \n",
      "13007                      0.0                 1.0  \n",
      "13009                     10.0                 4.0  \n",
      "...                        ...                 ...  \n",
      "13313                     38.0                31.0  \n",
      "13315                      1.0                 0.0  \n",
      "13317                      0.0                 2.0  \n",
      "13319                      0.0                 1.0  \n",
      "13321                      0.0                 2.0  \n",
      "\n",
      "[159 rows x 271 columns]\n"
     ]
    },
    {
     "ename": "AttributeError",
     "evalue": "'NoneType' object has no attribute 'index'",
     "output_type": "error",
     "traceback": [
      "\u001b[1;31m---------------------------------------------------------------------------\u001b[0m",
      "\u001b[1;31mAttributeError\u001b[0m                            Traceback (most recent call last)",
      "\u001b[1;32m<ipython-input-13-472d3bf58218>\u001b[0m in \u001b[0;36m<module>\u001b[1;34m\u001b[0m\n\u001b[1;32m----> 1\u001b[1;33m \u001b[0mprint\u001b[0m\u001b[1;33m(\u001b[0m\u001b[0mga_c\u001b[0m\u001b[1;33m)\u001b[0m\u001b[1;33m.\u001b[0m\u001b[0mindex\u001b[0m\u001b[1;33m\u001b[0m\u001b[1;33m\u001b[0m\u001b[0m\n\u001b[0m",
      "\u001b[1;31mAttributeError\u001b[0m: 'NoneType' object has no attribute 'index'"
     ]
    }
   ],
   "source": [
    "print(ga_c).index"
   ]
  },
  {
   "cell_type": "markdown",
   "metadata": {},
   "source": [
    "### Plot daily trends (cases and deaths, new cases) of state and top 5 infected counties. Utilize aggregrate, normalized by population, and log normalized values."
   ]
  },
  {
   "cell_type": "markdown",
   "metadata": {},
   "source": [
    "- Plot daily trends (cases and deaths, new cases) of state and top 5 infected counties. Utilize aggregrate, normalized by population, and <span style=\"color: red;\">log normalized values.</span>"
   ]
  },
  {
   "cell_type": "code",
   "execution_count": null,
   "metadata": {},
   "outputs": [],
   "source": [
    "five = top_infected_counties.head().index.to_list()\n",
    "\n",
    "for index in five:\n",
    "    total_cases = ga_c.loc[index]\n",
    "    total_deaths = ga_d.loc[index]    \n",
    "    \n",
    "    frame = pd.DataFrame(index = range(len(total_cases)))\n",
    "    frame['cases'] = list(total_cases)\n",
    "    frame['deaths'] = list(total_deaths)\n",
    "    frame.plot()\n",
    "\n",
    "    log_cases = total_cases.apply(np.log)\n",
    "    log_deaths = total_deaths.apply(np.log)\n",
    "    log_frame = pd.DataFrame(index = range(len(total_cases)))\n",
    "    log_frame['cases'] = list(log_cases)\n",
    "    log_frame['deaths'] = list(log_deaths)    \n",
    "    log_frame.plot()"
   ]
  },
  {
   "cell_type": "markdown",
   "metadata": {},
   "source": [
    "## Task 2:\n",
    "- Fit a distribution to the number of COVID-19 cases of a state.\n",
    "- Graphically plot the distribution and describe the distribution statistics.\n",
    "- Describe why the distribution was choosen and its statistics in the report and the notebook."
   ]
  },
  {
   "cell_type": "code",
   "execution_count": null,
   "metadata": {},
   "outputs": [],
   "source": [
    "norm_ga = per_N(ga, 10000)\n",
    "norm_ga_c = get_cases_from_start(norm_ga)\n",
    "norm_ga_d = get_deaths_from_start(norm_ga)\n",
    "norm_ga_c['confirmed_1/22/20'] = 0\n",
    "norm_ga_d['deaths_1/22/20'] = 0"
   ]
  },
  {
   "cell_type": "code",
   "execution_count": null,
   "metadata": {},
   "outputs": [],
   "source": [
    "daily_totals = norm_ga_c.sum().astype('int64')\n",
    "daily_totals"
   ]
  },
  {
   "cell_type": "code",
   "execution_count": null,
   "metadata": {},
   "outputs": [],
   "source": [
    "bin_vals, edges, patches = plt.hist(daily_totals, 8, density=True)"
   ]
  },
  {
   "cell_type": "code",
   "execution_count": null,
   "metadata": {},
   "outputs": [],
   "source": [
    "# arrival_rate = sum(bin_vals)/len(bin_vals)\n",
    "arrival_rate = daily_totals.mean()\n",
    "print(arrival_rate)\n",
    "\n",
    "midpoints = []\n",
    "for i in range(len(edges)-1):\n",
    "    midpoints.append((int((edges[i+1]+edges[i])/2)))\n",
    "\n",
    "print('bin vals: ', bin_vals)\n",
    "print('arrival_rate (mean): ', arrival_rate)\n",
    "print('midpoints: ', midpoints)\n",
    "\n",
    "for i,p in enumerate(midpoints):\n",
    "    print(p, poisson.pmf(p, arrival_rate))"
   ]
  },
  {
   "cell_type": "markdown",
   "metadata": {},
   "source": [
    "- Model a poission distribution of COVID-19 cases and deaths of a state and compare to other 5 states."
   ]
  },
  {
   "cell_type": "markdown",
   "metadata": {},
   "source": [
    "- Model poission distributions for (TOP 5) North Carolina counties COVID-19 in cases and deaths."
   ]
  },
  {
   "cell_type": "markdown",
   "metadata": {},
   "source": [
    "- Perform corelation between Enrichment data valiables and COVID-19 cases to observe any patterns."
   ]
  },
  {
   "cell_type": "markdown",
   "metadata": {},
   "source": [
    "- Perform corelation between Enrichment data valiables and COVID-19 cases to observe any patterns.\n",
    "- Formulate hypothesis between Enrichment data and number of cases to be compared against states. Choose 3 different variables to compare against.\n",
    "    - For example: Does higher employment data lead to higher covid case numbers or more rapid increase in covid cases."
   ]
  },
  {
   "cell_type": "code",
   "execution_count": 22,
   "metadata": {},
   "outputs": [
    {
     "name": "stderr",
     "output_type": "stream",
     "text": [
      "c:\\users\\jamis\\appdata\\local\\programs\\python\\python38-32\\lib\\site-packages\\IPython\\core\\interactiveshell.py:3145: DtypeWarning: Columns (75,76,80,84,89,91,93,95,97,107,109,111,113,115,156,157,158,159,160,161,162,163,164,165,166,167,168,169,170,171,189,191,197,199,203,205,209,211,213,215,217,219,307,308,309,310,311,312,313,314,315,316,317,318,319,320,321,322,324,325,326,327,328,329,330,331,332,333,334,335,336,337,338,339,340,341,342,343,344,345,346,347,348,349,350,351,352,353,354,355,357,358,359,360,361,362,363,364,365,366,367,368,369,370,371,372,373,374,375,376,377,378,379,380,381,382,383,384,385,386,387,388,389,390,391,392,393,394,395,396,397,398,399,400,401,402,403,404,405,406,407,408,409,410,411,412,413,414,415,416,417,418,419,420,421,422,423,424,425,426,427,428,429,431,433,434,435,437,438,439,441,442,443,445,446,447,449,450,453,454,455,456,457,458,459,460,461,462,463,464,465,466,467,468,469,470,471,472,473,474,475,476,477,479,481,483,484,485,487,489,491,493,509,510,511,512,513,514,515,516,517,518,519,520,521,522,523,524,525,526,527,528,529,530,531,532,533,534,535,536,537,538,539,540,541,542,544,546,548,550,552,554,556,558,562,564,566,568,570,572,574,576,578,580) have mixed types.Specify dtype option on import or set low_memory=False.\n",
      "  has_raised = await self.run_ast_nodes(code_ast.body, cell_name,\n"
     ]
    }
   ],
   "source": [
    "## import social and economic sets\n",
    "\n",
    "soc = pd.read_csv(\"../../data/jamison/social_and_economic.csv\", index_col = 'countyFIPS')\n",
    "ga_soc = soc.loc[ga.index]"
   ]
  },
  {
   "cell_type": "code",
   "execution_count": 23,
   "metadata": {},
   "outputs": [
    {
     "data": {
      "text/html": [
       "<div>\n",
       "<style scoped>\n",
       "    .dataframe tbody tr th:only-of-type {\n",
       "        vertical-align: middle;\n",
       "    }\n",
       "\n",
       "    .dataframe tbody tr th {\n",
       "        vertical-align: top;\n",
       "    }\n",
       "\n",
       "    .dataframe thead th {\n",
       "        text-align: right;\n",
       "    }\n",
       "</style>\n",
       "<table border=\"1\" class=\"dataframe\">\n",
       "  <thead>\n",
       "    <tr style=\"text-align: right;\">\n",
       "      <th></th>\n",
       "      <th>Geographic Area Name_x</th>\n",
       "      <th>Estimate!!HOUSEHOLDS BY TYPE!!Total households</th>\n",
       "      <th>Percent Estimate!!HOUSEHOLDS BY TYPE!!Total households</th>\n",
       "      <th>Estimate!!HOUSEHOLDS BY TYPE!!Total households!!Family households (families)</th>\n",
       "      <th>Percent Estimate!!HOUSEHOLDS BY TYPE!!Total households!!Family households (families)</th>\n",
       "      <th>Estimate!!HOUSEHOLDS BY TYPE!!Total households!!Family households (families)!!With own children of the householder under 18 years</th>\n",
       "      <th>Percent Estimate!!HOUSEHOLDS BY TYPE!!Total households!!Family households (families)!!With own children of the householder under 18 years</th>\n",
       "      <th>Estimate!!HOUSEHOLDS BY TYPE!!Total households!!Family households (families)!!Married-couple family</th>\n",
       "      <th>Percent Estimate!!HOUSEHOLDS BY TYPE!!Total households!!Family households (families)!!Married-couple family</th>\n",
       "      <th>Estimate!!HOUSEHOLDS BY TYPE!!Total households!!Family households (families)!!Married-couple family!!With own children of the householder under 18 years</th>\n",
       "      <th>...</th>\n",
       "      <th>deaths_10/9/20</th>\n",
       "      <th>deaths_10/10/20</th>\n",
       "      <th>deaths_10/11/20</th>\n",
       "      <th>deaths_10/12/20</th>\n",
       "      <th>deaths_10/13/20</th>\n",
       "      <th>deaths_10/14/20</th>\n",
       "      <th>deaths_10/15/20</th>\n",
       "      <th>deaths_10/16/20</th>\n",
       "      <th>deaths_10/17/20</th>\n",
       "      <th>deaths_10/18/20</th>\n",
       "    </tr>\n",
       "    <tr>\n",
       "      <th>countyFIPS</th>\n",
       "      <th></th>\n",
       "      <th></th>\n",
       "      <th></th>\n",
       "      <th></th>\n",
       "      <th></th>\n",
       "      <th></th>\n",
       "      <th></th>\n",
       "      <th></th>\n",
       "      <th></th>\n",
       "      <th></th>\n",
       "      <th></th>\n",
       "      <th></th>\n",
       "      <th></th>\n",
       "      <th></th>\n",
       "      <th></th>\n",
       "      <th></th>\n",
       "      <th></th>\n",
       "      <th></th>\n",
       "      <th></th>\n",
       "      <th></th>\n",
       "      <th></th>\n",
       "    </tr>\n",
       "  </thead>\n",
       "  <tbody>\n",
       "    <tr>\n",
       "      <th>13001</th>\n",
       "      <td>Appling County, Georgia</td>\n",
       "      <td>6682.0</td>\n",
       "      <td>6682.0</td>\n",
       "      <td>4934.0</td>\n",
       "      <td>73.8</td>\n",
       "      <td>2000.0</td>\n",
       "      <td>29.9</td>\n",
       "      <td>3619.0</td>\n",
       "      <td>54.2</td>\n",
       "      <td>1218.0</td>\n",
       "      <td>...</td>\n",
       "      <td>34</td>\n",
       "      <td>34</td>\n",
       "      <td>34</td>\n",
       "      <td>34</td>\n",
       "      <td>34</td>\n",
       "      <td>30</td>\n",
       "      <td>34</td>\n",
       "      <td>34</td>\n",
       "      <td>34</td>\n",
       "      <td>35</td>\n",
       "    </tr>\n",
       "    <tr>\n",
       "      <th>13003</th>\n",
       "      <td>Atkinson County, Georgia</td>\n",
       "      <td>2785.0</td>\n",
       "      <td>2785.0</td>\n",
       "      <td>1881.0</td>\n",
       "      <td>67.5</td>\n",
       "      <td>899.0</td>\n",
       "      <td>32.3</td>\n",
       "      <td>1351.0</td>\n",
       "      <td>48.5</td>\n",
       "      <td>583.0</td>\n",
       "      <td>...</td>\n",
       "      <td>4</td>\n",
       "      <td>4</td>\n",
       "      <td>4</td>\n",
       "      <td>4</td>\n",
       "      <td>4</td>\n",
       "      <td>3</td>\n",
       "      <td>4</td>\n",
       "      <td>4</td>\n",
       "      <td>5</td>\n",
       "      <td>5</td>\n",
       "    </tr>\n",
       "    <tr>\n",
       "      <th>13005</th>\n",
       "      <td>Bacon County, Georgia</td>\n",
       "      <td>3966.0</td>\n",
       "      <td>3966.0</td>\n",
       "      <td>2865.0</td>\n",
       "      <td>72.2</td>\n",
       "      <td>1124.0</td>\n",
       "      <td>28.3</td>\n",
       "      <td>2077.0</td>\n",
       "      <td>52.4</td>\n",
       "      <td>631.0</td>\n",
       "      <td>...</td>\n",
       "      <td>14</td>\n",
       "      <td>14</td>\n",
       "      <td>14</td>\n",
       "      <td>14</td>\n",
       "      <td>14</td>\n",
       "      <td>14</td>\n",
       "      <td>14</td>\n",
       "      <td>14</td>\n",
       "      <td>14</td>\n",
       "      <td>14</td>\n",
       "    </tr>\n",
       "    <tr>\n",
       "      <th>13007</th>\n",
       "      <td>Baker County, Georgia</td>\n",
       "      <td>1385.0</td>\n",
       "      <td>1385.0</td>\n",
       "      <td>828.0</td>\n",
       "      <td>59.8</td>\n",
       "      <td>260.0</td>\n",
       "      <td>18.8</td>\n",
       "      <td>595.0</td>\n",
       "      <td>43.0</td>\n",
       "      <td>181.0</td>\n",
       "      <td>...</td>\n",
       "      <td>6</td>\n",
       "      <td>6</td>\n",
       "      <td>6</td>\n",
       "      <td>6</td>\n",
       "      <td>6</td>\n",
       "      <td>4</td>\n",
       "      <td>6</td>\n",
       "      <td>6</td>\n",
       "      <td>6</td>\n",
       "      <td>6</td>\n",
       "    </tr>\n",
       "    <tr>\n",
       "      <th>13009</th>\n",
       "      <td>Baldwin County, Georgia</td>\n",
       "      <td>16122.0</td>\n",
       "      <td>16122.0</td>\n",
       "      <td>9295.0</td>\n",
       "      <td>57.7</td>\n",
       "      <td>3198.0</td>\n",
       "      <td>19.8</td>\n",
       "      <td>6264.0</td>\n",
       "      <td>38.9</td>\n",
       "      <td>1815.0</td>\n",
       "      <td>...</td>\n",
       "      <td>61</td>\n",
       "      <td>61</td>\n",
       "      <td>61</td>\n",
       "      <td>62</td>\n",
       "      <td>62</td>\n",
       "      <td>58</td>\n",
       "      <td>62</td>\n",
       "      <td>62</td>\n",
       "      <td>63</td>\n",
       "      <td>63</td>\n",
       "    </tr>\n",
       "  </tbody>\n",
       "</table>\n",
       "<p>5 rows × 1126 columns</p>\n",
       "</div>"
      ],
      "text/plain": [
       "              Geographic Area Name_x  \\\n",
       "countyFIPS                             \n",
       "13001        Appling County, Georgia   \n",
       "13003       Atkinson County, Georgia   \n",
       "13005          Bacon County, Georgia   \n",
       "13007          Baker County, Georgia   \n",
       "13009        Baldwin County, Georgia   \n",
       "\n",
       "            Estimate!!HOUSEHOLDS BY TYPE!!Total households  \\\n",
       "countyFIPS                                                   \n",
       "13001                                               6682.0   \n",
       "13003                                               2785.0   \n",
       "13005                                               3966.0   \n",
       "13007                                               1385.0   \n",
       "13009                                              16122.0   \n",
       "\n",
       "            Percent Estimate!!HOUSEHOLDS BY TYPE!!Total households  \\\n",
       "countyFIPS                                                           \n",
       "13001                                                  6682.0        \n",
       "13003                                                  2785.0        \n",
       "13005                                                  3966.0        \n",
       "13007                                                  1385.0        \n",
       "13009                                                 16122.0        \n",
       "\n",
       "            Estimate!!HOUSEHOLDS BY TYPE!!Total households!!Family households (families)  \\\n",
       "countyFIPS                                                                                 \n",
       "13001                                                  4934.0                              \n",
       "13003                                                  1881.0                              \n",
       "13005                                                  2865.0                              \n",
       "13007                                                   828.0                              \n",
       "13009                                                  9295.0                              \n",
       "\n",
       "            Percent Estimate!!HOUSEHOLDS BY TYPE!!Total households!!Family households (families)  \\\n",
       "countyFIPS                                                                                         \n",
       "13001                                                    73.8                                      \n",
       "13003                                                    67.5                                      \n",
       "13005                                                    72.2                                      \n",
       "13007                                                    59.8                                      \n",
       "13009                                                    57.7                                      \n",
       "\n",
       "            Estimate!!HOUSEHOLDS BY TYPE!!Total households!!Family households (families)!!With own children of the householder under 18 years  \\\n",
       "countyFIPS                                                                                                                                      \n",
       "13001                                                  2000.0                                                                                   \n",
       "13003                                                   899.0                                                                                   \n",
       "13005                                                  1124.0                                                                                   \n",
       "13007                                                   260.0                                                                                   \n",
       "13009                                                  3198.0                                                                                   \n",
       "\n",
       "            Percent Estimate!!HOUSEHOLDS BY TYPE!!Total households!!Family households (families)!!With own children of the householder under 18 years  \\\n",
       "countyFIPS                                                                                                                                              \n",
       "13001                                                    29.9                                                                                           \n",
       "13003                                                    32.3                                                                                           \n",
       "13005                                                    28.3                                                                                           \n",
       "13007                                                    18.8                                                                                           \n",
       "13009                                                    19.8                                                                                           \n",
       "\n",
       "            Estimate!!HOUSEHOLDS BY TYPE!!Total households!!Family households (families)!!Married-couple family  \\\n",
       "countyFIPS                                                                                                        \n",
       "13001                                                  3619.0                                                     \n",
       "13003                                                  1351.0                                                     \n",
       "13005                                                  2077.0                                                     \n",
       "13007                                                   595.0                                                     \n",
       "13009                                                  6264.0                                                     \n",
       "\n",
       "            Percent Estimate!!HOUSEHOLDS BY TYPE!!Total households!!Family households (families)!!Married-couple family  \\\n",
       "countyFIPS                                                                                                                \n",
       "13001                                                    54.2                                                             \n",
       "13003                                                    48.5                                                             \n",
       "13005                                                    52.4                                                             \n",
       "13007                                                    43.0                                                             \n",
       "13009                                                    38.9                                                             \n",
       "\n",
       "            Estimate!!HOUSEHOLDS BY TYPE!!Total households!!Family households (families)!!Married-couple family!!With own children of the householder under 18 years  \\\n",
       "countyFIPS                                                                                                                                                             \n",
       "13001                                                  1218.0                                                                                                          \n",
       "13003                                                   583.0                                                                                                          \n",
       "13005                                                   631.0                                                                                                          \n",
       "13007                                                   181.0                                                                                                          \n",
       "13009                                                  1815.0                                                                                                          \n",
       "\n",
       "            ...  deaths_10/9/20  deaths_10/10/20  deaths_10/11/20  \\\n",
       "countyFIPS  ...                                                     \n",
       "13001       ...              34               34               34   \n",
       "13003       ...               4                4                4   \n",
       "13005       ...              14               14               14   \n",
       "13007       ...               6                6                6   \n",
       "13009       ...              61               61               61   \n",
       "\n",
       "            deaths_10/12/20  deaths_10/13/20  deaths_10/14/20  \\\n",
       "countyFIPS                                                      \n",
       "13001                    34               34               30   \n",
       "13003                     4                4                3   \n",
       "13005                    14               14               14   \n",
       "13007                     6                6                4   \n",
       "13009                    62               62               58   \n",
       "\n",
       "            deaths_10/15/20  deaths_10/16/20  deaths_10/17/20  deaths_10/18/20  \n",
       "countyFIPS                                                                      \n",
       "13001                    34               34               34               35  \n",
       "13003                     4                4                5                5  \n",
       "13005                    14               14               14               14  \n",
       "13007                     6                6                6                6  \n",
       "13009                    62               62               63               63  \n",
       "\n",
       "[5 rows x 1126 columns]"
      ]
     },
     "execution_count": 23,
     "metadata": {},
     "output_type": "execute_result"
    }
   ],
   "source": [
    "ga_soc.head()"
   ]
  },
  {
   "cell_type": "markdown",
   "metadata": {},
   "source": [
    "### Selecting 3 variables to analyze\n",
    "- computers\n",
    "- education\n",
    "- marital status"
   ]
  },
  {
   "cell_type": "markdown",
   "metadata": {},
   "source": [
    "### Households with a computer and internet"
   ]
  },
  {
   "cell_type": "code",
   "execution_count": 24,
   "metadata": {},
   "outputs": [
    {
     "name": "stdout",
     "output_type": "stream",
     "text": [
      "Percent Estimate!!COMPUTERS AND INTERNET USE!!Total households!!With a broadband Internet subscription\n"
     ]
    },
    {
     "data": {
      "image/png": "[encoded data removed]",
      "text/plain": [
       "<Figure size 432x288 with 1 Axes>"
      ]
     },
     "metadata": {
      "needs_background": "light"
     },
     "output_type": "display_data"
    }
   ],
   "source": [
    "comp =  pd.read_csv(\"../../data/jamison/variables/computer.csv\", index_col=\"countyFIPS\")\n",
    "ga_comp = comp.loc[ga.index]\n",
    "\n",
    "col = ga_comp.columns[-1]\n",
    "print(col)\n",
    "x = ga_comp[col]\n",
    "y = ga_c.mean(axis=1)\n",
    "fig = plt.scatter(x,y)"
   ]
  },
  {
   "cell_type": "markdown",
   "metadata": {},
   "source": [
    "### Slight positive correlation?\n"
   ]
  },
  {
   "cell_type": "markdown",
   "metadata": {},
   "source": [
    "### Households based on level of educational attainment"
   ]
  },
  {
   "cell_type": "code",
   "execution_count": 25,
   "metadata": {},
   "outputs": [
    {
     "name": "stdout",
     "output_type": "stream",
     "text": [
      "Percent Estimate!!EDUCATIONAL ATTAINMENT!!Population 25 years and over!!Less than 9th grade\n"
     ]
    },
    {
     "data": {
      "image/png": "[encoded data removed]",
      "text/plain": [
       "<Figure size 432x288 with 1 Axes>"
      ]
     },
     "metadata": {
      "needs_background": "light"
     },
     "output_type": "display_data"
    }
   ],
   "source": [
    "edu = pd.read_csv(\"../../data/jamison/variables/education_level.csv\", index_col=\"countyFIPS\")\n",
    "ga_edu = edu.loc[ga.index]\n",
    "\n",
    "col = ga_edu.columns[3]\n",
    "print(col)\n",
    "x = ga_edu[col]\n",
    "y = ga_c.mean(axis=1)\n",
    "fig = plt.scatter(x,y)\n"
   ]
  },
  {
   "cell_type": "markdown",
   "metadata": {},
   "source": [
    "### Possible positive correlation"
   ]
  },
  {
   "cell_type": "markdown",
   "metadata": {},
   "source": [
    "### Households with grandparents as primary caretakers"
   ]
  },
  {
   "cell_type": "code",
   "execution_count": 26,
   "metadata": {},
   "outputs": [
    {
     "data": {
      "text/plain": [
       "<matplotlib.collections.PathCollection at 0x1486e178>"
      ]
     },
     "execution_count": 26,
     "metadata": {},
     "output_type": "execute_result"
    },
    {
     "data": {
      "image/png": "[encoded data removed]",
      "text/plain": [
       "<Figure size 432x288 with 1 Axes>"
      ]
     },
     "metadata": {
      "needs_background": "light"
     },
     "output_type": "display_data"
    }
   ],
   "source": [
    "gp = pd.read_csv(\"../../data/jamison/variables/grandparents.csv\", index_col=\"countyFIPS\")\n",
    "ga_gp = gp.loc[ga.index]\n",
    "x = ga_gp[ga_gp.columns[3]]\n",
    "y = ga_c.mean(axis=1)\n",
    "fig = plt.scatter(x,y)"
   ]
  },
  {
   "cell_type": "code",
   "execution_count": 27,
   "metadata": {},
   "outputs": [
    {
     "ename": "NameError",
     "evalue": "name 'ga_d' is not defined",
     "output_type": "error",
     "traceback": [
      "\u001b[1;31m---------------------------------------------------------------------------\u001b[0m",
      "\u001b[1;31mNameError\u001b[0m                                 Traceback (most recent call last)",
      "\u001b[1;32m<ipython-input-27-942a131a4808>\u001b[0m in \u001b[0;36m<module>\u001b[1;34m\u001b[0m\n\u001b[0;32m      2\u001b[0m \u001b[0mga_gp\u001b[0m \u001b[1;33m=\u001b[0m \u001b[0mgp\u001b[0m\u001b[1;33m.\u001b[0m\u001b[0mloc\u001b[0m\u001b[1;33m[\u001b[0m\u001b[0mga\u001b[0m\u001b[1;33m.\u001b[0m\u001b[0mindex\u001b[0m\u001b[1;33m]\u001b[0m\u001b[1;33m\u001b[0m\u001b[1;33m\u001b[0m\u001b[0m\n\u001b[0;32m      3\u001b[0m \u001b[0mx\u001b[0m \u001b[1;33m=\u001b[0m \u001b[0mga_gp\u001b[0m\u001b[1;33m[\u001b[0m\u001b[0mga_gp\u001b[0m\u001b[1;33m.\u001b[0m\u001b[0mcolumns\u001b[0m\u001b[1;33m[\u001b[0m\u001b[1;36m3\u001b[0m\u001b[1;33m]\u001b[0m\u001b[1;33m]\u001b[0m\u001b[1;33m\u001b[0m\u001b[1;33m\u001b[0m\u001b[0m\n\u001b[1;32m----> 4\u001b[1;33m \u001b[0my\u001b[0m \u001b[1;33m=\u001b[0m \u001b[0mga_d\u001b[0m\u001b[1;33m.\u001b[0m\u001b[0mmean\u001b[0m\u001b[1;33m(\u001b[0m\u001b[0maxis\u001b[0m\u001b[1;33m=\u001b[0m\u001b[1;36m1\u001b[0m\u001b[1;33m)\u001b[0m\u001b[1;33m\u001b[0m\u001b[1;33m\u001b[0m\u001b[0m\n\u001b[0m\u001b[0;32m      5\u001b[0m \u001b[0mplt\u001b[0m\u001b[1;33m.\u001b[0m\u001b[0mscatter\u001b[0m\u001b[1;33m(\u001b[0m\u001b[0mx\u001b[0m\u001b[1;33m,\u001b[0m\u001b[0my\u001b[0m\u001b[1;33m,\u001b[0m \u001b[0mc\u001b[0m\u001b[1;33m=\u001b[0m\u001b[1;34m'red'\u001b[0m\u001b[1;33m)\u001b[0m\u001b[1;33m\u001b[0m\u001b[1;33m\u001b[0m\u001b[0m\n",
      "\u001b[1;31mNameError\u001b[0m: name 'ga_d' is not defined"
     ]
    }
   ],
   "source": [
    "gp = pd.read_csv(\"../../data/jamison/variables/grandparents.csv\", index_col=\"countyFIPS\")\n",
    "ga_gp = gp.loc[ga.index]\n",
    "x = ga_gp[ga_gp.columns[3]]\n",
    "y = ga_d.mean(axis=1)\n",
    "plt.scatter(x,y, c='red')"
   ]
  },
  {
   "cell_type": "markdown",
   "metadata": {},
   "source": [
    "### No visible correlation"
   ]
  },
  {
   "cell_type": "code",
   "execution_count": null,
   "metadata": {},
   "outputs": [],
   "source": [
    "school = pd.read_csv(\"../../data/jamison/variables/in_school.csv\", index_col=\"countyFIPS\")\n",
    "ga_school = school.loc[ga.index]\n",
    "\n",
    "# In School\n",
    "col = ga_school.columns[3]\n",
    "print(col)\n",
    "x = ga_school[col]\n",
    "y = ga_c.mean(axis=1)\n",
    "fig = plt.scatter(x,y)"
   ]
  },
  {
   "cell_type": "markdown",
   "metadata": {},
   "source": [
    "### No visible correlation"
   ]
  },
  {
   "cell_type": "markdown",
   "metadata": {},
   "source": [
    "## Notes\n",
    "- need to find a way to prevent NaN columns in first column of weekly analysis (add a dummy col?)\n",
    "- outputting images using plotly and pushing to github\n",
    "- add 2 more states to comparison\n",
    "- use python plotly static image export library\n",
    "- may need to wait til time to compare before normalizing instead of at beginning\n",
    "- how to do log normalizing when data contains 0s (deaths by day); transformed value is -inf\n",
    "https://plotly.com/python/static-image-export/\n"
   ]
  },
  {
   "cell_type": "markdown",
   "metadata": {},
   "source": [
    "## Observations\n",
    "\n",
    "- median values for confirmed smaller than mean (possible effect of outliers)"
   ]
  }
 ],
 "metadata": {
  "kernelspec": {
   "display_name": "Python 3",
   "language": "python",
   "name": "python3"
  },
  "language_info": {
   "codemirror_mode": {
    "name": "ipython",
    "version": 3
   },
   "file_extension": ".py",
   "mimetype": "text/x-python",
   "name": "python",
   "nbconvert_exporter": "python",
   "pygments_lexer": "ipython3",
   "version": "3.8.5"
  }
 },
 "nbformat": 4,
 "nbformat_minor": 4
}
