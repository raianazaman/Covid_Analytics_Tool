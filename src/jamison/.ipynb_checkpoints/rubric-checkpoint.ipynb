{
  "cells": [
    {
      "cell_type": "markdown",
      "source": [
        "## Project Stage - II (Data Modeling and Hypothesis Testing)"
      ],
      "metadata": {}
    },
    {
      "cell_type": "markdown",
      "source": [
        "## Goals\n",
        "\n",
        "The goal of Stage II is to develop formal hypothesis tests for the intuitions you had in Stage I and utilize statistical modeling to prove/disprove them."
      ],
      "metadata": {}
    },
    {
      "cell_type": "markdown",
      "source": [
        "### Tasks:\n",
        "\n",
        "#### Task 1: (50 pts)\n",
        "- Team: (25)\n",
        "    - Compare the weekly statistics (mean, median, mode) for number of new cases and deaths across US. You are calculating mean (rounded to integer value) number of new cases and per week and then calculating (mean, median, mode) for all week taken together. \n",
        "    - Compare the data against other countries of the world. Data at: https://ourworldindata.org/coronavirus-source-data\n",
        "        - Choose atleast 5 similar populations countries to compare. \n",
        "    - Plot daily trends (cases and deaths) of US and compare other countries. Utilize aggregrate, normalized by population, difference in cases (new cases), and log normalized values. \n",
        "    - Identify peak week of the cases and deaths in US and other countries. \n",
        "- Member: (25 pts)\n",
        "    - Generate weekly statistics (mean, median, mode) for number of new cases and deaths across a specific state. \n",
        "    - Compare the data against other states. (normalize by population)\n",
        "    - Identify counties within the previous state with high case and death rates. (normalize by population)\n",
        "    - Plot daily trends (cases and deaths, new cases) of state and top 5 infected counties. Utilize aggregrate, normalized by population, and log normalized values. \n",
        "    \n",
        "#### Task 2: (50 pts)\n",
        "- Member:\n",
        "    - Fit a distribution to the number of COVID-19 cases of a state. \n",
        "        - Graphically plot the distribution and describe the distribution statistics. If using discrete values, calculate the Probability Mass Function for the individual values or range (if using histogram) and plot that.\n",
        "        - Describe why the distribution was choosen and its statistics in the report and the notebook. \n",
        "    - Model a poission distribution of COVID-19 cases and deaths of a state and compare to other 5 states. For example, Number of new cases and deaths per 100,000 populations. (normalize by population, you can choose a different normalization factor that 100,000)\n",
        "    - Model poission distributions for North Carolina counties COVID-19 in cases and deaths. For example, Number of new cases and deaths per 100,000 populations. \n",
        "    - Perform corelation between Enrichment data valiables and COVID-19 cases to observe any patterns.\n",
        "        - You can compare either within your chosen specific state or among different states with the different enrichment variables. Within the state you can compare the county based data to enrichment for correlation. Between states you would need to aggregate to state level data and then perform correlation. \n",
        "    - Formulate hypothesis between Enrichment data and number of cases to be compared against states. Choose 3 different variables to compare against. \n",
        "        - For example: *Does higher employment data lead to higher covid case numbers or more rapid increase in covid cases.* \n",
        "\n",
        "\n",
        "**Deliverable**\n",
        "- Report upload on canvas.\n",
        "- Each member creates separate notebooks for member tasks. Upload all notebooks to Github Repository. \n",
        "\n",
        "*PS: Try to use `Plotly` for your charts. Will be useful in Stage IV*"
      ],
      "metadata": {}
    },
    {
      "cell_type": "markdown",
      "source": [
        "## Deadline: 10/27/2020"
      ],
      "metadata": {}
    },
    {
      "cell_type": "code",
      "source": [],
      "outputs": [],
      "execution_count": null,
      "metadata": {}
    }
  ],
  "metadata": {
    "kernelspec": {
      "display_name": "Python 2",
      "language": "python",
      "name": "python2"
    },
    "language_info": {
      "codemirror_mode": {
        "name": "ipython",
        "version": 2
      },
      "file_extension": ".py",
      "mimetype": "text/x-python",
      "name": "python",
      "nbconvert_exporter": "python",
      "pygments_lexer": "ipython2",
      "version": "2.7.16"
    },
    "nteract": {
      "version": "0.25.1"
    }
  },
  "nbformat": 4,
  "nbformat_minor": 2
}