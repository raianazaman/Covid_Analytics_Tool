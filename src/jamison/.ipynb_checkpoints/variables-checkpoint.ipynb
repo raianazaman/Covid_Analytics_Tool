{
 "cells": [
  {
   "cell_type": "code",
   "execution_count": 1,
   "metadata": {},
   "outputs": [],
   "source": [
    "import pandas as pd\n",
    "import matplotlib.pyplot as plt\n",
    "from util import *"
   ]
  },
  {
   "cell_type": "code",
   "execution_count": 2,
   "metadata": {},
   "outputs": [],
   "source": [
    "df = get_percents(pd.read_csv(\"../../data/jamison/variables/households.csv\", index_col = \"countyFIPS\"))\n",
    "data_path = \"../../data/\"\n",
    "overall = pd.read_csv(data_path + \"superCOVID-19datafame.csv\", index_col = \"countyFIPS\")\n",
    "overall.drop((0), inplace = True)\n",
    "county_names = overall['County Name']\n",
    "overall.drop(columns = ['County Name'], inplace=True)\n",
    "pop = overall['population']"
   ]
  },
  {
   "cell_type": "code",
   "execution_count": 3,
   "metadata": {},
   "outputs": [],
   "source": [
    "df = rename_cols(df)\n",
    "df.drop(columns = list(filter(lambda x: df[x].dtype == \"object\", df.columns)), inplace=True)"
   ]
  },
  {
   "cell_type": "code",
   "execution_count": 4,
   "metadata": {},
   "outputs": [],
   "source": [
    "df.insert(0, 'population', pop)"
   ]
  },
  {
   "cell_type": "code",
   "execution_count": 5,
   "metadata": {},
   "outputs": [],
   "source": [
    "# x1 = per_N(df, 1000)\n",
    "x1 = df\n",
    "x1.drop(columns = \"Total households\", inplace=True)"
   ]
  },
  {
   "cell_type": "code",
   "execution_count": 6,
   "metadata": {},
   "outputs": [],
   "source": [
    "y = get_level_frames(x1, 1)\n",
    "ycols = y.columns\n",
    "y1 = y[ycols[0]]"
   ]
  },
  {
   "cell_type": "code",
   "execution_count": 7,
   "metadata": {},
   "outputs": [
    {
     "name": "stdout",
     "output_type": "stream",
     "text": [
      "3126 3126\n"
     ]
    }
   ],
   "source": [
    "z = get_cases_from_start(overall).sum(axis=1)\n",
    "z.drop([2270, 6000], inplace=True)\n",
    "print(len(y1), len(z))"
   ]
  },
  {
   "cell_type": "code",
   "execution_count": 8,
   "metadata": {},
   "outputs": [
    {
     "data": {
      "text/plain": [
       "countyFIPS\n",
       "1001     1989.0\n",
       "1003     6369.0\n",
       "1005      981.0\n",
       "1007      785.0\n",
       "1009     1827.0\n",
       "          ...  \n",
       "56037     415.0\n",
       "56039     700.0\n",
       "56041     401.0\n",
       "56043     134.0\n",
       "56045      93.0\n",
       "Length: 3126, dtype: float64"
      ]
     },
     "execution_count": 8,
     "metadata": {},
     "output_type": "execute_result"
    }
   ],
   "source": [
    "z"
   ]
  },
  {
   "cell_type": "code",
   "execution_count": 9,
   "metadata": {},
   "outputs": [
    {
     "data": {
      "text/plain": [
       "<matplotlib.collections.PathCollection at 0xc3a0bf8>"
      ]
     },
     "execution_count": 9,
     "metadata": {},
     "output_type": "execute_result"
    },
    {
     "data": {
      "image/png": "[encoded data removed]",
      "text/plain": [
       "<Figure size 432x288 with 1 Axes>"
      ]
     },
     "metadata": {
      "needs_background": "light"
     },
     "output_type": "display_data"
    }
   ],
   "source": [
    "plt.scatter(y1, z)"
   ]
  },
  {
   "cell_type": "code",
   "execution_count": 10,
   "metadata": {},
   "outputs": [],
   "source": [
    "# for each variable\n",
    "### assign levels for each column\n",
    "### create DF for each level"
   ]
  },
  {
   "cell_type": "code",
   "execution_count": null,
   "metadata": {},
   "outputs": [],
   "source": [
    "tmp = get_level_frames(x1, 2)\n",
    "n = len(tmp.columns)\n",
    "print(n)\n",
    "fig, axs = plt.subplots(n, 1, sharey=True)\n",
    "cols = tmp.columns\n",
    "\n",
    "# for i, col in enumerate():\n",
    "#     print(col)\n",
    "#     axs[i].scatter(tmp[cols[i]], z)\n",
    "# #     plt.scatter(tmp[col], z)"
   ]
  },
  {
   "cell_type": "code",
   "execution_count": null,
   "metadata": {},
   "outputs": [],
   "source": []
  },
  {
   "cell_type": "code",
   "execution_count": null,
   "metadata": {},
   "outputs": [],
   "source": []
  }
 ],
 "metadata": {
  "kernelspec": {
   "display_name": "Python 3",
   "language": "python",
   "name": "python3"
  },
  "language_info": {
   "codemirror_mode": {
    "name": "ipython",
    "version": 3
   },
   "file_extension": ".py",
   "mimetype": "text/x-python",
   "name": "python",
   "nbconvert_exporter": "python",
   "pygments_lexer": "ipython3",
   "version": "3.8.5"
  }
 },
 "nbformat": 4,
 "nbformat_minor": 4
}
