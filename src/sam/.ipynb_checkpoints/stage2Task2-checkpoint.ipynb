{
 "cells": [
  {
   "cell_type": "markdown",
   "metadata": {},
   "source": [
    "# Stage 2\n",
    "## Task 2"
   ]
  },
  {
   "cell_type": "markdown",
   "metadata": {},
   "source": [
    "Import modules and data"
   ]
  },
  {
   "cell_type": "code",
   "execution_count": 1,
   "metadata": {},
   "outputs": [],
   "source": [
    "import pandas as pd\n",
    "import numpy as np\n",
    "import matplotlib.pyplot as plt\n",
    "import sys\n",
    "import plotly.express as px\n",
    "from matplotlib import pyplot as plt\n",
    "from scipy.optimize import curve_fit\n",
    "from scipy.stats import poisson\n",
    "from scipy.stats import skew \n",
    "# import seaborn\n",
    "import seaborn as sns\n"
   ]
  },
  {
   "cell_type": "code",
   "execution_count": 2,
   "metadata": {},
   "outputs": [],
   "source": [
    "#define the utilities folder for team functions\n",
    "sys.path.insert(0,\"../util\")\n",
    "import teamsuperfileutilslib as tLibs"
   ]
  },
  {
   "cell_type": "markdown",
   "metadata": {},
   "source": [
    "## Functions"
   ]
  },
  {
   "cell_type": "code",
   "execution_count": 3,
   "metadata": {},
   "outputs": [],
   "source": [
    "def weeklydata(statedata):\n",
    "    #first calculate the sum of each day, then get the daily increament\n",
    "    #get a grad total of the days for the confirmed cases.\n",
    "    weekdata = pd.DataFrame(statedata[statedata.columns[5:]].sum(axis=0)).reset_index()\n",
    "\n",
    "    #rename column\n",
    "    weekdata.columns=[\"date\",\"increament\"]\n",
    "    \n",
    "    #get the daily increament\n",
    "    weekdata.increament = weekdata.increament.diff()\n",
    "\n",
    "    #Fill any missing \"na\" values with 0\n",
    "    weekdata.increament = weekdata.increament.fillna(value=0)\n",
    "\n",
    "    #convert date column to a pandas date\n",
    "    weekdata[\"date\"] = pd.to_datetime(weekdata[\"date\"])\n",
    "\n",
    "    #insert a new column with the week number\n",
    "    weekdata[\"week_number\"] = weekdata[\"date\"].dt.isocalendar().week\n",
    "\n",
    "    #convet to int\n",
    "    weekdata[\"increament\"] = weekdata[\"increament\"].apply(np.int64)\n",
    "    \n",
    "    return weekdata"
   ]
  },
  {
   "cell_type": "markdown",
   "metadata": {},
   "source": [
    "## Load Data"
   ]
  },
  {
   "cell_type": "code",
   "execution_count": 4,
   "metadata": {},
   "outputs": [
    {
     "data": {
      "text/html": [
       "<div>\n",
       "<style scoped>\n",
       "    .dataframe tbody tr th:only-of-type {\n",
       "        vertical-align: middle;\n",
       "    }\n",
       "\n",
       "    .dataframe tbody tr th {\n",
       "        vertical-align: top;\n",
       "    }\n",
       "\n",
       "    .dataframe thead th {\n",
       "        text-align: right;\n",
       "    }\n",
       "</style>\n",
       "<table border=\"1\" class=\"dataframe\">\n",
       "  <thead>\n",
       "    <tr style=\"text-align: right;\">\n",
       "      <th></th>\n",
       "      <th>date</th>\n",
       "      <th>increament</th>\n",
       "      <th>week_number</th>\n",
       "    </tr>\n",
       "  </thead>\n",
       "  <tbody>\n",
       "    <tr>\n",
       "      <th>261</th>\n",
       "      <td>2020-10-09</td>\n",
       "      <td>1834</td>\n",
       "      <td>41</td>\n",
       "    </tr>\n",
       "    <tr>\n",
       "      <th>262</th>\n",
       "      <td>2020-10-10</td>\n",
       "      <td>1925</td>\n",
       "      <td>41</td>\n",
       "    </tr>\n",
       "    <tr>\n",
       "      <th>263</th>\n",
       "      <td>2020-10-11</td>\n",
       "      <td>1570</td>\n",
       "      <td>41</td>\n",
       "    </tr>\n",
       "    <tr>\n",
       "      <th>264</th>\n",
       "      <td>2020-10-12</td>\n",
       "      <td>1574</td>\n",
       "      <td>42</td>\n",
       "    </tr>\n",
       "    <tr>\n",
       "      <th>265</th>\n",
       "      <td>2020-10-13</td>\n",
       "      <td>1572</td>\n",
       "      <td>42</td>\n",
       "    </tr>\n",
       "    <tr>\n",
       "      <th>266</th>\n",
       "      <td>2020-10-14</td>\n",
       "      <td>1165</td>\n",
       "      <td>42</td>\n",
       "    </tr>\n",
       "    <tr>\n",
       "      <th>267</th>\n",
       "      <td>2020-10-15</td>\n",
       "      <td>1947</td>\n",
       "      <td>42</td>\n",
       "    </tr>\n",
       "    <tr>\n",
       "      <th>268</th>\n",
       "      <td>2020-10-16</td>\n",
       "      <td>2298</td>\n",
       "      <td>42</td>\n",
       "    </tr>\n",
       "    <tr>\n",
       "      <th>269</th>\n",
       "      <td>2020-10-17</td>\n",
       "      <td>2485</td>\n",
       "      <td>42</td>\n",
       "    </tr>\n",
       "    <tr>\n",
       "      <th>270</th>\n",
       "      <td>2020-10-18</td>\n",
       "      <td>1605</td>\n",
       "      <td>42</td>\n",
       "    </tr>\n",
       "  </tbody>\n",
       "</table>\n",
       "</div>"
      ],
      "text/plain": [
       "          date  increament  week_number\n",
       "261 2020-10-09        1834           41\n",
       "262 2020-10-10        1925           41\n",
       "263 2020-10-11        1570           41\n",
       "264 2020-10-12        1574           42\n",
       "265 2020-10-13        1572           42\n",
       "266 2020-10-14        1165           42\n",
       "267 2020-10-15        1947           42\n",
       "268 2020-10-16        2298           42\n",
       "269 2020-10-17        2485           42\n",
       "270 2020-10-18        1605           42"
      ]
     },
     "execution_count": 4,
     "metadata": {},
     "output_type": "execute_result"
    }
   ],
   "source": [
    "#read indiana weekly data\n",
    "superdata =  pd.read_csv(\"..\\..\\data\\superCOVID-19datafame.csv\")\n",
    "indiana = superdata.loc[superdata['State'].isin(['IN'])]\n",
    "north_ca = superdata.loc[superdata['State'].isin(['NC'])]\n",
    "ohio = superdata.loc[superdata['State'].isin(['OH'])]\n",
    "michigan = superdata.loc[superdata['State'].isin(['MI'])]\n",
    "kentucky = superdata.loc[superdata['State'].isin(['KY'])]\n",
    "illinois = superdata.loc[superdata['State'].isin(['IL'])]\n",
    "nc_cc, nc_d = tLibs.get_confirmed_deaths_tuple_df_with_population(north_ca)\n",
    "in_cc, in_d = tLibs.get_confirmed_deaths_tuple_df_with_population(indiana)\n",
    "oh_cc, oh_d = tLibs.get_confirmed_deaths_tuple_df_with_population(ohio)\n",
    "mi_cc, mi_d = tLibs.get_confirmed_deaths_tuple_df_with_population(michigan)\n",
    "ky_cc, ky_d = tLibs.get_confirmed_deaths_tuple_df_with_population(kentucky)\n",
    "il_cc, il_d = tLibs.get_confirmed_deaths_tuple_df_with_population(illinois)\n",
    "in_cc_w = weeklydata(in_cc)\n",
    "in_d_w = weeklydata(in_d)\n",
    "nc_cc_w = weeklydata(nc_cc)\n",
    "nc_d_w = weeklydata(nc_d)\n",
    "oh_cc_w = weeklydata(oh_cc)\n",
    "oh_d_w = weeklydata(oh_d)\n",
    "mi_cc_w = weeklydata(mi_cc)\n",
    "mi_d_w = weeklydata(mi_d)\n",
    "ky_cc_w = weeklydata(ky_cc)\n",
    "ky_d_w = weeklydata(ky_d)\n",
    "il_cc_w = weeklydata(il_cc)\n",
    "il_d_w = weeklydata(il_d)\n",
    "in_cc_w.tail(10)"
   ]
  },
  {
   "cell_type": "code",
   "execution_count": 5,
   "metadata": {},
   "outputs": [
    {
     "data": {
      "text/html": [
       "<div>\n",
       "<style scoped>\n",
       "    .dataframe tbody tr th:only-of-type {\n",
       "        vertical-align: middle;\n",
       "    }\n",
       "\n",
       "    .dataframe tbody tr th {\n",
       "        vertical-align: top;\n",
       "    }\n",
       "\n",
       "    .dataframe thead th {\n",
       "        text-align: right;\n",
       "    }\n",
       "</style>\n",
       "<table border=\"1\" class=\"dataframe\">\n",
       "  <thead>\n",
       "    <tr style=\"text-align: right;\">\n",
       "      <th></th>\n",
       "      <th>increament</th>\n",
       "    </tr>\n",
       "    <tr>\n",
       "      <th>week_number</th>\n",
       "      <th></th>\n",
       "    </tr>\n",
       "  </thead>\n",
       "  <tbody>\n",
       "    <tr>\n",
       "      <th>33</th>\n",
       "      <td>870</td>\n",
       "    </tr>\n",
       "    <tr>\n",
       "      <th>34</th>\n",
       "      <td>788</td>\n",
       "    </tr>\n",
       "    <tr>\n",
       "      <th>35</th>\n",
       "      <td>1380</td>\n",
       "    </tr>\n",
       "    <tr>\n",
       "      <th>36</th>\n",
       "      <td>935</td>\n",
       "    </tr>\n",
       "    <tr>\n",
       "      <th>37</th>\n",
       "      <td>868</td>\n",
       "    </tr>\n",
       "    <tr>\n",
       "      <th>38</th>\n",
       "      <td>815</td>\n",
       "    </tr>\n",
       "    <tr>\n",
       "      <th>39</th>\n",
       "      <td>857</td>\n",
       "    </tr>\n",
       "    <tr>\n",
       "      <th>40</th>\n",
       "      <td>1116</td>\n",
       "    </tr>\n",
       "    <tr>\n",
       "      <th>41</th>\n",
       "      <td>1418</td>\n",
       "    </tr>\n",
       "    <tr>\n",
       "      <th>42</th>\n",
       "      <td>1807</td>\n",
       "    </tr>\n",
       "  </tbody>\n",
       "</table>\n",
       "</div>"
      ],
      "text/plain": [
       "             increament\n",
       "week_number            \n",
       "33                  870\n",
       "34                  788\n",
       "35                 1380\n",
       "36                  935\n",
       "37                  868\n",
       "38                  815\n",
       "39                  857\n",
       "40                 1116\n",
       "41                 1418\n",
       "42                 1807"
      ]
     },
     "execution_count": 5,
     "metadata": {},
     "output_type": "execute_result"
    }
   ],
   "source": [
    "#Group confirmed cases and deaths by week number and calculate the mean for each state data\n",
    "in_cc_g = in_cc_w.groupby(\"week_number\").increament.agg([\"mean\"])\n",
    "in_cc_g.rename(columns = {\"mean\":\"increament\"}, inplace = True) \n",
    "in_cc_g.increament = in_cc_g.increament.round()\n",
    "in_cc_g.increament = in_cc_g.increament.astype(int)\n",
    "\n",
    "oh_cc_g = oh_cc_w.groupby(\"week_number\").increament.agg([\"mean\"])\n",
    "oh_cc_g.rename(columns = {\"mean\":\"increament\"}, inplace = True) \n",
    "oh_cc_g.increament = oh_cc_g.increament.round()\n",
    "oh_cc_g.increament = oh_cc_g.increament.astype(int)\n",
    "\n",
    "mi_cc_g = mi_cc_w.groupby(\"week_number\").increament.agg([\"mean\"])\n",
    "mi_cc_g.rename(columns = {\"mean\":\"increament\"}, inplace = True) \n",
    "mi_cc_g.increament = mi_cc_g.increament.round()\n",
    "mi_cc_g.increament = mi_cc_g.increament.astype(int)\n",
    "\n",
    "ky_cc_g = ky_cc_w.groupby(\"week_number\").increament.agg([\"mean\"])\n",
    "ky_cc_g.rename(columns = {\"mean\":\"increament\"}, inplace = True) \n",
    "ky_cc_g.increament = ky_cc_g.increament.round()\n",
    "ky_cc_g.increament = ky_cc_g.increament.astype(int)\n",
    "\n",
    "il_cc_g = il_cc_w.groupby(\"week_number\").increament.agg([\"mean\"])\n",
    "il_cc_g.rename(columns = {\"mean\":\"increament\"}, inplace = True) \n",
    "il_cc_g.increament = il_cc_g.increament.round()\n",
    "il_cc_g.increament = il_cc_g.increament.astype(int)\n",
    "\n",
    "nc_cc_g = nc_cc_w.groupby(\"week_number\").increament.agg([\"mean\"])\n",
    "nc_cc_g.rename(columns = {\"mean\":\"increament\"}, inplace = True) \n",
    "nc_cc_g.increament = nc_cc_g.increament.round()\n",
    "nc_cc_g.increament = nc_cc_g.increament.astype(int)\n",
    "\n",
    "nc_d_g = nc_d_w.groupby(\"week_number\").increament.agg([\"mean\"])\n",
    "nc_d_g.rename(columns = {\"mean\":\"increament\"}, inplace = True) \n",
    "nc_d_g.increament = nc_d_g.increament.round()\n",
    "nc_d_g.increament = nc_d_g.increament.astype(int)\n",
    "\n",
    "in_cc_g.tail(10)"
   ]
  },
  {
   "cell_type": "code",
   "execution_count": 16,
   "metadata": {},
   "outputs": [
    {
     "data": {
      "application/vnd.plotly.v1+json": {
       "config": {
        "plotlyServerURL": "https://plot.ly"
       },
       "data": [
        {
         "hovertemplate": "variable=norm<br>week_number=%{x}<br>value=%{y}<extra></extra>",
         "legendgroup": "norm",
         "line": {
          "color": "#636efa",
          "dash": "solid"
         },
         "mode": "lines",
         "name": "norm",
         "orientation": "v",
         "showlegend": true,
         "type": "scatter",
         "x": [
          4,
          5,
          6,
          7,
          8,
          9,
          10,
          11,
          12,
          13,
          14,
          15,
          16,
          17,
          18,
          19,
          20,
          21,
          22,
          23,
          24,
          25,
          26,
          27,
          28,
          29,
          30,
          31,
          32,
          33,
          34,
          35,
          36,
          37,
          38,
          39,
          40,
          41,
          42
         ],
         "xaxis": "x",
         "y": [
          0,
          0,
          0,
          0,
          0,
          0,
          0,
          0.002970788680522722,
          0.038620252846795385,
          0.2792541359691359,
          0.6149532568682035,
          0.744182564470942,
          0.6981353399228397,
          0.8080545211021805,
          1.044232221203737,
          0.8897512098165553,
          0.7724050569359078,
          0.764978085234601,
          0.678825213499442,
          0.5986139191253285,
          0.53474196249409,
          0.5317711738135673,
          0.5332565681538286,
          0.6535735097149988,
          0.764978085234601,
          1.0531445872453051,
          1.2284211193961458,
          1.1794031061675208,
          1.3606212156794066,
          1.292293076027384,
          1.1704907401259526,
          2.049844189560678,
          1.3888437081443727,
          1.2893222873468615,
          1.2105963873130092,
          1.2729829496039864,
          1.6577000837316789,
          2.1062891744906103,
          2.6841075728522794
         ],
         "yaxis": "y"
        }
       ],
       "layout": {
        "legend": {
         "title": {
          "text": "variable"
         },
         "tracegroupgap": 0
        },
        "template": {
         "data": {
          "bar": [
           {
            "error_x": {
             "color": "#2a3f5f"
            },
            "error_y": {
             "color": "#2a3f5f"
            },
            "marker": {
             "line": {
              "color": "#E5ECF6",
              "width": 0.5
             }
            },
            "type": "bar"
           }
          ],
          "barpolar": [
           {
            "marker": {
             "line": {
              "color": "#E5ECF6",
              "width": 0.5
             }
            },
            "type": "barpolar"
           }
          ],
          "carpet": [
           {
            "aaxis": {
             "endlinecolor": "#2a3f5f",
             "gridcolor": "white",
             "linecolor": "white",
             "minorgridcolor": "white",
             "startlinecolor": "#2a3f5f"
            },
            "baxis": {
             "endlinecolor": "#2a3f5f",
             "gridcolor": "white",
             "linecolor": "white",
             "minorgridcolor": "white",
             "startlinecolor": "#2a3f5f"
            },
            "type": "carpet"
           }
          ],
          "choropleth": [
           {
            "colorbar": {
             "outlinewidth": 0,
             "ticks": ""
            },
            "type": "choropleth"
           }
          ],
          "contour": [
           {
            "colorbar": {
             "outlinewidth": 0,
             "ticks": ""
            },
            "colorscale": [
             [
              0,
              "#0d0887"
             ],
             [
              0.1111111111111111,
              "#46039f"
             ],
             [
              0.2222222222222222,
              "#7201a8"
             ],
             [
              0.3333333333333333,
              "#9c179e"
             ],
             [
              0.4444444444444444,
              "#bd3786"
             ],
             [
              0.5555555555555556,
              "#d8576b"
             ],
             [
              0.6666666666666666,
              "#ed7953"
             ],
             [
              0.7777777777777778,
              "#fb9f3a"
             ],
             [
              0.8888888888888888,
              "#fdca26"
             ],
             [
              1,
              "#f0f921"
             ]
            ],
            "type": "contour"
           }
          ],
          "contourcarpet": [
           {
            "colorbar": {
             "outlinewidth": 0,
             "ticks": ""
            },
            "type": "contourcarpet"
           }
          ],
          "heatmap": [
           {
            "colorbar": {
             "outlinewidth": 0,
             "ticks": ""
            },
            "colorscale": [
             [
              0,
              "#0d0887"
             ],
             [
              0.1111111111111111,
              "#46039f"
             ],
             [
              0.2222222222222222,
              "#7201a8"
             ],
             [
              0.3333333333333333,
              "#9c179e"
             ],
             [
              0.4444444444444444,
              "#bd3786"
             ],
             [
              0.5555555555555556,
              "#d8576b"
             ],
             [
              0.6666666666666666,
              "#ed7953"
             ],
             [
              0.7777777777777778,
              "#fb9f3a"
             ],
             [
              0.8888888888888888,
              "#fdca26"
             ],
             [
              1,
              "#f0f921"
             ]
            ],
            "type": "heatmap"
           }
          ],
          "heatmapgl": [
           {
            "colorbar": {
             "outlinewidth": 0,
             "ticks": ""
            },
            "colorscale": [
             [
              0,
              "#0d0887"
             ],
             [
              0.1111111111111111,
              "#46039f"
             ],
             [
              0.2222222222222222,
              "#7201a8"
             ],
             [
              0.3333333333333333,
              "#9c179e"
             ],
             [
              0.4444444444444444,
              "#bd3786"
             ],
             [
              0.5555555555555556,
              "#d8576b"
             ],
             [
              0.6666666666666666,
              "#ed7953"
             ],
             [
              0.7777777777777778,
              "#fb9f3a"
             ],
             [
              0.8888888888888888,
              "#fdca26"
             ],
             [
              1,
              "#f0f921"
             ]
            ],
            "type": "heatmapgl"
           }
          ],
          "histogram": [
           {
            "marker": {
             "colorbar": {
              "outlinewidth": 0,
              "ticks": ""
             }
            },
            "type": "histogram"
           }
          ],
          "histogram2d": [
           {
            "colorbar": {
             "outlinewidth": 0,
             "ticks": ""
            },
            "colorscale": [
             [
              0,
              "#0d0887"
             ],
             [
              0.1111111111111111,
              "#46039f"
             ],
             [
              0.2222222222222222,
              "#7201a8"
             ],
             [
              0.3333333333333333,
              "#9c179e"
             ],
             [
              0.4444444444444444,
              "#bd3786"
             ],
             [
              0.5555555555555556,
              "#d8576b"
             ],
             [
              0.6666666666666666,
              "#ed7953"
             ],
             [
              0.7777777777777778,
              "#fb9f3a"
             ],
             [
              0.8888888888888888,
              "#fdca26"
             ],
             [
              1,
              "#f0f921"
             ]
            ],
            "type": "histogram2d"
           }
          ],
          "histogram2dcontour": [
           {
            "colorbar": {
             "outlinewidth": 0,
             "ticks": ""
            },
            "colorscale": [
             [
              0,
              "#0d0887"
             ],
             [
              0.1111111111111111,
              "#46039f"
             ],
             [
              0.2222222222222222,
              "#7201a8"
             ],
             [
              0.3333333333333333,
              "#9c179e"
             ],
             [
              0.4444444444444444,
              "#bd3786"
             ],
             [
              0.5555555555555556,
              "#d8576b"
             ],
             [
              0.6666666666666666,
              "#ed7953"
             ],
             [
              0.7777777777777778,
              "#fb9f3a"
             ],
             [
              0.8888888888888888,
              "#fdca26"
             ],
             [
              1,
              "#f0f921"
             ]
            ],
            "type": "histogram2dcontour"
           }
          ],
          "mesh3d": [
           {
            "colorbar": {
             "outlinewidth": 0,
             "ticks": ""
            },
            "type": "mesh3d"
           }
          ],
          "parcoords": [
           {
            "line": {
             "colorbar": {
              "outlinewidth": 0,
              "ticks": ""
             }
            },
            "type": "parcoords"
           }
          ],
          "pie": [
           {
            "automargin": true,
            "type": "pie"
           }
          ],
          "scatter": [
           {
            "marker": {
             "colorbar": {
              "outlinewidth": 0,
              "ticks": ""
             }
            },
            "type": "scatter"
           }
          ],
          "scatter3d": [
           {
            "line": {
             "colorbar": {
              "outlinewidth": 0,
              "ticks": ""
             }
            },
            "marker": {
             "colorbar": {
              "outlinewidth": 0,
              "ticks": ""
             }
            },
            "type": "scatter3d"
           }
          ],
          "scattercarpet": [
           {
            "marker": {
             "colorbar": {
              "outlinewidth": 0,
              "ticks": ""
             }
            },
            "type": "scattercarpet"
           }
          ],
          "scattergeo": [
           {
            "marker": {
             "colorbar": {
              "outlinewidth": 0,
              "ticks": ""
             }
            },
            "type": "scattergeo"
           }
          ],
          "scattergl": [
           {
            "marker": {
             "colorbar": {
              "outlinewidth": 0,
              "ticks": ""
             }
            },
            "type": "scattergl"
           }
          ],
          "scattermapbox": [
           {
            "marker": {
             "colorbar": {
              "outlinewidth": 0,
              "ticks": ""
             }
            },
            "type": "scattermapbox"
           }
          ],
          "scatterpolar": [
           {
            "marker": {
             "colorbar": {
              "outlinewidth": 0,
              "ticks": ""
             }
            },
            "type": "scatterpolar"
           }
          ],
          "scatterpolargl": [
           {
            "marker": {
             "colorbar": {
              "outlinewidth": 0,
              "ticks": ""
             }
            },
            "type": "scatterpolargl"
           }
          ],
          "scatterternary": [
           {
            "marker": {
             "colorbar": {
              "outlinewidth": 0,
              "ticks": ""
             }
            },
            "type": "scatterternary"
           }
          ],
          "surface": [
           {
            "colorbar": {
             "outlinewidth": 0,
             "ticks": ""
            },
            "colorscale": [
             [
              0,
              "#0d0887"
             ],
             [
              0.1111111111111111,
              "#46039f"
             ],
             [
              0.2222222222222222,
              "#7201a8"
             ],
             [
              0.3333333333333333,
              "#9c179e"
             ],
             [
              0.4444444444444444,
              "#bd3786"
             ],
             [
              0.5555555555555556,
              "#d8576b"
             ],
             [
              0.6666666666666666,
              "#ed7953"
             ],
             [
              0.7777777777777778,
              "#fb9f3a"
             ],
             [
              0.8888888888888888,
              "#fdca26"
             ],
             [
              1,
              "#f0f921"
             ]
            ],
            "type": "surface"
           }
          ],
          "table": [
           {
            "cells": {
             "fill": {
              "color": "#EBF0F8"
             },
             "line": {
              "color": "white"
             }
            },
            "header": {
             "fill": {
              "color": "#C8D4E3"
             },
             "line": {
              "color": "white"
             }
            },
            "type": "table"
           }
          ]
         },
         "layout": {
          "annotationdefaults": {
           "arrowcolor": "#2a3f5f",
           "arrowhead": 0,
           "arrowwidth": 1
          },
          "coloraxis": {
           "colorbar": {
            "outlinewidth": 0,
            "ticks": ""
           }
          },
          "colorscale": {
           "diverging": [
            [
             0,
             "#8e0152"
            ],
            [
             0.1,
             "#c51b7d"
            ],
            [
             0.2,
             "#de77ae"
            ],
            [
             0.3,
             "#f1b6da"
            ],
            [
             0.4,
             "#fde0ef"
            ],
            [
             0.5,
             "#f7f7f7"
            ],
            [
             0.6,
             "#e6f5d0"
            ],
            [
             0.7,
             "#b8e186"
            ],
            [
             0.8,
             "#7fbc41"
            ],
            [
             0.9,
             "#4d9221"
            ],
            [
             1,
             "#276419"
            ]
           ],
           "sequential": [
            [
             0,
             "#0d0887"
            ],
            [
             0.1111111111111111,
             "#46039f"
            ],
            [
             0.2222222222222222,
             "#7201a8"
            ],
            [
             0.3333333333333333,
             "#9c179e"
            ],
            [
             0.4444444444444444,
             "#bd3786"
            ],
            [
             0.5555555555555556,
             "#d8576b"
            ],
            [
             0.6666666666666666,
             "#ed7953"
            ],
            [
             0.7777777777777778,
             "#fb9f3a"
            ],
            [
             0.8888888888888888,
             "#fdca26"
            ],
            [
             1,
             "#f0f921"
            ]
           ],
           "sequentialminus": [
            [
             0,
             "#0d0887"
            ],
            [
             0.1111111111111111,
             "#46039f"
            ],
            [
             0.2222222222222222,
             "#7201a8"
            ],
            [
             0.3333333333333333,
             "#9c179e"
            ],
            [
             0.4444444444444444,
             "#bd3786"
            ],
            [
             0.5555555555555556,
             "#d8576b"
            ],
            [
             0.6666666666666666,
             "#ed7953"
            ],
            [
             0.7777777777777778,
             "#fb9f3a"
            ],
            [
             0.8888888888888888,
             "#fdca26"
            ],
            [
             1,
             "#f0f921"
            ]
           ]
          },
          "colorway": [
           "#636efa",
           "#EF553B",
           "#00cc96",
           "#ab63fa",
           "#FFA15A",
           "#19d3f3",
           "#FF6692",
           "#B6E880",
           "#FF97FF",
           "#FECB52"
          ],
          "font": {
           "color": "#2a3f5f"
          },
          "geo": {
           "bgcolor": "white",
           "lakecolor": "white",
           "landcolor": "#E5ECF6",
           "showlakes": true,
           "showland": true,
           "subunitcolor": "white"
          },
          "hoverlabel": {
           "align": "left"
          },
          "hovermode": "closest",
          "mapbox": {
           "style": "light"
          },
          "paper_bgcolor": "white",
          "plot_bgcolor": "#E5ECF6",
          "polar": {
           "angularaxis": {
            "gridcolor": "white",
            "linecolor": "white",
            "ticks": ""
           },
           "bgcolor": "#E5ECF6",
           "radialaxis": {
            "gridcolor": "white",
            "linecolor": "white",
            "ticks": ""
           }
          },
          "scene": {
           "xaxis": {
            "backgroundcolor": "#E5ECF6",
            "gridcolor": "white",
            "gridwidth": 2,
            "linecolor": "white",
            "showbackground": true,
            "ticks": "",
            "zerolinecolor": "white"
           },
           "yaxis": {
            "backgroundcolor": "#E5ECF6",
            "gridcolor": "white",
            "gridwidth": 2,
            "linecolor": "white",
            "showbackground": true,
            "ticks": "",
            "zerolinecolor": "white"
           },
           "zaxis": {
            "backgroundcolor": "#E5ECF6",
            "gridcolor": "white",
            "gridwidth": 2,
            "linecolor": "white",
            "showbackground": true,
            "ticks": "",
            "zerolinecolor": "white"
           }
          },
          "shapedefaults": {
           "line": {
            "color": "#2a3f5f"
           }
          },
          "ternary": {
           "aaxis": {
            "gridcolor": "white",
            "linecolor": "white",
            "ticks": ""
           },
           "baxis": {
            "gridcolor": "white",
            "linecolor": "white",
            "ticks": ""
           },
           "bgcolor": "#E5ECF6",
           "caxis": {
            "gridcolor": "white",
            "linecolor": "white",
            "ticks": ""
           }
          },
          "title": {
           "x": 0.05
          },
          "xaxis": {
           "automargin": true,
           "gridcolor": "white",
           "linecolor": "white",
           "ticks": "",
           "title": {
            "standoff": 15
           },
           "zerolinecolor": "white",
           "zerolinewidth": 2
          },
          "yaxis": {
           "automargin": true,
           "gridcolor": "white",
           "linecolor": "white",
           "ticks": "",
           "title": {
            "standoff": 15
           },
           "zerolinecolor": "white",
           "zerolinewidth": 2
          }
         }
        },
        "title": {
         "text": "Indiana Confirmed Case data"
        },
        "xaxis": {
         "anchor": "y",
         "domain": [
          0,
          1
         ],
         "title": {
          "text": "week_number"
         }
        },
        "yaxis": {
         "anchor": "x",
         "domain": [
          0,
          1
         ],
         "title": {
          "text": "value"
         }
        }
       }
      },
      "text/html": [
       "<div>                            <div id=\"d5463212-a1b9-445b-a2a4-d9ee63b7dae2\" class=\"plotly-graph-div\" style=\"height:525px; width:100%;\"></div>            <script type=\"text/javascript\">                require([\"plotly\"], function(Plotly) {                    window.PLOTLYENV=window.PLOTLYENV || {};                                    if (document.getElementById(\"d5463212-a1b9-445b-a2a4-d9ee63b7dae2\")) {                    Plotly.newPlot(                        \"d5463212-a1b9-445b-a2a4-d9ee63b7dae2\",                        [{\"hovertemplate\": \"variable=norm<br>week_number=%{x}<br>value=%{y}<extra></extra>\", \"legendgroup\": \"norm\", \"line\": {\"color\": \"#636efa\", \"dash\": \"solid\"}, \"mode\": \"lines\", \"name\": \"norm\", \"orientation\": \"v\", \"showlegend\": true, \"type\": \"scatter\", \"x\": [4, 5, 6, 7, 8, 9, 10, 11, 12, 13, 14, 15, 16, 17, 18, 19, 20, 21, 22, 23, 24, 25, 26, 27, 28, 29, 30, 31, 32, 33, 34, 35, 36, 37, 38, 39, 40, 41, 42], \"xaxis\": \"x\", \"y\": [0.0, 0.0, 0.0, 0.0, 0.0, 0.0, 0.0, 0.002970788680522722, 0.038620252846795385, 0.2792541359691359, 0.6149532568682035, 0.744182564470942, 0.6981353399228397, 0.8080545211021805, 1.044232221203737, 0.8897512098165553, 0.7724050569359078, 0.764978085234601, 0.678825213499442, 0.5986139191253285, 0.53474196249409, 0.5317711738135673, 0.5332565681538286, 0.6535735097149988, 0.764978085234601, 1.0531445872453051, 1.2284211193961458, 1.1794031061675208, 1.3606212156794066, 1.292293076027384, 1.1704907401259526, 2.049844189560678, 1.3888437081443727, 1.2893222873468615, 1.2105963873130092, 1.2729829496039864, 1.6577000837316789, 2.1062891744906103, 2.6841075728522794], \"yaxis\": \"y\"}],                        {\"legend\": {\"title\": {\"text\": \"variable\"}, \"tracegroupgap\": 0}, \"template\": {\"data\": {\"bar\": [{\"error_x\": {\"color\": \"#2a3f5f\"}, \"error_y\": {\"color\": \"#2a3f5f\"}, \"marker\": {\"line\": {\"color\": \"#E5ECF6\", \"width\": 0.5}}, \"type\": \"bar\"}], \"barpolar\": [{\"marker\": {\"line\": {\"color\": \"#E5ECF6\", \"width\": 0.5}}, \"type\": \"barpolar\"}], \"carpet\": [{\"aaxis\": {\"endlinecolor\": \"#2a3f5f\", \"gridcolor\": \"white\", \"linecolor\": \"white\", \"minorgridcolor\": \"white\", \"startlinecolor\": \"#2a3f5f\"}, \"baxis\": {\"endlinecolor\": \"#2a3f5f\", \"gridcolor\": \"white\", \"linecolor\": \"white\", \"minorgridcolor\": \"white\", \"startlinecolor\": \"#2a3f5f\"}, \"type\": \"carpet\"}], \"choropleth\": [{\"colorbar\": {\"outlinewidth\": 0, \"ticks\": \"\"}, \"type\": \"choropleth\"}], \"contour\": [{\"colorbar\": {\"outlinewidth\": 0, \"ticks\": \"\"}, \"colorscale\": [[0.0, \"#0d0887\"], [0.1111111111111111, \"#46039f\"], [0.2222222222222222, \"#7201a8\"], [0.3333333333333333, \"#9c179e\"], [0.4444444444444444, \"#bd3786\"], [0.5555555555555556, \"#d8576b\"], [0.6666666666666666, \"#ed7953\"], [0.7777777777777778, \"#fb9f3a\"], [0.8888888888888888, \"#fdca26\"], [1.0, \"#f0f921\"]], \"type\": \"contour\"}], \"contourcarpet\": [{\"colorbar\": {\"outlinewidth\": 0, \"ticks\": \"\"}, \"type\": \"contourcarpet\"}], \"heatmap\": [{\"colorbar\": {\"outlinewidth\": 0, \"ticks\": \"\"}, \"colorscale\": [[0.0, \"#0d0887\"], [0.1111111111111111, \"#46039f\"], [0.2222222222222222, \"#7201a8\"], [0.3333333333333333, \"#9c179e\"], [0.4444444444444444, \"#bd3786\"], [0.5555555555555556, \"#d8576b\"], [0.6666666666666666, \"#ed7953\"], [0.7777777777777778, \"#fb9f3a\"], [0.8888888888888888, \"#fdca26\"], [1.0, \"#f0f921\"]], \"type\": \"heatmap\"}], \"heatmapgl\": [{\"colorbar\": {\"outlinewidth\": 0, \"ticks\": \"\"}, \"colorscale\": [[0.0, \"#0d0887\"], [0.1111111111111111, \"#46039f\"], [0.2222222222222222, \"#7201a8\"], [0.3333333333333333, \"#9c179e\"], [0.4444444444444444, \"#bd3786\"], [0.5555555555555556, \"#d8576b\"], [0.6666666666666666, \"#ed7953\"], [0.7777777777777778, \"#fb9f3a\"], [0.8888888888888888, \"#fdca26\"], [1.0, \"#f0f921\"]], \"type\": \"heatmapgl\"}], \"histogram\": [{\"marker\": {\"colorbar\": {\"outlinewidth\": 0, \"ticks\": \"\"}}, \"type\": \"histogram\"}], \"histogram2d\": [{\"colorbar\": {\"outlinewidth\": 0, \"ticks\": \"\"}, \"colorscale\": [[0.0, \"#0d0887\"], [0.1111111111111111, \"#46039f\"], [0.2222222222222222, \"#7201a8\"], [0.3333333333333333, \"#9c179e\"], [0.4444444444444444, \"#bd3786\"], [0.5555555555555556, \"#d8576b\"], [0.6666666666666666, \"#ed7953\"], [0.7777777777777778, \"#fb9f3a\"], [0.8888888888888888, \"#fdca26\"], [1.0, \"#f0f921\"]], \"type\": \"histogram2d\"}], \"histogram2dcontour\": [{\"colorbar\": {\"outlinewidth\": 0, \"ticks\": \"\"}, \"colorscale\": [[0.0, \"#0d0887\"], [0.1111111111111111, \"#46039f\"], [0.2222222222222222, \"#7201a8\"], [0.3333333333333333, \"#9c179e\"], [0.4444444444444444, \"#bd3786\"], [0.5555555555555556, \"#d8576b\"], [0.6666666666666666, \"#ed7953\"], [0.7777777777777778, \"#fb9f3a\"], [0.8888888888888888, \"#fdca26\"], [1.0, \"#f0f921\"]], \"type\": \"histogram2dcontour\"}], \"mesh3d\": [{\"colorbar\": {\"outlinewidth\": 0, \"ticks\": \"\"}, \"type\": \"mesh3d\"}], \"parcoords\": [{\"line\": {\"colorbar\": {\"outlinewidth\": 0, \"ticks\": \"\"}}, \"type\": \"parcoords\"}], \"pie\": [{\"automargin\": true, \"type\": \"pie\"}], \"scatter\": [{\"marker\": {\"colorbar\": {\"outlinewidth\": 0, \"ticks\": \"\"}}, \"type\": \"scatter\"}], \"scatter3d\": [{\"line\": {\"colorbar\": {\"outlinewidth\": 0, \"ticks\": \"\"}}, \"marker\": {\"colorbar\": {\"outlinewidth\": 0, \"ticks\": \"\"}}, \"type\": \"scatter3d\"}], \"scattercarpet\": [{\"marker\": {\"colorbar\": {\"outlinewidth\": 0, \"ticks\": \"\"}}, \"type\": \"scattercarpet\"}], \"scattergeo\": [{\"marker\": {\"colorbar\": {\"outlinewidth\": 0, \"ticks\": \"\"}}, \"type\": \"scattergeo\"}], \"scattergl\": [{\"marker\": {\"colorbar\": {\"outlinewidth\": 0, \"ticks\": \"\"}}, \"type\": \"scattergl\"}], \"scattermapbox\": [{\"marker\": {\"colorbar\": {\"outlinewidth\": 0, \"ticks\": \"\"}}, \"type\": \"scattermapbox\"}], \"scatterpolar\": [{\"marker\": {\"colorbar\": {\"outlinewidth\": 0, \"ticks\": \"\"}}, \"type\": \"scatterpolar\"}], \"scatterpolargl\": [{\"marker\": {\"colorbar\": {\"outlinewidth\": 0, \"ticks\": \"\"}}, \"type\": \"scatterpolargl\"}], \"scatterternary\": [{\"marker\": {\"colorbar\": {\"outlinewidth\": 0, \"ticks\": \"\"}}, \"type\": \"scatterternary\"}], \"surface\": [{\"colorbar\": {\"outlinewidth\": 0, \"ticks\": \"\"}, \"colorscale\": [[0.0, \"#0d0887\"], [0.1111111111111111, \"#46039f\"], [0.2222222222222222, \"#7201a8\"], [0.3333333333333333, \"#9c179e\"], [0.4444444444444444, \"#bd3786\"], [0.5555555555555556, \"#d8576b\"], [0.6666666666666666, \"#ed7953\"], [0.7777777777777778, \"#fb9f3a\"], [0.8888888888888888, \"#fdca26\"], [1.0, \"#f0f921\"]], \"type\": \"surface\"}], \"table\": [{\"cells\": {\"fill\": {\"color\": \"#EBF0F8\"}, \"line\": {\"color\": \"white\"}}, \"header\": {\"fill\": {\"color\": \"#C8D4E3\"}, \"line\": {\"color\": \"white\"}}, \"type\": \"table\"}]}, \"layout\": {\"annotationdefaults\": {\"arrowcolor\": \"#2a3f5f\", \"arrowhead\": 0, \"arrowwidth\": 1}, \"coloraxis\": {\"colorbar\": {\"outlinewidth\": 0, \"ticks\": \"\"}}, \"colorscale\": {\"diverging\": [[0, \"#8e0152\"], [0.1, \"#c51b7d\"], [0.2, \"#de77ae\"], [0.3, \"#f1b6da\"], [0.4, \"#fde0ef\"], [0.5, \"#f7f7f7\"], [0.6, \"#e6f5d0\"], [0.7, \"#b8e186\"], [0.8, \"#7fbc41\"], [0.9, \"#4d9221\"], [1, \"#276419\"]], \"sequential\": [[0.0, \"#0d0887\"], [0.1111111111111111, \"#46039f\"], [0.2222222222222222, \"#7201a8\"], [0.3333333333333333, \"#9c179e\"], [0.4444444444444444, \"#bd3786\"], [0.5555555555555556, \"#d8576b\"], [0.6666666666666666, \"#ed7953\"], [0.7777777777777778, \"#fb9f3a\"], [0.8888888888888888, \"#fdca26\"], [1.0, \"#f0f921\"]], \"sequentialminus\": [[0.0, \"#0d0887\"], [0.1111111111111111, \"#46039f\"], [0.2222222222222222, \"#7201a8\"], [0.3333333333333333, \"#9c179e\"], [0.4444444444444444, \"#bd3786\"], [0.5555555555555556, \"#d8576b\"], [0.6666666666666666, \"#ed7953\"], [0.7777777777777778, \"#fb9f3a\"], [0.8888888888888888, \"#fdca26\"], [1.0, \"#f0f921\"]]}, \"colorway\": [\"#636efa\", \"#EF553B\", \"#00cc96\", \"#ab63fa\", \"#FFA15A\", \"#19d3f3\", \"#FF6692\", \"#B6E880\", \"#FF97FF\", \"#FECB52\"], \"font\": {\"color\": \"#2a3f5f\"}, \"geo\": {\"bgcolor\": \"white\", \"lakecolor\": \"white\", \"landcolor\": \"#E5ECF6\", \"showlakes\": true, \"showland\": true, \"subunitcolor\": \"white\"}, \"hoverlabel\": {\"align\": \"left\"}, \"hovermode\": \"closest\", \"mapbox\": {\"style\": \"light\"}, \"paper_bgcolor\": \"white\", \"plot_bgcolor\": \"#E5ECF6\", \"polar\": {\"angularaxis\": {\"gridcolor\": \"white\", \"linecolor\": \"white\", \"ticks\": \"\"}, \"bgcolor\": \"#E5ECF6\", \"radialaxis\": {\"gridcolor\": \"white\", \"linecolor\": \"white\", \"ticks\": \"\"}}, \"scene\": {\"xaxis\": {\"backgroundcolor\": \"#E5ECF6\", \"gridcolor\": \"white\", \"gridwidth\": 2, \"linecolor\": \"white\", \"showbackground\": true, \"ticks\": \"\", \"zerolinecolor\": \"white\"}, \"yaxis\": {\"backgroundcolor\": \"#E5ECF6\", \"gridcolor\": \"white\", \"gridwidth\": 2, \"linecolor\": \"white\", \"showbackground\": true, \"ticks\": \"\", \"zerolinecolor\": \"white\"}, \"zaxis\": {\"backgroundcolor\": \"#E5ECF6\", \"gridcolor\": \"white\", \"gridwidth\": 2, \"linecolor\": \"white\", \"showbackground\": true, \"ticks\": \"\", \"zerolinecolor\": \"white\"}}, \"shapedefaults\": {\"line\": {\"color\": \"#2a3f5f\"}}, \"ternary\": {\"aaxis\": {\"gridcolor\": \"white\", \"linecolor\": \"white\", \"ticks\": \"\"}, \"baxis\": {\"gridcolor\": \"white\", \"linecolor\": \"white\", \"ticks\": \"\"}, \"bgcolor\": \"#E5ECF6\", \"caxis\": {\"gridcolor\": \"white\", \"linecolor\": \"white\", \"ticks\": \"\"}}, \"title\": {\"x\": 0.05}, \"xaxis\": {\"automargin\": true, \"gridcolor\": \"white\", \"linecolor\": \"white\", \"ticks\": \"\", \"title\": {\"standoff\": 15}, \"zerolinecolor\": \"white\", \"zerolinewidth\": 2}, \"yaxis\": {\"automargin\": true, \"gridcolor\": \"white\", \"linecolor\": \"white\", \"ticks\": \"\", \"title\": {\"standoff\": 15}, \"zerolinecolor\": \"white\", \"zerolinewidth\": 2}}}, \"title\": {\"text\": \"Indiana Confirmed Case data\"}, \"xaxis\": {\"anchor\": \"y\", \"domain\": [0.0, 1.0], \"title\": {\"text\": \"week_number\"}}, \"yaxis\": {\"anchor\": \"x\", \"domain\": [0.0, 1.0], \"title\": {\"text\": \"value\"}}},                        {\"responsive\": true}                    ).then(function(){\n",
       "                            \n",
       "var gd = document.getElementById('d5463212-a1b9-445b-a2a4-d9ee63b7dae2');\n",
       "var x = new MutationObserver(function (mutations, observer) {{\n",
       "        var display = window.getComputedStyle(gd).display;\n",
       "        if (!display || display === 'none') {{\n",
       "            console.log([gd, 'removed!']);\n",
       "            Plotly.purge(gd);\n",
       "            observer.disconnect();\n",
       "        }}\n",
       "}});\n",
       "\n",
       "// Listen for the removal of the full notebook cells\n",
       "var notebookContainer = gd.closest('#notebook-container');\n",
       "if (notebookContainer) {{\n",
       "    x.observe(notebookContainer, {childList: true});\n",
       "}}\n",
       "\n",
       "// Listen for the clearing of the current output cell\n",
       "var outputEl = gd.closest('.output');\n",
       "if (outputEl) {{\n",
       "    x.observe(outputEl, {childList: true});\n",
       "}}\n",
       "\n",
       "                        })                };                });            </script>        </div>"
      ]
     },
     "metadata": {},
     "output_type": "display_data"
    },
    {
     "data": {
      "text/plain": [
       "array([[<matplotlib.axes._subplots.AxesSubplot object at 0x000001FF94B26C50>]],\n",
       "      dtype=object)"
      ]
     },
     "execution_count": 16,
     "metadata": {},
     "output_type": "execute_result"
    },
    {
     "data": {
      "image/png": "[encoded data removed]",
      "text/plain": [
       "<Figure size 864x576 with 1 Axes>"
      ]
     },
     "metadata": {
      "needs_background": "light"
     },
     "output_type": "display_data"
    }
   ],
   "source": [
    "#get total population of states\n",
    "in_cc_pop = in_cc[\"population\"].sum()\n",
    "mi_cc_pop = mi_cc[\"population\"].sum()\n",
    "ky_cc_pop = ky_cc[\"population\"].sum()\n",
    "oh_cc_pop = oh_cc[\"population\"].sum()\n",
    "il_cc_pop = il_cc[\"population\"].sum()\n",
    "\n",
    "nc_cc_pop = nc_cc[\"population\"].sum()\n",
    "nc_d_pop = nc_d[\"population\"].sum()\n",
    "#print(in_cc_pop)\n",
    "\n",
    "#calculate the normalized data for case confirmed\n",
    "\n",
    "in_cc_g[\"norm\"] = in_cc_g.increament/in_cc_pop*10000\n",
    "oh_cc_g[\"norm\"] = oh_cc_g.increament/in_cc_pop*10000\n",
    "mi_cc_g[\"norm\"] = mi_cc_g.increament/in_cc_pop*10000\n",
    "ky_cc_g[\"norm\"] = ky_cc_g.increament/in_cc_pop*10000\n",
    "il_cc_g[\"norm\"] = il_cc_g.increament/in_cc_pop*10000\n",
    "\n",
    "nc_cc_g[\"norm\"] = nc_cc_g.increament/in_cc_pop*10000\n",
    "nc_d_g[\"norm\"] = nc_d_g.increament/in_cc_pop*10000\n",
    "\n",
    "\n",
    "fig_in_cc = px.line(in_cc_g.drop(columns=\"increament\"), title='Indiana Confirmed Case data')\n",
    "fig_in_cc.show()\n",
    "#in_cc_g[\"log_norm\"] = np.where(in_cc_g.increament==0,0,np.log(in_cc_g.increament/in_cc_pop*10000000))\n",
    "#plot data\n",
    "in_cc_g.drop(columns = \"increament\").hist(density = True, bins = 20, ec = 'black', figsize = (12,8))"
   ]
  },
  {
   "cell_type": "markdown",
   "metadata": {},
   "source": [
    "Since data are skewed, discrete and positive valued, with time period, we are using poisson distribution."
   ]
  },
  {
   "cell_type": "code",
   "execution_count": 7,
   "metadata": {},
   "outputs": [],
   "source": [
    "#calculate moments\n",
    "cc_mean = in_cc_g[\"norm\"].mean()\n",
    "oh_mean = oh_cc_g[\"norm\"].mean()\n",
    "mi_mean = mi_cc_g[\"norm\"].mean()\n",
    "il_mean = il_cc_g[\"norm\"].mean()\n",
    "ky_mean = ky_cc_g[\"norm\"].mean()\n",
    "\n",
    "cc_var = in_cc_g[\"norm\"].var()\n",
    "cc_sum = in_cc_g[\"norm\"].sum()\n",
    "cc_skew = skew(in_cc_g[\"norm\"])\n",
    "cc_kurt = in_cc_g[\"norm\"].kurt(axis = 0)\n",
    "#print(in_cc_g[\"increament\"].mean())"
   ]
  },
  {
   "cell_type": "code",
   "execution_count": 14,
   "metadata": {
    "scrolled": true
   },
   "outputs": [
    {
     "name": "stderr",
     "output_type": "stream",
     "text": [
      "c:\\users\\samzhang\\miniconda3\\lib\\site-packages\\seaborn\\distributions.py:2551: FutureWarning:\n",
      "\n",
      "`distplot` is a deprecated function and will be removed in a future version. Please adapt your code to use either `displot` (a figure-level function with similar flexibility) or `histplot` (an axes-level function for histograms).\n",
      "\n"
     ]
    },
    {
     "data": {
      "text/plain": [
       "[Text(0, 0.5, 'Frequency'), Text(0.5, 0, 'Poisson Distribution Indiana')]"
      ]
     },
     "execution_count": 14,
     "metadata": {},
     "output_type": "execute_result"
    },
    {
     "data": {
      "image/png": "[encoded data removed]",
      "text/plain": [
       "<Figure size 432x288 with 1 Axes>"
      ]
     },
     "metadata": {
      "needs_background": "light"
     },
     "output_type": "display_data"
    }
   ],
   "source": [
    "#generate poisson distribution of indiana confirmed cases.\n",
    "data_poisson = poisson.rvs(mu=cc_mean, size=39)\n",
    "ax = sns.distplot(data_poisson)\n",
    "ax.set(xlabel='Poisson Distribution Indiana', ylabel='Frequency')\n"
   ]
  },
  {
   "cell_type": "code",
   "execution_count": 9,
   "metadata": {},
   "outputs": [
    {
     "data": {
      "text/plain": [
       "[<matplotlib.lines.Line2D at 0x1ff94bc3f98>]"
      ]
     },
     "execution_count": 9,
     "metadata": {},
     "output_type": "execute_result"
    },
    {
     "data": {
      "image/png": "[encoded data removed]",
      "text/plain": [
       "<Figure size 432x288 with 1 Axes>"
      ]
     },
     "metadata": {
      "needs_background": "light"
     },
     "output_type": "display_data"
    }
   ],
   "source": [
    "plt.plot(in_cc_g[\"norm\"], poisson.pmf(in_cc_g[\"norm\"], cc_mean) ,'bo', ms=8, label='poisson pmf')"
   ]
  },
  {
   "cell_type": "code",
   "execution_count": 10,
   "metadata": {},
   "outputs": [
    {
     "name": "stderr",
     "output_type": "stream",
     "text": [
      "c:\\users\\samzhang\\miniconda3\\lib\\site-packages\\seaborn\\distributions.py:2551: FutureWarning:\n",
      "\n",
      "`distplot` is a deprecated function and will be removed in a future version. Please adapt your code to use either `displot` (a figure-level function with similar flexibility) or `histplot` (an axes-level function for histograms).\n",
      "\n"
     ]
    },
    {
     "data": {
      "text/plain": [
       "[Text(0, 0.5, 'Frequency'), Text(0.5, 0, 'Poisson Distribution Michigan')]"
      ]
     },
     "execution_count": 10,
     "metadata": {},
     "output_type": "execute_result"
    },
    {
     "data": {
      "image/png": "[encoded data removed]",
      "text/plain": [
       "<Figure size 432x288 with 1 Axes>"
      ]
     },
     "metadata": {
      "needs_background": "light"
     },
     "output_type": "display_data"
    }
   ],
   "source": [
    "#generate poisson distribution of michigan confirmed cases.\n",
    "data_poisson1 = poisson.rvs(mu=mi_mean, size=39)\n",
    "bx = sns.distplot(data_poisson1)\n",
    "bx.set(xlabel='Poisson Distribution Michigan', ylabel='Frequency')\n"
   ]
  },
  {
   "cell_type": "code",
   "execution_count": 11,
   "metadata": {},
   "outputs": [
    {
     "name": "stderr",
     "output_type": "stream",
     "text": [
      "c:\\users\\samzhang\\miniconda3\\lib\\site-packages\\seaborn\\distributions.py:2551: FutureWarning:\n",
      "\n",
      "`distplot` is a deprecated function and will be removed in a future version. Please adapt your code to use either `displot` (a figure-level function with similar flexibility) or `histplot` (an axes-level function for histograms).\n",
      "\n"
     ]
    },
    {
     "data": {
      "text/plain": [
       "[Text(0, 0.5, 'Frequency'), Text(0.5, 0, 'Poisson Distribution Ohio')]"
      ]
     },
     "execution_count": 11,
     "metadata": {},
     "output_type": "execute_result"
    },
    {
     "data": {
      "image/png": "[encoded data removed]",
      "text/plain": [
       "<Figure size 432x288 with 1 Axes>"
      ]
     },
     "metadata": {
      "needs_background": "light"
     },
     "output_type": "display_data"
    }
   ],
   "source": [
    "#generate poisson distribution of ohio confirmed cases.\n",
    "data_poisson2 = poisson.rvs(mu=oh_mean, size=39)\n",
    "cx = sns.distplot(data_poisson2)\n",
    "cx.set(xlabel='Poisson Distribution Ohio', ylabel='Frequency')\n"
   ]
  },
  {
   "cell_type": "code",
   "execution_count": 12,
   "metadata": {},
   "outputs": [
    {
     "name": "stderr",
     "output_type": "stream",
     "text": [
      "c:\\users\\samzhang\\miniconda3\\lib\\site-packages\\seaborn\\distributions.py:2551: FutureWarning:\n",
      "\n",
      "`distplot` is a deprecated function and will be removed in a future version. Please adapt your code to use either `displot` (a figure-level function with similar flexibility) or `histplot` (an axes-level function for histograms).\n",
      "\n"
     ]
    },
    {
     "data": {
      "text/plain": [
       "[Text(0, 0.5, 'Frequency'), Text(0.5, 0, 'Poisson Distribution Illinois')]"
      ]
     },
     "execution_count": 12,
     "metadata": {},
     "output_type": "execute_result"
    },
    {
     "data": {
      "image/png": "[encoded data removed]",
      "text/plain": [
       "<Figure size 432x288 with 1 Axes>"
      ]
     },
     "metadata": {
      "needs_background": "light"
     },
     "output_type": "display_data"
    }
   ],
   "source": [
    "#generate poisson distribution of illinois confirmed cases.\n",
    "data_poisson3 = poisson.rvs(mu=il_mean, size=39)\n",
    "dx = sns.distplot(data_poisson3)\n",
    "dx.set(xlabel='Poisson Distribution Illinois', ylabel='Frequency')\n"
   ]
  },
  {
   "cell_type": "code",
   "execution_count": 13,
   "metadata": {},
   "outputs": [
    {
     "name": "stderr",
     "output_type": "stream",
     "text": [
      "c:\\users\\samzhang\\miniconda3\\lib\\site-packages\\seaborn\\distributions.py:2551: FutureWarning:\n",
      "\n",
      "`distplot` is a deprecated function and will be removed in a future version. Please adapt your code to use either `displot` (a figure-level function with similar flexibility) or `histplot` (an axes-level function for histograms).\n",
      "\n"
     ]
    },
    {
     "data": {
      "text/plain": [
       "[Text(0, 0.5, 'Frequency'), Text(0.5, 0, 'Poisson Distribution Kentucky')]"
      ]
     },
     "execution_count": 13,
     "metadata": {},
     "output_type": "execute_result"
    },
    {
     "data": {
      "image/png": "[encoded data removed]",
      "text/plain": [
       "<Figure size 432x288 with 1 Axes>"
      ]
     },
     "metadata": {
      "needs_background": "light"
     },
     "output_type": "display_data"
    }
   ],
   "source": [
    "#generate poisson distribution of kentucky confirmed cases.\n",
    "data_poisson4 = poisson.rvs(mu=ky_mean, size=39)\n",
    "ex = sns.distplot(data_poisson4)\n",
    "ex.set(xlabel='Poisson Distribution Kentucky', ylabel='Frequency')\n"
   ]
  },
  {
   "cell_type": "code",
   "execution_count": 17,
   "metadata": {},
   "outputs": [],
   "source": [
    "#calculate NC data\n",
    "nc_mean = nc_cc_g[\"norm\"].mean()\n",
    "nc_d_mean = nc_d_g[\"norm\"].mean()\n"
   ]
  },
  {
   "cell_type": "code",
   "execution_count": 18,
   "metadata": {},
   "outputs": [
    {
     "name": "stderr",
     "output_type": "stream",
     "text": [
      "c:\\users\\samzhang\\miniconda3\\lib\\site-packages\\seaborn\\distributions.py:2551: FutureWarning:\n",
      "\n",
      "`distplot` is a deprecated function and will be removed in a future version. Please adapt your code to use either `displot` (a figure-level function with similar flexibility) or `histplot` (an axes-level function for histograms).\n",
      "\n"
     ]
    },
    {
     "data": {
      "text/plain": [
       "[Text(0, 0.5, 'Frequency'),\n",
       " Text(0.5, 0, 'Poisson Distribution North Carolina')]"
      ]
     },
     "execution_count": 18,
     "metadata": {},
     "output_type": "execute_result"
    },
    {
     "data": {
      "image/png": "[encoded data removed]",
      "text/plain": [
       "<Figure size 432x288 with 1 Axes>"
      ]
     },
     "metadata": {
      "needs_background": "light"
     },
     "output_type": "display_data"
    }
   ],
   "source": [
    "data_poisson5 = poisson.rvs(mu=nc_mean, size=39)\n",
    "ex = sns.distplot(data_poisson5)\n",
    "ex.set(xlabel='Poisson Distribution North Carolina Confirmed Cases', ylabel='Frequency')"
   ]
  },
  {
   "cell_type": "code",
   "execution_count": 19,
   "metadata": {},
   "outputs": [
    {
     "name": "stderr",
     "output_type": "stream",
     "text": [
      "c:\\users\\samzhang\\miniconda3\\lib\\site-packages\\seaborn\\distributions.py:2551: FutureWarning:\n",
      "\n",
      "`distplot` is a deprecated function and will be removed in a future version. Please adapt your code to use either `displot` (a figure-level function with similar flexibility) or `histplot` (an axes-level function for histograms).\n",
      "\n"
     ]
    },
    {
     "data": {
      "text/plain": [
       "[Text(0, 0.5, 'Frequency'),\n",
       " Text(0.5, 0, 'Poisson Distribution North Carolina Deaths')]"
      ]
     },
     "execution_count": 19,
     "metadata": {},
     "output_type": "execute_result"
    },
    {
     "data": {
      "image/png": "[encoded data removed]",
      "text/plain": [
       "<Figure size 432x288 with 1 Axes>"
      ]
     },
     "metadata": {
      "needs_background": "light"
     },
     "output_type": "display_data"
    }
   ],
   "source": [
    "data_poisson6 = poisson.rvs(mu=nc_mean, size=39)\n",
    "ex = sns.distplot(data_poisson6)\n",
    "ex.set(xlabel='Poisson Distribution North Carolina Deaths', ylabel='Frequency')"
   ]
  },
  {
   "cell_type": "markdown",
   "metadata": {},
   "source": [
    "## corelation between Enrichment data valiables and COVID-19 cases"
   ]
  },
  {
   "cell_type": "code",
   "execution_count": 20,
   "metadata": {},
   "outputs": [
    {
     "data": {
      "text/html": [
       "<div>\n",
       "<style scoped>\n",
       "    .dataframe tbody tr th:only-of-type {\n",
       "        vertical-align: middle;\n",
       "    }\n",
       "\n",
       "    .dataframe tbody tr th {\n",
       "        vertical-align: top;\n",
       "    }\n",
       "\n",
       "    .dataframe thead th {\n",
       "        text-align: right;\n",
       "    }\n",
       "</style>\n",
       "<table border=\"1\" class=\"dataframe\">\n",
       "  <thead>\n",
       "    <tr style=\"text-align: right;\">\n",
       "      <th></th>\n",
       "      <th>Unnamed: 0</th>\n",
       "      <th>countyFIPS_x</th>\n",
       "      <th>County Name</th>\n",
       "      <th>State</th>\n",
       "      <th>population</th>\n",
       "      <th>stateFIPS</th>\n",
       "      <th>confirmed_1/22/20</th>\n",
       "      <th>confirmed_1/23/20</th>\n",
       "      <th>confirmed_1/24/20</th>\n",
       "      <th>confirmed_1/25/20</th>\n",
       "      <th>...</th>\n",
       "      <th>Percent Estimate!!SEX AND AGE!!Total population!!55 to 59 years</th>\n",
       "      <th>Estimate!!SEX AND AGE!!Total population!!60 to 64 years</th>\n",
       "      <th>Percent Estimate!!SEX AND AGE!!Total population!!60 to 64 years</th>\n",
       "      <th>Estimate!!SEX AND AGE!!Total population!!65 to 74 years</th>\n",
       "      <th>Percent Estimate!!SEX AND AGE!!Total population!!65 to 74 years</th>\n",
       "      <th>Estimate!!SEX AND AGE!!Total population!!75 to 84 years</th>\n",
       "      <th>Percent Estimate!!SEX AND AGE!!Total population!!75 to 84 years</th>\n",
       "      <th>Estimate!!SEX AND AGE!!Total population!!85 years and over</th>\n",
       "      <th>Percent Estimate!!SEX AND AGE!!Total population!!85 years and over</th>\n",
       "      <th>Estimate!!SEX AND AGE!!Total population!!Median age (years)</th>\n",
       "    </tr>\n",
       "  </thead>\n",
       "  <tbody>\n",
       "    <tr>\n",
       "      <th>0</th>\n",
       "      <td>2</td>\n",
       "      <td>1003</td>\n",
       "      <td>Baldwin County</td>\n",
       "      <td>AL</td>\n",
       "      <td>223234</td>\n",
       "      <td>1</td>\n",
       "      <td>0</td>\n",
       "      <td>0</td>\n",
       "      <td>0</td>\n",
       "      <td>0</td>\n",
       "      <td>...</td>\n",
       "      <td>5.6</td>\n",
       "      <td>23872</td>\n",
       "      <td>5.5</td>\n",
       "      <td>34393</td>\n",
       "      <td>7.9</td>\n",
       "      <td>16735</td>\n",
       "      <td>3.8</td>\n",
       "      <td>8363</td>\n",
       "      <td>1.9</td>\n",
       "      <td>34.7</td>\n",
       "    </tr>\n",
       "    <tr>\n",
       "      <th>1</th>\n",
       "      <td>8</td>\n",
       "      <td>1015</td>\n",
       "      <td>Calhoun County</td>\n",
       "      <td>AL</td>\n",
       "      <td>113605</td>\n",
       "      <td>1</td>\n",
       "      <td>0</td>\n",
       "      <td>0</td>\n",
       "      <td>0</td>\n",
       "      <td>0</td>\n",
       "      <td>...</td>\n",
       "      <td>7.1</td>\n",
       "      <td>10803</td>\n",
       "      <td>6.1</td>\n",
       "      <td>17338</td>\n",
       "      <td>9.7</td>\n",
       "      <td>9494</td>\n",
       "      <td>5.3</td>\n",
       "      <td>2980</td>\n",
       "      <td>1.7</td>\n",
       "      <td>38.1</td>\n",
       "    </tr>\n",
       "    <tr>\n",
       "      <th>2</th>\n",
       "      <td>22</td>\n",
       "      <td>1043</td>\n",
       "      <td>Cullman County</td>\n",
       "      <td>AL</td>\n",
       "      <td>83768</td>\n",
       "      <td>1</td>\n",
       "      <td>0</td>\n",
       "      <td>0</td>\n",
       "      <td>0</td>\n",
       "      <td>0</td>\n",
       "      <td>...</td>\n",
       "      <td>5.3</td>\n",
       "      <td>5722</td>\n",
       "      <td>8.5</td>\n",
       "      <td>7234</td>\n",
       "      <td>10.8</td>\n",
       "      <td>4104</td>\n",
       "      <td>6.1</td>\n",
       "      <td>1224</td>\n",
       "      <td>1.8</td>\n",
       "      <td>40.9</td>\n",
       "    </tr>\n",
       "    <tr>\n",
       "      <th>3</th>\n",
       "      <td>25</td>\n",
       "      <td>1049</td>\n",
       "      <td>DeKalb County</td>\n",
       "      <td>AL</td>\n",
       "      <td>71513</td>\n",
       "      <td>1</td>\n",
       "      <td>0</td>\n",
       "      <td>0</td>\n",
       "      <td>0</td>\n",
       "      <td>0</td>\n",
       "      <td>...</td>\n",
       "      <td>7.6</td>\n",
       "      <td>7084</td>\n",
       "      <td>6.4</td>\n",
       "      <td>11942</td>\n",
       "      <td>10.9</td>\n",
       "      <td>5791</td>\n",
       "      <td>5.3</td>\n",
       "      <td>1943</td>\n",
       "      <td>1.8</td>\n",
       "      <td>40.4</td>\n",
       "    </tr>\n",
       "    <tr>\n",
       "      <th>4</th>\n",
       "      <td>26</td>\n",
       "      <td>1051</td>\n",
       "      <td>Elmore County</td>\n",
       "      <td>AL</td>\n",
       "      <td>81209</td>\n",
       "      <td>1</td>\n",
       "      <td>0</td>\n",
       "      <td>0</td>\n",
       "      <td>0</td>\n",
       "      <td>0</td>\n",
       "      <td>...</td>\n",
       "      <td>6.6</td>\n",
       "      <td>8790</td>\n",
       "      <td>6.8</td>\n",
       "      <td>13697</td>\n",
       "      <td>10.6</td>\n",
       "      <td>7050</td>\n",
       "      <td>5.4</td>\n",
       "      <td>2891</td>\n",
       "      <td>2.2</td>\n",
       "      <td>40.2</td>\n",
       "    </tr>\n",
       "  </tbody>\n",
       "</table>\n",
       "<p>5 rows × 526 columns</p>\n",
       "</div>"
      ],
      "text/plain": [
       "   Unnamed: 0  countyFIPS_x     County Name State  population  stateFIPS  \\\n",
       "0           2          1003  Baldwin County    AL      223234          1   \n",
       "1           8          1015  Calhoun County    AL      113605          1   \n",
       "2          22          1043  Cullman County    AL       83768          1   \n",
       "3          25          1049   DeKalb County    AL       71513          1   \n",
       "4          26          1051   Elmore County    AL       81209          1   \n",
       "\n",
       "   confirmed_1/22/20  confirmed_1/23/20  confirmed_1/24/20  confirmed_1/25/20  \\\n",
       "0                  0                  0                  0                  0   \n",
       "1                  0                  0                  0                  0   \n",
       "2                  0                  0                  0                  0   \n",
       "3                  0                  0                  0                  0   \n",
       "4                  0                  0                  0                  0   \n",
       "\n",
       "   ...  Percent Estimate!!SEX AND AGE!!Total population!!55 to 59 years  \\\n",
       "0  ...                                                5.6                 \n",
       "1  ...                                                7.1                 \n",
       "2  ...                                                5.3                 \n",
       "3  ...                                                7.6                 \n",
       "4  ...                                                6.6                 \n",
       "\n",
       "   Estimate!!SEX AND AGE!!Total population!!60 to 64 years  \\\n",
       "0                                              23872         \n",
       "1                                              10803         \n",
       "2                                               5722         \n",
       "3                                               7084         \n",
       "4                                               8790         \n",
       "\n",
       "   Percent Estimate!!SEX AND AGE!!Total population!!60 to 64 years  \\\n",
       "0                                                5.5                 \n",
       "1                                                6.1                 \n",
       "2                                                8.5                 \n",
       "3                                                6.4                 \n",
       "4                                                6.8                 \n",
       "\n",
       "   Estimate!!SEX AND AGE!!Total population!!65 to 74 years  \\\n",
       "0                                              34393         \n",
       "1                                              17338         \n",
       "2                                               7234         \n",
       "3                                              11942         \n",
       "4                                              13697         \n",
       "\n",
       "   Percent Estimate!!SEX AND AGE!!Total population!!65 to 74 years  \\\n",
       "0                                                7.9                 \n",
       "1                                                9.7                 \n",
       "2                                               10.8                 \n",
       "3                                               10.9                 \n",
       "4                                               10.6                 \n",
       "\n",
       "   Estimate!!SEX AND AGE!!Total population!!75 to 84 years  \\\n",
       "0                                              16735         \n",
       "1                                               9494         \n",
       "2                                               4104         \n",
       "3                                               5791         \n",
       "4                                               7050         \n",
       "\n",
       "   Percent Estimate!!SEX AND AGE!!Total population!!75 to 84 years  \\\n",
       "0                                                3.8                 \n",
       "1                                                5.3                 \n",
       "2                                                6.1                 \n",
       "3                                                5.3                 \n",
       "4                                                5.4                 \n",
       "\n",
       "   Estimate!!SEX AND AGE!!Total population!!85 years and over  \\\n",
       "0                                               8363            \n",
       "1                                               2980            \n",
       "2                                               1224            \n",
       "3                                               1943            \n",
       "4                                               2891            \n",
       "\n",
       "   Percent Estimate!!SEX AND AGE!!Total population!!85 years and over  \\\n",
       "0                                                1.9                    \n",
       "1                                                1.7                    \n",
       "2                                                1.8                    \n",
       "3                                                1.8                    \n",
       "4                                                2.2                    \n",
       "\n",
       "   Estimate!!SEX AND AGE!!Total population!!Median age (years)  \n",
       "0                                               34.7            \n",
       "1                                               38.1            \n",
       "2                                               40.9            \n",
       "3                                               40.4            \n",
       "4                                               40.2            \n",
       "\n",
       "[5 rows x 526 columns]"
      ]
     },
     "execution_count": 20,
     "metadata": {},
     "output_type": "execute_result"
    }
   ],
   "source": [
    "#import enrichment data\n",
    "enrich = pd.read_csv(\"enrichsuperdata.csv\")\n",
    "enrich.head()"
   ]
  },
  {
   "cell_type": "code",
   "execution_count": 36,
   "metadata": {},
   "outputs": [
    {
     "name": "stderr",
     "output_type": "stream",
     "text": [
      "c:\\users\\samzhang\\miniconda3\\lib\\site-packages\\pandas\\core\\frame.py:4304: SettingWithCopyWarning:\n",
      "\n",
      "\n",
      "A value is trying to be set on a copy of a slice from a DataFrame\n",
      "\n",
      "See the caveats in the documentation: https://pandas.pydata.org/pandas-docs/stable/user_guide/indexing.html#returning-a-view-versus-a-copy\n",
      "\n"
     ]
    }
   ],
   "source": [
    "enrich_in = enrich.loc[enrich['State'].isin(['IN'])]\n",
    "enrich_in.rename(columns = {\"Estimate!!SEX AND AGE!!Total population!!Median age (years)\":\"median_age\"}, inplace = True)\n",
    "enrich_in.rename(columns = {\"Estimate!!SEX AND AGE!!Total population!!Sex ratio (males per 100 females)\":\"sex_ratio\"}, inplace = True)\n",
    "enrich_in.rename(columns = {\"Estimate!!SEX AND AGE!!Total population!!85 years and over\":\"85_years_over\"}, inplace = True)\n",
    "enrich_in.rename(columns = {\"confirmed_9/19/20\":\"total_confirmed\"}, inplace = True) \n",
    "enrich_in.rename(columns = {\"deaths_9/19/20\":\"total_deaths\"}, inplace = True) \n",
    "in_cols = [\"countyFIPS_x\", \"County Name\", \"State\", \"stateFIPS\",\"population\", \"total_confirmed\", \"total_deaths\", \"sex_ratio\", \"85_years_over\", \"median_age\" ]\n",
    "in_enrich = enrich_in[in_cols].copy()"
   ]
  },
  {
   "cell_type": "code",
   "execution_count": 37,
   "metadata": {},
   "outputs": [
    {
     "data": {
      "text/html": [
       "<div>\n",
       "<style scoped>\n",
       "    .dataframe tbody tr th:only-of-type {\n",
       "        vertical-align: middle;\n",
       "    }\n",
       "\n",
       "    .dataframe tbody tr th {\n",
       "        vertical-align: top;\n",
       "    }\n",
       "\n",
       "    .dataframe thead th {\n",
       "        text-align: right;\n",
       "    }\n",
       "</style>\n",
       "<table border=\"1\" class=\"dataframe\">\n",
       "  <thead>\n",
       "    <tr style=\"text-align: right;\">\n",
       "      <th></th>\n",
       "      <th>countyFIPS_x</th>\n",
       "      <th>County Name</th>\n",
       "      <th>State</th>\n",
       "      <th>stateFIPS</th>\n",
       "      <th>population</th>\n",
       "      <th>total_confirmed</th>\n",
       "      <th>total_deaths</th>\n",
       "      <th>sex_ratio</th>\n",
       "      <th>85_years_over</th>\n",
       "      <th>median_age</th>\n",
       "      <th>norm_cc</th>\n",
       "      <th>norm_d</th>\n",
       "    </tr>\n",
       "  </thead>\n",
       "  <tbody>\n",
       "    <tr>\n",
       "      <th>219</th>\n",
       "      <td>18003</td>\n",
       "      <td>Allen County</td>\n",
       "      <td>IN</td>\n",
       "      <td>18</td>\n",
       "      <td>379299</td>\n",
       "      <td>5949</td>\n",
       "      <td>210</td>\n",
       "      <td>95.2</td>\n",
       "      <td>1983</td>\n",
       "      <td>37.4</td>\n",
       "      <td>15.684196</td>\n",
       "      <td>0.553653</td>\n",
       "    </tr>\n",
       "    <tr>\n",
       "      <th>220</th>\n",
       "      <td>18005</td>\n",
       "      <td>Bartholomew County</td>\n",
       "      <td>IN</td>\n",
       "      <td>18</td>\n",
       "      <td>83779</td>\n",
       "      <td>1160</td>\n",
       "      <td>61</td>\n",
       "      <td>92.8</td>\n",
       "      <td>4542</td>\n",
       "      <td>38.0</td>\n",
       "      <td>13.845952</td>\n",
       "      <td>0.728106</td>\n",
       "    </tr>\n",
       "    <tr>\n",
       "      <th>221</th>\n",
       "      <td>18011</td>\n",
       "      <td>Boone County</td>\n",
       "      <td>IN</td>\n",
       "      <td>18</td>\n",
       "      <td>67843</td>\n",
       "      <td>964</td>\n",
       "      <td>49</td>\n",
       "      <td>98.5</td>\n",
       "      <td>1003</td>\n",
       "      <td>38.8</td>\n",
       "      <td>14.209277</td>\n",
       "      <td>0.722256</td>\n",
       "    </tr>\n",
       "    <tr>\n",
       "      <th>222</th>\n",
       "      <td>18019</td>\n",
       "      <td>Clark County</td>\n",
       "      <td>IN</td>\n",
       "      <td>18</td>\n",
       "      <td>118302</td>\n",
       "      <td>2117</td>\n",
       "      <td>63</td>\n",
       "      <td>103.8</td>\n",
       "      <td>1927</td>\n",
       "      <td>45.3</td>\n",
       "      <td>17.894879</td>\n",
       "      <td>0.532535</td>\n",
       "    </tr>\n",
       "    <tr>\n",
       "      <th>223</th>\n",
       "      <td>18035</td>\n",
       "      <td>Delaware County</td>\n",
       "      <td>IN</td>\n",
       "      <td>18</td>\n",
       "      <td>114135</td>\n",
       "      <td>1847</td>\n",
       "      <td>62</td>\n",
       "      <td>93.0</td>\n",
       "      <td>1698</td>\n",
       "      <td>38.3</td>\n",
       "      <td>16.182591</td>\n",
       "      <td>0.543216</td>\n",
       "    </tr>\n",
       "  </tbody>\n",
       "</table>\n",
       "</div>"
      ],
      "text/plain": [
       "     countyFIPS_x         County Name State  stateFIPS  population  \\\n",
       "219         18003        Allen County    IN         18      379299   \n",
       "220         18005  Bartholomew County    IN         18       83779   \n",
       "221         18011        Boone County    IN         18       67843   \n",
       "222         18019        Clark County    IN         18      118302   \n",
       "223         18035     Delaware County    IN         18      114135   \n",
       "\n",
       "     total_confirmed  total_deaths  sex_ratio  85_years_over  median_age  \\\n",
       "219             5949           210       95.2           1983        37.4   \n",
       "220             1160            61       92.8           4542        38.0   \n",
       "221              964            49       98.5           1003        38.8   \n",
       "222             2117            63      103.8           1927        45.3   \n",
       "223             1847            62       93.0           1698        38.3   \n",
       "\n",
       "       norm_cc    norm_d  \n",
       "219  15.684196  0.553653  \n",
       "220  13.845952  0.728106  \n",
       "221  14.209277  0.722256  \n",
       "222  17.894879  0.532535  \n",
       "223  16.182591  0.543216  "
      ]
     },
     "execution_count": 37,
     "metadata": {},
     "output_type": "execute_result"
    }
   ],
   "source": [
    "#generate normalized data\n",
    "in_enrich[\"norm_cc\"] = in_enrich[\"total_confirmed\"]/in_enrich[\"population\"]*1000\n",
    "in_enrich[\"norm_d\"] = in_enrich[\"total_deaths\"]/in_enrich[\"population\"]*1000\n",
    "in_enrich.head()"
   ]
  },
  {
   "cell_type": "code",
   "execution_count": 41,
   "metadata": {},
   "outputs": [
    {
     "name": "stdout",
     "output_type": "stream",
     "text": [
      "correlation between confirmed cases and median of ages: -0.127987\n",
      "correlation between deaths and median of ages: -0.210975\n",
      "correlation between confirmed cases and population of 85 years and over: 0.132152\n",
      "correlation between deaths and population of 85 years and over: 0.011990\n",
      "correlation between confirmed cases and sex ratio (male over 100 female): 0.286732\n",
      "correlation between deaths and sex ratio (male over 100 female): 0.035917\n"
     ]
    }
   ],
   "source": [
    "#calculate correlation\n",
    "norm_cc = in_enrich[\"norm_cc\"]\n",
    "norm_d = in_enrich[\"norm_d\"]\n",
    "med_age = in_enrich[\"median_age\"]\n",
    "year_85 = in_enrich[\"85_years_over\"]\n",
    "sex_ratio = in_enrich[\"sex_ratio\"]\n",
    "\n",
    "cc_med_age = norm_cc.corr(med_age)\n",
    "d_med_age = norm_d.corr(med_age)\n",
    "\n",
    "cc_year = norm_cc.corr(year_85)\n",
    "d_year = norm_d.corr(year_85)\n",
    "\n",
    "cc_sex = norm_cc.corr(sex_ratio)\n",
    "d_sex = norm_d.corr(sex_ratio)\n",
    "print(\"correlation between confirmed cases and median of ages: %f\" %(cc_med_age))\n",
    "print(\"correlation between deaths and median of ages: %f\" %(d_med_age))\n",
    "print(\"correlation between confirmed cases and population of 85 years and over: %f\" %(cc_year))\n",
    "print(\"correlation between deaths and population of 85 years and over: %f\" %(d_year))\n",
    "\n",
    "print(\"correlation between confirmed cases and sex ratio (male over 100 female): %f\" %(cc_sex))\n",
    "print(\"correlation between deaths and sex ratio (male over 100 female): %f\" %(d_sex))"
   ]
  },
  {
   "cell_type": "code",
   "execution_count": null,
   "metadata": {},
   "outputs": [],
   "source": []
  }
 ],
 "metadata": {
  "kernelspec": {
   "display_name": "Python 3",
   "language": "python",
   "name": "python3"
  },
  "language_info": {
   "codemirror_mode": {
    "name": "ipython",
    "version": 3
   },
   "file_extension": ".py",
   "mimetype": "text/x-python",
   "name": "python",
   "nbconvert_exporter": "python",
   "pygments_lexer": "ipython3",
   "version": "3.6.10"
  }
 },
 "nbformat": 4,
 "nbformat_minor": 4
}
