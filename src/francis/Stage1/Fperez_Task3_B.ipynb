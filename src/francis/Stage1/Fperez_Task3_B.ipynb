{
 "metadata": {
  "language_info": {
   "codemirror_mode": {
    "name": "ipython",
    "version": 3
   },
   "file_extension": ".py",
   "mimetype": "text/x-python",
   "name": "python",
   "nbconvert_exporter": "python",
   "pygments_lexer": "ipython3",
   "version": "3.8.3-final"
  },
  "orig_nbformat": 2,
  "kernelspec": {
   "name": "Python 3.8.3 64-bit ('base': conda)",
   "display_name": "Python 3.8.3 64-bit ('base': conda)",
   "metadata": {
    "interpreter": {
     "hash": "b3ba2566441a7c06988d0923437866b63cedc61552a5af99d1f4fb67d367b25f"
    }
   }
  }
 },
 "nbformat": 4,
 "nbformat_minor": 2,
 "cells": [
  {
   "source": [
    "# Project Stage I - Task 3 - Part B\n",
    "- Read the Enrichment data and displays them on a notebook.\n",
    "### Francis Perez - Team 2"
   ],
   "cell_type": "markdown",
   "metadata": {}
  },
  {
   "source": [
    "## Load Needed Imports"
   ],
   "cell_type": "markdown",
   "metadata": {}
  },
  {
   "cell_type": "code",
   "execution_count": 1,
   "metadata": {},
   "outputs": [],
   "source": [
    "import pandas as pd\n",
    "import numpy as np"
   ]
  },
  {
   "source": [
    "### Load Data"
   ],
   "cell_type": "markdown",
   "metadata": {}
  },
  {
   "cell_type": "code",
   "execution_count": 2,
   "metadata": {},
   "outputs": [],
   "source": [
    "#Load Employment Dataset\n",
    "employment_dataset = pd.read_csv(\"..\\..\\..\\data\\EmploymentData_allhlcn201.csv\")"
   ]
  },
  {
   "source": [
    "### Show Enrichment Data"
   ],
   "cell_type": "markdown",
   "metadata": {}
  },
  {
   "cell_type": "code",
   "execution_count": 3,
   "metadata": {},
   "outputs": [
    {
     "output_type": "execute_result",
     "data": {
      "text/plain": [
       "   Area\\nCode  St  Cnty  Own  NAICS  Year  Qtr Area Type  St Name  \\\n",
       "0       US000  US   0.0    0     10  2020    1    Nation      NaN   \n",
       "1       US000  US   0.0    1     10  2020    1    Nation      NaN   \n",
       "2       US000  US   0.0    2     10  2020    1    Nation      NaN   \n",
       "3       US000  US   0.0    3     10  2020    1    Nation      NaN   \n",
       "4       US000  US   0.0    5     10  2020    1    Nation      NaN   \n",
       "5       US000  US   0.0    5    101  2020    1    Nation      NaN   \n",
       "6       US000  US   0.0    5   1011  2020    1    Nation      NaN   \n",
       "7       US000  US   0.0    5   1012  2020    1    Nation      NaN   \n",
       "8       US000  US   0.0    5   1013  2020    1    Nation      NaN   \n",
       "9       US000  US   0.0    5    102  2020    1    Nation      NaN   \n",
       "10      US000  US   0.0    5   1021  2020    1    Nation      NaN   \n",
       "11      US000  US   0.0    5   1022  2020    1    Nation      NaN   \n",
       "12      US000  US   0.0    5   1023  2020    1    Nation      NaN   \n",
       "13      US000  US   0.0    5   1024  2020    1    Nation      NaN   \n",
       "14      US000  US   0.0    5   1025  2020    1    Nation      NaN   \n",
       "15      US000  US   0.0    5   1026  2020    1    Nation      NaN   \n",
       "16      US000  US   0.0    5   1027  2020    1    Nation      NaN   \n",
       "17      US000  US   0.0    5   1029  2020    1    Nation      NaN   \n",
       "18      01000  01   0.0    0     10  2020    1     State  Alabama   \n",
       "19      01000  01   0.0    1     10  2020    1     State  Alabama   \n",
       "\n",
       "                    Area  ...                                   Industry  \\\n",
       "0             U.S. TOTAL  ...                   10 Total, all industries   \n",
       "1             U.S. TOTAL  ...                   10 Total, all industries   \n",
       "2             U.S. TOTAL  ...                   10 Total, all industries   \n",
       "3             U.S. TOTAL  ...                   10 Total, all industries   \n",
       "4             U.S. TOTAL  ...                   10 Total, all industries   \n",
       "5             U.S. TOTAL  ...                        101 Goods-producing   \n",
       "6             U.S. TOTAL  ...          1011 Natural resources and mining   \n",
       "7             U.S. TOTAL  ...                          1012 Construction   \n",
       "8             U.S. TOTAL  ...                         1013 Manufacturing   \n",
       "9             U.S. TOTAL  ...                      102 Service-providing   \n",
       "10            U.S. TOTAL  ...  1021 Trade, transportation, and utilities   \n",
       "11            U.S. TOTAL  ...                           1022 Information   \n",
       "12            U.S. TOTAL  ...                  1023 Financial activities   \n",
       "13            U.S. TOTAL  ...    1024 Professional and business services   \n",
       "14            U.S. TOTAL  ...         1025 Education and health services   \n",
       "15            U.S. TOTAL  ...               1026 Leisure and hospitality   \n",
       "16            U.S. TOTAL  ...                        1027 Other services   \n",
       "17            U.S. TOTAL  ...                          1029 Unclassified   \n",
       "18  Alabama -- Statewide  ...                   10 Total, all industries   \n",
       "19  Alabama -- Statewide  ...                   10 Total, all industries   \n",
       "\n",
       "   Status Code Establishment Count January Employment February Employment  \\\n",
       "0          NaN          10,447,240        147,279,523         147,858,938   \n",
       "1          NaN              61,014          2,838,417           2,839,463   \n",
       "2          NaN              69,931          4,631,048           4,704,637   \n",
       "3          NaN             171,065         14,520,838          14,657,450   \n",
       "4          NaN          10,145,230        125,289,220         125,657,388   \n",
       "5          NaN           1,342,925         21,613,273          21,673,801   \n",
       "6          NaN             140,432          1,744,545           1,753,076   \n",
       "7          NaN             843,829          7,199,298           7,229,832   \n",
       "8          NaN             358,664         12,669,430          12,690,893   \n",
       "9          NaN           8,802,305        103,675,947         103,983,587   \n",
       "10         NaN           1,950,157         27,543,119          27,279,639   \n",
       "11         NaN             193,016          2,876,350           2,933,068   \n",
       "12         NaN             933,220          8,330,670           8,354,602   \n",
       "13         NaN           1,946,440         21,016,519          21,135,238   \n",
       "14         NaN           1,802,658         23,303,254          23,486,894   \n",
       "15         NaN             894,706         15,911,521          16,056,399   \n",
       "16         NaN             872,745          4,515,907           4,545,342   \n",
       "17         NaN             209,363            178,607             192,405   \n",
       "18         NaN             132,569          1,976,243           1,986,963   \n",
       "19         NaN               1,247             54,521              54,643   \n",
       "\n",
       "   March Employment Total Quarterly Wages Average Weekly Wage  \\\n",
       "0       147,088,945     2,341,897,353,925               1,222   \n",
       "1         2,857,289        56,666,068,074               1,532   \n",
       "2         4,710,894        74,670,024,998               1,227   \n",
       "3        14,681,375       195,835,097,606               1,030   \n",
       "4       124,839,387     2,014,726,163,247               1,237   \n",
       "5        21,691,990       383,234,860,658               1,361   \n",
       "6         1,766,683        30,587,356,089               1,341   \n",
       "7         7,271,981       116,105,506,696               1,235   \n",
       "8        12,653,326       236,541,997,873               1,436   \n",
       "9       103,147,397     1,631,491,302,589               1,211   \n",
       "10       27,192,854       355,208,431,963                 999   \n",
       "11        2,883,167       100,015,080,701               2,655   \n",
       "12        8,328,454       275,209,665,518               2,539   \n",
       "13       21,001,112       450,881,499,378               1,648   \n",
       "14       23,349,022       302,553,451,951                 995   \n",
       "15       15,714,058        98,616,181,440                 477   \n",
       "16        4,485,661        46,143,932,966                 786   \n",
       "17          193,069         2,863,058,672               1,171   \n",
       "18        1,983,835        25,095,139,892                 974   \n",
       "19           55,021         1,100,867,539               1,547   \n",
       "\n",
       "   Employment Location Quotient Relative to U.S.  \\\n",
       "0                                           1.00   \n",
       "1                                           1.00   \n",
       "2                                           1.00   \n",
       "3                                           1.00   \n",
       "4                                           1.00   \n",
       "5                                           1.00   \n",
       "6                                           1.00   \n",
       "7                                           1.00   \n",
       "8                                           1.00   \n",
       "9                                           1.00   \n",
       "10                                          1.00   \n",
       "11                                          1.00   \n",
       "12                                          1.00   \n",
       "13                                          1.00   \n",
       "14                                          1.00   \n",
       "15                                          1.00   \n",
       "16                                          1.00   \n",
       "17                                          1.00   \n",
       "18                                          1.00   \n",
       "19                                          1.43   \n",
       "\n",
       "    Total Wage Location Quotient Relative to U.S.  \n",
       "0                                            1.00  \n",
       "1                                            1.00  \n",
       "2                                            1.00  \n",
       "3                                            1.00  \n",
       "4                                            1.00  \n",
       "5                                            1.00  \n",
       "6                                            1.00  \n",
       "7                                            1.00  \n",
       "8                                            1.00  \n",
       "9                                            1.00  \n",
       "10                                           1.00  \n",
       "11                                           1.00  \n",
       "12                                           1.00  \n",
       "13                                           1.00  \n",
       "14                                           1.00  \n",
       "15                                           1.00  \n",
       "16                                           1.00  \n",
       "17                                           1.00  \n",
       "18                                           1.00  \n",
       "19                                           1.81  \n",
       "\n",
       "[20 rows x 21 columns]"
      ],
      "text/html": "<div>\n<style scoped>\n    .dataframe tbody tr th:only-of-type {\n        vertical-align: middle;\n    }\n\n    .dataframe tbody tr th {\n        vertical-align: top;\n    }\n\n    .dataframe thead th {\n        text-align: right;\n    }\n</style>\n<table border=\"1\" class=\"dataframe\">\n  <thead>\n    <tr style=\"text-align: right;\">\n      <th></th>\n      <th>Area\\nCode</th>\n      <th>St</th>\n      <th>Cnty</th>\n      <th>Own</th>\n      <th>NAICS</th>\n      <th>Year</th>\n      <th>Qtr</th>\n      <th>Area Type</th>\n      <th>St Name</th>\n      <th>Area</th>\n      <th>...</th>\n      <th>Industry</th>\n      <th>Status Code</th>\n      <th>Establishment Count</th>\n      <th>January Employment</th>\n      <th>February Employment</th>\n      <th>March Employment</th>\n      <th>Total Quarterly Wages</th>\n      <th>Average Weekly Wage</th>\n      <th>Employment Location Quotient Relative to U.S.</th>\n      <th>Total Wage Location Quotient Relative to U.S.</th>\n    </tr>\n  </thead>\n  <tbody>\n    <tr>\n      <th>0</th>\n      <td>US000</td>\n      <td>US</td>\n      <td>0.0</td>\n      <td>0</td>\n      <td>10</td>\n      <td>2020</td>\n      <td>1</td>\n      <td>Nation</td>\n      <td>NaN</td>\n      <td>U.S. TOTAL</td>\n      <td>...</td>\n      <td>10 Total, all industries</td>\n      <td>NaN</td>\n      <td>10,447,240</td>\n      <td>147,279,523</td>\n      <td>147,858,938</td>\n      <td>147,088,945</td>\n      <td>2,341,897,353,925</td>\n      <td>1,222</td>\n      <td>1.00</td>\n      <td>1.00</td>\n    </tr>\n    <tr>\n      <th>1</th>\n      <td>US000</td>\n      <td>US</td>\n      <td>0.0</td>\n      <td>1</td>\n      <td>10</td>\n      <td>2020</td>\n      <td>1</td>\n      <td>Nation</td>\n      <td>NaN</td>\n      <td>U.S. TOTAL</td>\n      <td>...</td>\n      <td>10 Total, all industries</td>\n      <td>NaN</td>\n      <td>61,014</td>\n      <td>2,838,417</td>\n      <td>2,839,463</td>\n      <td>2,857,289</td>\n      <td>56,666,068,074</td>\n      <td>1,532</td>\n      <td>1.00</td>\n      <td>1.00</td>\n    </tr>\n    <tr>\n      <th>2</th>\n      <td>US000</td>\n      <td>US</td>\n      <td>0.0</td>\n      <td>2</td>\n      <td>10</td>\n      <td>2020</td>\n      <td>1</td>\n      <td>Nation</td>\n      <td>NaN</td>\n      <td>U.S. TOTAL</td>\n      <td>...</td>\n      <td>10 Total, all industries</td>\n      <td>NaN</td>\n      <td>69,931</td>\n      <td>4,631,048</td>\n      <td>4,704,637</td>\n      <td>4,710,894</td>\n      <td>74,670,024,998</td>\n      <td>1,227</td>\n      <td>1.00</td>\n      <td>1.00</td>\n    </tr>\n    <tr>\n      <th>3</th>\n      <td>US000</td>\n      <td>US</td>\n      <td>0.0</td>\n      <td>3</td>\n      <td>10</td>\n      <td>2020</td>\n      <td>1</td>\n      <td>Nation</td>\n      <td>NaN</td>\n      <td>U.S. TOTAL</td>\n      <td>...</td>\n      <td>10 Total, all industries</td>\n      <td>NaN</td>\n      <td>171,065</td>\n      <td>14,520,838</td>\n      <td>14,657,450</td>\n      <td>14,681,375</td>\n      <td>195,835,097,606</td>\n      <td>1,030</td>\n      <td>1.00</td>\n      <td>1.00</td>\n    </tr>\n    <tr>\n      <th>4</th>\n      <td>US000</td>\n      <td>US</td>\n      <td>0.0</td>\n      <td>5</td>\n      <td>10</td>\n      <td>2020</td>\n      <td>1</td>\n      <td>Nation</td>\n      <td>NaN</td>\n      <td>U.S. TOTAL</td>\n      <td>...</td>\n      <td>10 Total, all industries</td>\n      <td>NaN</td>\n      <td>10,145,230</td>\n      <td>125,289,220</td>\n      <td>125,657,388</td>\n      <td>124,839,387</td>\n      <td>2,014,726,163,247</td>\n      <td>1,237</td>\n      <td>1.00</td>\n      <td>1.00</td>\n    </tr>\n    <tr>\n      <th>5</th>\n      <td>US000</td>\n      <td>US</td>\n      <td>0.0</td>\n      <td>5</td>\n      <td>101</td>\n      <td>2020</td>\n      <td>1</td>\n      <td>Nation</td>\n      <td>NaN</td>\n      <td>U.S. TOTAL</td>\n      <td>...</td>\n      <td>101 Goods-producing</td>\n      <td>NaN</td>\n      <td>1,342,925</td>\n      <td>21,613,273</td>\n      <td>21,673,801</td>\n      <td>21,691,990</td>\n      <td>383,234,860,658</td>\n      <td>1,361</td>\n      <td>1.00</td>\n      <td>1.00</td>\n    </tr>\n    <tr>\n      <th>6</th>\n      <td>US000</td>\n      <td>US</td>\n      <td>0.0</td>\n      <td>5</td>\n      <td>1011</td>\n      <td>2020</td>\n      <td>1</td>\n      <td>Nation</td>\n      <td>NaN</td>\n      <td>U.S. TOTAL</td>\n      <td>...</td>\n      <td>1011 Natural resources and mining</td>\n      <td>NaN</td>\n      <td>140,432</td>\n      <td>1,744,545</td>\n      <td>1,753,076</td>\n      <td>1,766,683</td>\n      <td>30,587,356,089</td>\n      <td>1,341</td>\n      <td>1.00</td>\n      <td>1.00</td>\n    </tr>\n    <tr>\n      <th>7</th>\n      <td>US000</td>\n      <td>US</td>\n      <td>0.0</td>\n      <td>5</td>\n      <td>1012</td>\n      <td>2020</td>\n      <td>1</td>\n      <td>Nation</td>\n      <td>NaN</td>\n      <td>U.S. TOTAL</td>\n      <td>...</td>\n      <td>1012 Construction</td>\n      <td>NaN</td>\n      <td>843,829</td>\n      <td>7,199,298</td>\n      <td>7,229,832</td>\n      <td>7,271,981</td>\n      <td>116,105,506,696</td>\n      <td>1,235</td>\n      <td>1.00</td>\n      <td>1.00</td>\n    </tr>\n    <tr>\n      <th>8</th>\n      <td>US000</td>\n      <td>US</td>\n      <td>0.0</td>\n      <td>5</td>\n      <td>1013</td>\n      <td>2020</td>\n      <td>1</td>\n      <td>Nation</td>\n      <td>NaN</td>\n      <td>U.S. TOTAL</td>\n      <td>...</td>\n      <td>1013 Manufacturing</td>\n      <td>NaN</td>\n      <td>358,664</td>\n      <td>12,669,430</td>\n      <td>12,690,893</td>\n      <td>12,653,326</td>\n      <td>236,541,997,873</td>\n      <td>1,436</td>\n      <td>1.00</td>\n      <td>1.00</td>\n    </tr>\n    <tr>\n      <th>9</th>\n      <td>US000</td>\n      <td>US</td>\n      <td>0.0</td>\n      <td>5</td>\n      <td>102</td>\n      <td>2020</td>\n      <td>1</td>\n      <td>Nation</td>\n      <td>NaN</td>\n      <td>U.S. TOTAL</td>\n      <td>...</td>\n      <td>102 Service-providing</td>\n      <td>NaN</td>\n      <td>8,802,305</td>\n      <td>103,675,947</td>\n      <td>103,983,587</td>\n      <td>103,147,397</td>\n      <td>1,631,491,302,589</td>\n      <td>1,211</td>\n      <td>1.00</td>\n      <td>1.00</td>\n    </tr>\n    <tr>\n      <th>10</th>\n      <td>US000</td>\n      <td>US</td>\n      <td>0.0</td>\n      <td>5</td>\n      <td>1021</td>\n      <td>2020</td>\n      <td>1</td>\n      <td>Nation</td>\n      <td>NaN</td>\n      <td>U.S. TOTAL</td>\n      <td>...</td>\n      <td>1021 Trade, transportation, and utilities</td>\n      <td>NaN</td>\n      <td>1,950,157</td>\n      <td>27,543,119</td>\n      <td>27,279,639</td>\n      <td>27,192,854</td>\n      <td>355,208,431,963</td>\n      <td>999</td>\n      <td>1.00</td>\n      <td>1.00</td>\n    </tr>\n    <tr>\n      <th>11</th>\n      <td>US000</td>\n      <td>US</td>\n      <td>0.0</td>\n      <td>5</td>\n      <td>1022</td>\n      <td>2020</td>\n      <td>1</td>\n      <td>Nation</td>\n      <td>NaN</td>\n      <td>U.S. TOTAL</td>\n      <td>...</td>\n      <td>1022 Information</td>\n      <td>NaN</td>\n      <td>193,016</td>\n      <td>2,876,350</td>\n      <td>2,933,068</td>\n      <td>2,883,167</td>\n      <td>100,015,080,701</td>\n      <td>2,655</td>\n      <td>1.00</td>\n      <td>1.00</td>\n    </tr>\n    <tr>\n      <th>12</th>\n      <td>US000</td>\n      <td>US</td>\n      <td>0.0</td>\n      <td>5</td>\n      <td>1023</td>\n      <td>2020</td>\n      <td>1</td>\n      <td>Nation</td>\n      <td>NaN</td>\n      <td>U.S. TOTAL</td>\n      <td>...</td>\n      <td>1023 Financial activities</td>\n      <td>NaN</td>\n      <td>933,220</td>\n      <td>8,330,670</td>\n      <td>8,354,602</td>\n      <td>8,328,454</td>\n      <td>275,209,665,518</td>\n      <td>2,539</td>\n      <td>1.00</td>\n      <td>1.00</td>\n    </tr>\n    <tr>\n      <th>13</th>\n      <td>US000</td>\n      <td>US</td>\n      <td>0.0</td>\n      <td>5</td>\n      <td>1024</td>\n      <td>2020</td>\n      <td>1</td>\n      <td>Nation</td>\n      <td>NaN</td>\n      <td>U.S. TOTAL</td>\n      <td>...</td>\n      <td>1024 Professional and business services</td>\n      <td>NaN</td>\n      <td>1,946,440</td>\n      <td>21,016,519</td>\n      <td>21,135,238</td>\n      <td>21,001,112</td>\n      <td>450,881,499,378</td>\n      <td>1,648</td>\n      <td>1.00</td>\n      <td>1.00</td>\n    </tr>\n    <tr>\n      <th>14</th>\n      <td>US000</td>\n      <td>US</td>\n      <td>0.0</td>\n      <td>5</td>\n      <td>1025</td>\n      <td>2020</td>\n      <td>1</td>\n      <td>Nation</td>\n      <td>NaN</td>\n      <td>U.S. TOTAL</td>\n      <td>...</td>\n      <td>1025 Education and health services</td>\n      <td>NaN</td>\n      <td>1,802,658</td>\n      <td>23,303,254</td>\n      <td>23,486,894</td>\n      <td>23,349,022</td>\n      <td>302,553,451,951</td>\n      <td>995</td>\n      <td>1.00</td>\n      <td>1.00</td>\n    </tr>\n    <tr>\n      <th>15</th>\n      <td>US000</td>\n      <td>US</td>\n      <td>0.0</td>\n      <td>5</td>\n      <td>1026</td>\n      <td>2020</td>\n      <td>1</td>\n      <td>Nation</td>\n      <td>NaN</td>\n      <td>U.S. TOTAL</td>\n      <td>...</td>\n      <td>1026 Leisure and hospitality</td>\n      <td>NaN</td>\n      <td>894,706</td>\n      <td>15,911,521</td>\n      <td>16,056,399</td>\n      <td>15,714,058</td>\n      <td>98,616,181,440</td>\n      <td>477</td>\n      <td>1.00</td>\n      <td>1.00</td>\n    </tr>\n    <tr>\n      <th>16</th>\n      <td>US000</td>\n      <td>US</td>\n      <td>0.0</td>\n      <td>5</td>\n      <td>1027</td>\n      <td>2020</td>\n      <td>1</td>\n      <td>Nation</td>\n      <td>NaN</td>\n      <td>U.S. TOTAL</td>\n      <td>...</td>\n      <td>1027 Other services</td>\n      <td>NaN</td>\n      <td>872,745</td>\n      <td>4,515,907</td>\n      <td>4,545,342</td>\n      <td>4,485,661</td>\n      <td>46,143,932,966</td>\n      <td>786</td>\n      <td>1.00</td>\n      <td>1.00</td>\n    </tr>\n    <tr>\n      <th>17</th>\n      <td>US000</td>\n      <td>US</td>\n      <td>0.0</td>\n      <td>5</td>\n      <td>1029</td>\n      <td>2020</td>\n      <td>1</td>\n      <td>Nation</td>\n      <td>NaN</td>\n      <td>U.S. TOTAL</td>\n      <td>...</td>\n      <td>1029 Unclassified</td>\n      <td>NaN</td>\n      <td>209,363</td>\n      <td>178,607</td>\n      <td>192,405</td>\n      <td>193,069</td>\n      <td>2,863,058,672</td>\n      <td>1,171</td>\n      <td>1.00</td>\n      <td>1.00</td>\n    </tr>\n    <tr>\n      <th>18</th>\n      <td>01000</td>\n      <td>01</td>\n      <td>0.0</td>\n      <td>0</td>\n      <td>10</td>\n      <td>2020</td>\n      <td>1</td>\n      <td>State</td>\n      <td>Alabama</td>\n      <td>Alabama -- Statewide</td>\n      <td>...</td>\n      <td>10 Total, all industries</td>\n      <td>NaN</td>\n      <td>132,569</td>\n      <td>1,976,243</td>\n      <td>1,986,963</td>\n      <td>1,983,835</td>\n      <td>25,095,139,892</td>\n      <td>974</td>\n      <td>1.00</td>\n      <td>1.00</td>\n    </tr>\n    <tr>\n      <th>19</th>\n      <td>01000</td>\n      <td>01</td>\n      <td>0.0</td>\n      <td>1</td>\n      <td>10</td>\n      <td>2020</td>\n      <td>1</td>\n      <td>State</td>\n      <td>Alabama</td>\n      <td>Alabama -- Statewide</td>\n      <td>...</td>\n      <td>10 Total, all industries</td>\n      <td>NaN</td>\n      <td>1,247</td>\n      <td>54,521</td>\n      <td>54,643</td>\n      <td>55,021</td>\n      <td>1,100,867,539</td>\n      <td>1,547</td>\n      <td>1.43</td>\n      <td>1.81</td>\n    </tr>\n  </tbody>\n</table>\n<p>20 rows × 21 columns</p>\n</div>"
     },
     "metadata": {},
     "execution_count": 3
    }
   ],
   "source": [
    "#Show employment \n",
    "employment_dataset.head(20)"
   ]
  },
  {
   "cell_type": "code",
   "execution_count": 4,
   "metadata": {},
   "outputs": [
    {
     "output_type": "execute_result",
     "data": {
      "text/plain": [
       "(62758, 21)"
      ]
     },
     "metadata": {},
     "execution_count": 4
    }
   ],
   "source": [
    "#show data shape for enrichment data\n",
    "employment_dataset.shape"
   ]
  },
  {
   "cell_type": "code",
   "execution_count": 5,
   "metadata": {},
   "outputs": [
    {
     "output_type": "execute_result",
     "data": {
      "text/plain": [
       "Area\\nCode                                        object\n",
       "St                                                object\n",
       "Cnty                                             float64\n",
       "Own                                                int64\n",
       "NAICS                                              int64\n",
       "Year                                               int64\n",
       "Qtr                                                int64\n",
       "Area Type                                         object\n",
       "St Name                                           object\n",
       "Area                                              object\n",
       "Ownership                                         object\n",
       "Industry                                          object\n",
       "Status Code                                       object\n",
       "Establishment Count                               object\n",
       "January Employment                                object\n",
       "February Employment                               object\n",
       "March Employment                                  object\n",
       "Total Quarterly Wages                             object\n",
       "Average Weekly Wage                               object\n",
       "Employment Location Quotient Relative to U.S.    float64\n",
       "Total Wage Location Quotient Relative to U.S.    float64\n",
       "dtype: object"
      ]
     },
     "metadata": {},
     "execution_count": 5
    }
   ],
   "source": [
    "#Show dataframe stats\n",
    "employment_dataset.dtypes"
   ]
  },
  {
   "cell_type": "code",
   "execution_count": null,
   "metadata": {},
   "outputs": [],
   "source": []
  }
 ]
}