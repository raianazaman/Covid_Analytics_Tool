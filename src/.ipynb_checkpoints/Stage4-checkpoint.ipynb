{
 "cells": [
  {
   "cell_type": "markdown",
   "metadata": {},
   "source": [
    "## Stage IV"
   ]
  },
  {
   "cell_type": "code",
   "execution_count": 367,
   "metadata": {},
   "outputs": [],
   "source": [
    "from datetime import datetime\n",
    "from datetime import timedelta  \n",
    "import pandas as pd\n",
    "import math\n",
    "import numpy as np\n",
    "import matplotlib.pyplot as plt\n",
    "import scipy as scipy\n",
    "import sys\n",
    "import statsmodels.formula.api as smf\n",
    "import statsmodels.tools.eval_measures as smfem\n",
    "import statsmodels.tsa.stattools as smfTools\n",
    "from statsmodels.tsa.seasonal import seasonal_decompose\n",
    "import json"
   ]
  },
  {
   "cell_type": "markdown",
   "metadata": {},
   "source": [
    "### import for dash"
   ]
  },
  {
   "cell_type": "code",
   "execution_count": 368,
   "metadata": {},
   "outputs": [],
   "source": [
    "import plotly.express as px\n",
    "from jupyter_dash import JupyterDash\n",
    "import dash_core_components as dcc\n",
    "import dash_html_components as html\n",
    "from dash.dependencies import Input, Output\n",
    "import plotly.graph_objects as go\n",
    "from plotly.subplots import make_subplots"
   ]
  },
  {
   "cell_type": "code",
   "execution_count": 369,
   "metadata": {},
   "outputs": [],
   "source": [
    "#define the utilities folder for team functions\n",
    "sys.path.insert(0,\"util\")\n",
    "import teamsuperfileutilslib as tLibs"
   ]
  },
  {
   "cell_type": "markdown",
   "metadata": {},
   "source": [
    "### Load Team Super File"
   ]
  },
  {
   "cell_type": "code",
   "execution_count": 370,
   "metadata": {},
   "outputs": [],
   "source": [
    "#read team super file\n",
    "team_super_df =  pd.read_csv(\"..\\data\\superCOVID-19dataframe.csv\")\n",
    "\n",
    "#Retrive the confirm cases and death cases for USA from the team super file\n",
    "#Using the Team Utility function that was imported\n",
    "confirmed_usa, deaths_usa = tLibs.get_confirmed_deaths_tuple_df(team_super_df)"
   ]
  },
  {
   "cell_type": "markdown",
   "metadata": {},
   "source": [
    "### Load GEO Data for map counties"
   ]
  },
  {
   "cell_type": "code",
   "execution_count": 371,
   "metadata": {},
   "outputs": [],
   "source": [
    "with open(\"..\\data\\geojson-counties-fips.json\") as jFile:\n",
    "  counties = json.load(jFile)"
   ]
  },
  {
   "cell_type": "markdown",
   "metadata": {},
   "source": [
    "## common defs"
   ]
  },
  {
   "cell_type": "code",
   "execution_count": 372,
   "metadata": {},
   "outputs": [],
   "source": [
    "def USA_States():\n",
    "    #List From source https://gist.github.com/rogerallen/1583593\n",
    "    us_state_abbrev = {\n",
    "    'All': 'All',\n",
    "    'Alabama': 'AL', 'Alaska': 'AK', 'Arizona': 'AZ', 'Arkansas': 'AR', 'California': 'CA',\n",
    "    'Colorado': 'CO', 'Connecticut': 'CT', 'Delaware': 'DE', 'District of Columbia': 'DC', 'Florida': 'FL', 'Georgia': 'GA',\n",
    "    'Guam': 'GU', 'Hawaii': 'HI', 'Idaho': 'ID', 'Illinois': 'IL', 'Indiana': 'IN', 'Iowa': 'IA', 'Kansas': 'KS',\n",
    "    'Kentucky': 'KY', 'Louisiana': 'LA', 'Maine': 'ME', 'Maryland': 'MD', 'Massachusetts': 'MA', 'Michigan': 'MI', 'Minnesota': 'MN',\n",
    "    'Mississippi': 'MS', 'Missouri': 'MO', 'Montana': 'MT', 'Nebraska': 'NE', 'Nevada': 'NV', 'New Hampshire': 'NH', 'New Jersey': 'NJ',\n",
    "    'New Mexico': 'NM',    'New York': 'NY', 'North Carolina': 'NC', 'North Dakota': 'ND', 'Ohio': 'OH',\n",
    "    'Oklahoma': 'OK', 'Oregon': 'OR', 'Pennsylvania': 'PA', 'Rhode Island': 'RI', 'South Carolina': 'SC', 'South Dakota': 'SD',\n",
    "    'Tennessee': 'TN', 'Texas': 'TX', 'Utah': 'UT', 'Vermont': 'VT', 'Virginia': 'VA', 'Washington': 'WA', 'West Virginia': 'WV',\n",
    "    'Wisconsin': 'WI', 'Wyoming': 'WY'\n",
    "    }\n",
    "    return us_state_abbrev"
   ]
  },
  {
   "cell_type": "code",
   "execution_count": 373,
   "metadata": {},
   "outputs": [],
   "source": [
    "def get_totals_dataframe(dataToProcess, logNormilized=False, normilizedByPop=False, popluation=0, normilizedByPopPerMultiplier=1000000):\n",
    "    \"\"\" return a new dataframe by converting the running total to actual new total. Cleans the data of any na values.\n",
    "        Adds a week number to the data from the date column. Shapes the data.\n",
    "    \"\"\"\n",
    "    #get a grad total of the days for the confirmed cases.\n",
    "    daily_cols = pd.DataFrame(dataToProcess[dataToProcess.columns[4:]].sum(axis=0)).reset_index()\n",
    "    \n",
    "    #rename column to totals\n",
    "    daily_cols.columns=[\"date\",\"daily_count\"]\n",
    "    \n",
    "    #Remove running total and get the acutal value for the day\n",
    "    daily_cols.daily_count = daily_cols.daily_count.diff()\n",
    "\n",
    "    #Fill any missing \"na\" values with 0\n",
    "    daily_cols.daily_count = daily_cols.daily_count.fillna(value=0)\n",
    "\n",
    "    #calculate normalize by population\n",
    "    if normilizedByPop:\n",
    "        daily_cols[\"daily_count\"] = daily_cols.apply(lambda row: round((row[\"daily_count\"] / popluation) * normilizedByPopPerMultiplier,0), axis=1)\n",
    "    \n",
    "    #calculate normalize by log\n",
    "    if logNormilized:\n",
    "        daily_cols[\"daily_count\"] = daily_cols.apply(lambda row: 0 if row[\"daily_count\"] == 0 else math.log(row[\"daily_count\"]),axis=1)\n",
    "\n",
    "    #convert date column to a pandas date\n",
    "    daily_cols[\"date\"] = pd.to_datetime(daily_cols[\"date\"])\n",
    "\n",
    "    #insert a new column with the week number\n",
    "    daily_cols[\"week_number\"] = daily_cols[\"date\"].dt.week\n",
    "\n",
    "    #convet grand to int\n",
    "    if (logNormilized == False):\n",
    "        daily_cols[\"daily_count\"] = daily_cols[\"daily_count\"].apply(np.int64)\n",
    "\n",
    "    daily_cols[\"days_since_infection_start\"] = -1\n",
    "\n",
    "    rIndexFirstIns = -1\n",
    "    for index, row in daily_cols.iterrows():\n",
    "        if row[\"daily_count\"] > 0:\n",
    "            rIndexFirstIns = index\n",
    "            break\n",
    "    \n",
    "    daily_cols[\"days_since_infection_start\"] = daily_cols.apply(lambda row: row.name - rIndexFirstIns if row.name >= rIndexFirstIns else -1, axis=1)\n",
    "    \n",
    "    return daily_cols"
   ]
  },
  {
   "cell_type": "code",
   "execution_count": 374,
   "metadata": {},
   "outputs": [],
   "source": [
    "def  get_data_from_first_infection(confirmed_or_deaths_df, logNormilized=False, normilizedByPop=False, popluation=0, normilizedByPopPerMultiplier=1000000):\n",
    "    #Get data for all of USA of new cases\n",
    "    df_from_1ft_infec = get_totals_dataframe(confirmed_or_deaths_df, logNormilized, normilizedByPop, popluation, normilizedByPopPerMultiplier)\n",
    "\n",
    "    #Get the data for starting from first infection\n",
    "    df_from_1ft_infec = df_from_1ft_infec[df_from_1ft_infec.apply(lambda x: (x[\"days_since_infection_start\"] != -1), axis=1)]\n",
    "    return df_from_1ft_infec"
   ]
  },
  {
   "cell_type": "code",
   "execution_count": 375,
   "metadata": {},
   "outputs": [],
   "source": [
    "def USA_State_County(usa_data_df, usa_state):\n",
    "    #get data for the state\n",
    "    counties_df = usa_data_df[usa_data_df.apply(lambda row: row[\"State\"] == usa_state, axis=1)]\n",
    "    array_counties = counties_df[\"County Name\"].sort_values().to_numpy()\n",
    "    #return a list counties\n",
    "    return np.insert(array_counties, 0, \"All\")"
   ]
  },
  {
   "cell_type": "code",
   "execution_count": 376,
   "metadata": {},
   "outputs": [],
   "source": [
    "def data_date_range_tuple(confirmed_or_deaths_df, logNormilized=False, normilizedByPop=False, popluation=0, normilizedByPopPerMultiplier=1000000):\n",
    "    data_df = get_data_from_first_infection(confirmed_or_deaths_df, logNormilized, normilizedByPop, popluation, normilizedByPopPerMultiplier)\n",
    "    return data_df.head(1)[\"date\"].iloc[0], data_df.tail(1)[\"date\"].iloc[0]"
   ]
  },
  {
   "cell_type": "code",
   "execution_count": 377,
   "metadata": {},
   "outputs": [],
   "source": [
    "def seven_day_increase_to_dataframe(infection_df):\n",
    "    #Get the last day of the current confirmed cases\n",
    "    last_day = infection_df['days_since_infection_start'].tail(1).iloc[0]\n",
    "    \n",
    "    #create list of days to perdict out by adding 7 days to the current days list\n",
    "    days_to_perdict = np.array([day + last_day + 1  for day in range(7)])\n",
    "    days_to_perdict = infection_df[['days_since_infection_start']].copy().append(pd.DataFrame(days_to_perdict, columns=['days_since_infection_start']),ignore_index=True)\n",
    "    return days_to_perdict"
   ]
  },
  {
   "cell_type": "code",
   "execution_count": 378,
   "metadata": {},
   "outputs": [],
   "source": [
    "def prediction(data_df):\n",
    "    formula = (\"daily_count ~ days_since_infection_start + I(days_since_infection_start ** 2.00) + I(days_since_infection_start ** 3.00) + \" +\n",
    "              \"I(days_since_infection_start ** 4.00) + I(days_since_infection_start ** 5.00) + I(days_since_infection_start ** 6.00)\")\n",
    "\n",
    "    confirm_NonLinerRM = smf.ols(formula=formula, data=data_df).fit()\n",
    "\n",
    "    days_to_perdict_df = seven_day_increase_to_dataframe(data_df)\n",
    "    \n",
    "    #Create new dataframe with the new predictions\n",
    "    furture_precition = confirm_NonLinerRM.predict(days_to_perdict_df)\n",
    "\n",
    "    #Create new dataframe with future 7-days predicition\n",
    "    future_precition_7_days = [round(fp,0) for fp in furture_precition[:]]\n",
    "    future_precition_7_days = pd.DataFrame(future_precition_7_days, columns=['daily_count'])\n",
    "\n",
    "    #Combine The Future precitions & the Future days into one dataframe with 2 columns\n",
    "    future_precition_7_days = pd.concat([days_to_perdict_df.iloc[:].reset_index(drop=True), future_precition_7_days.reset_index(drop=True)], axis=1, ignore_index=False)\n",
    "\n",
    "    firstDay = data_df.head(1)[\"date\"].iloc[0]\n",
    "    future_precition_7_days[\"date\"] = future_precition_7_days.apply(lambda row: firstDay + timedelta(days=row[\"days_since_infection_start\"]),axis=1)\n",
    "\n",
    "    return future_precition_7_days"
   ]
  },
  {
   "cell_type": "code",
   "execution_count": 379,
   "metadata": {},
   "outputs": [],
   "source": [
    "def get_mean_county_population():\n",
    "    pop = team_super_df[[\"population\"]].copy().dropna()\n",
    "    pop = pop[pop.apply(lambda row: row[\"population\"] != 0, axis=1)].mean()\n",
    "    #return the mean of all the counties in usa\n",
    "    return pop.iloc[0] "
   ]
  },
  {
   "cell_type": "code",
   "execution_count": 380,
   "metadata": {},
   "outputs": [],
   "source": [
    "def get_max_days():\n",
    "    date_marks = {}\n",
    "    for index, x in enumerate(confirmed_usa.columns[4:]):\n",
    "        currDate = datetime.strptime(x,\"%m/%d/%y\")\n",
    "        date_marks[str(index)] = x if currDate.day == 1 else \"\"\n",
    "\n",
    "    return date_marks"
   ]
  },
  {
   "cell_type": "code",
   "execution_count": 381,
   "metadata": {},
   "outputs": [],
   "source": [
    "def get_days():\n",
    "    date_marks = {}\n",
    "    for index, x in enumerate(confirmed_usa.columns[4:]):\n",
    "        date_marks[str(index)] = x\n",
    "    return date_marks"
   ]
  },
  {
   "cell_type": "markdown",
   "metadata": {},
   "source": [
    "### Functions for plot and map creaters"
   ]
  },
  {
   "cell_type": "code",
   "execution_count": 382,
   "metadata": {},
   "outputs": [],
   "source": [
    "def plot_fig(rdDataSource_value, dlDataNormalization_value, dlStates_value, dlCounties_value, dlPredictionModels_value, chkMovingAvg_value):\n",
    "    \n",
    "    #Create lables for the data\n",
    "    plot_y_label = \"Confirmed Cases\" if rdDataSource_value == \"confirmed\" else \"Deaths\"\n",
    "    plot_x_label = \"Date Since 1ft Infection\"\n",
    "\n",
    "    loggedNorm = True if dlDataNormalization_value == \"Log\" else False\n",
    "\n",
    "    if loggedNorm:\n",
    "        plot_y_label = plot_y_label + \" *Logged\"\n",
    "    \n",
    "    #get data for confirmed or deaths\n",
    "    data_df = confirmed_usa if rdDataSource_value == \"confirmed\" else deaths_usa\n",
    "\n",
    "    #do we need to filter by state\n",
    "    if dlStates_value != \"All\":\n",
    "        data_df = data_df[data_df.apply(lambda row: row[\"State\"] == dlStates_value ,axis=1)]\n",
    "        #do we need to filter by county\n",
    "        if dlCounties_value != \"All\":\n",
    "            data_df = data_df[data_df.apply(lambda row: row[\"County Name\"] == dlCounties_value ,axis=1)]\n",
    "    \n",
    "    #filter data by first date of infection\n",
    "    data_df = get_data_from_first_infection(confirmed_or_deaths_df=data_df, logNormilized=loggedNorm)\n",
    "    \n",
    "    #plot the data\n",
    "    fig = px.scatter(x=data_df[\"date\"], y=data_df[\"daily_count\"], labels={\"x\":plot_x_label,\"y\":plot_y_label})\n",
    "    \n",
    "    if chkMovingAvg_value == [\"7Day\"]:\n",
    "        rolling_mean_series = data_df[\"daily_count\"].rolling(7).mean()\n",
    "        fig.add_trace(go.Line(x=data_df[\"date\"],y=rolling_mean_series, name=\"7-Day Moving Avg.\", marker=dict(color=\"Green\")))\n",
    "    \n",
    "    if dlPredictionModels_value == \"nonL\":\n",
    "        data_predictions = prediction(data_df)\n",
    "        fig.add_trace(go.Line(x=data_predictions[\"date\"],y=data_predictions[\"daily_count\"], name=\"Prediction Trend Line\", marker=dict(color=\"Red\")))\n",
    "    \n",
    "    fig.update_layout(autosize=False, height=500)\n",
    "    return fig"
   ]
  },
  {
   "cell_type": "code",
   "execution_count": 383,
   "metadata": {},
   "outputs": [],
   "source": [
    "def map_fig(rdDataSource_value, rdMapDate_value):\n",
    "\n",
    "    graph_label = \"Confirmed Cases\" if rdDataSource_value == \"confirmed\" else \"Deaths\"\n",
    "\n",
    "    data_df = confirmed_usa if rdDataSource_value == \"confirmed\" else deaths_usa\n",
    "\n",
    "    lastDateCol = data_df.columns[4:][rdMapDate_value]\n",
    "\n",
    "    #create new dataframe from county info and request date column\n",
    "    df =  pd.concat([data_df[data_df.columns[0:4]] , data_df[lastDateCol] ], axis=1).copy()\n",
    "\n",
    "    #Remove state unalcated\n",
    "    df = df[df.apply(lambda row: row[\"countyFIPS\"] != 0, axis=1)]\n",
    "\n",
    "    #Change the countyFips to a string column\n",
    "    df[\"countyFIPS\"] = df[\"countyFIPS\"].astype(str)\n",
    "\n",
    "    #format CountyFips to match need map fips\n",
    "    df[\"countyFIPS\"] = df.apply(lambda row: row[\"countyFIPS\"] if  row[\"stateFIPS\"] >= 10 else \"0\" + row[\"countyFIPS\"], axis=1)\n",
    "\n",
    "    df.columns = [\"countyFIPS\",\"CountyName\",\"State\",\"stateFIPS\",\"daily_count\"]\n",
    "\n",
    "    popVal = get_mean_county_population()\n",
    "\n",
    "    df[\"daily_count\"] = df.apply(lambda row: round((row[\"daily_count\"] / popVal) * 1000000,0), axis=1)\n",
    "\n",
    "    df[\"daily_count\"] = df[\"daily_count\"].astype(int)\n",
    "\n",
    "    df[\"Caption\"] = df[\"CountyName\"] + \", \" + df[\"State\"]\n",
    "\n",
    "    color_Range_Max = 1000000 if rdDataSource_value == \"confirmed\" else 10000\n",
    "    fig = px.choropleth_mapbox(df, geojson=counties, locations=\"countyFIPS\", color=\"daily_count\",\n",
    "                        color_continuous_scale=\"Reds\",\n",
    "                        range_color=(0,color_Range_Max),\n",
    "                        hover_name=\"Caption\",\n",
    "                        title=\"USA {}, Normalized Per {:,}\".format(graph_label, color_Range_Max),\n",
    "                        zoom=3, center = {\"lat\": 37.0902, \"lon\": -95.7129},\n",
    "                        #scope=\"usa\",\n",
    "                        mapbox_style=\"carto-positron\",\n",
    "                        opacity=0.6,\n",
    "                        labels={\"daily_count\":graph_label})\n",
    "    fig.update_layout(autosize=False, height=900)\n",
    "    return fig"
   ]
  },
  {
   "cell_type": "markdown",
   "metadata": {},
   "source": [
    "### Dash Application Init"
   ]
  },
  {
   "cell_type": "code",
   "execution_count": 384,
   "metadata": {},
   "outputs": [],
   "source": [
    "date_range_default_start, date_range_default_end  = data_date_range_tuple(confirmed_usa)\n",
    "\n",
    "app = JupyterDash(__name__)\n",
    "\n",
    "app.layout = html.Div([\n",
    "    html.H2(\"USA Covid-19 Data\",style={\"text-align\":\"center\"}),\n",
    "\n",
    "    #Graph Data\n",
    "    dcc.Graph(id=\"dataPlot\"),\n",
    "\n",
    "    html.Div([\n",
    "            html.Label(\"Graph Type:\"),\n",
    "            dcc.RadioItems(id=\"rdGraphType\",\n",
    "                options=[\n",
    "                    {\"label\": \"Plot\", \"value\": \"plot\"},\n",
    "                    {\"label\": \"Map USA\", \"value\": \"usa\"}\n",
    "                ],\n",
    "                value=\"plot\", labelStyle={\"display\":\"block\"})\n",
    "        ],style={\"width\":\"140px\", \"float\":\"left\",\"margin-right\":\"5px\"}),\n",
    "\n",
    "    #Data source group\n",
    "    html.Div([\n",
    "            html.Label(\"Data Source:\"),\n",
    "            dcc.RadioItems(id=\"rdDataSource\",\n",
    "                options=[\n",
    "                    {\"label\": \"Confirmed\", \"value\": \"confirmed\"},\n",
    "                    {\"label\": \"Deaths\", \"value\": \"deaths\"}\n",
    "                ],\n",
    "                value=\"confirmed\", labelStyle={\"display\":\"block\"})\n",
    "        ],style={\"width\":\"100px\", \"float\":\"left\",\"margin-right\":\"5px\"}),\n",
    "\n",
    "    #Map date slider\n",
    "    html.Div([\n",
    "            html.Div(\"Current Date: \",id=\"divMapDateHeader\"),\n",
    "            dcc.Slider(id=\"rdMapDate\", \n",
    "                min=0, \n",
    "                max=len(get_max_days())-1, \n",
    "                step=1, \n",
    "                value=len(get_max_days())-1, \n",
    "                marks=get_max_days(), \n",
    "                updatemode=\"mouseup\",\n",
    "                tooltip={\"always_visible\":False})\n",
    "        ],style={\"display\": \"none\"},id=\"divMapSlider\"),\n",
    "\n",
    "    #Selection Controls\n",
    "    html.Div([\n",
    "        #Date Range Picker\n",
    "        html.Div([\n",
    "            html.Label(\"Date Start:\"),\n",
    "            dcc.DatePickerSingle(id=\"dtpDateStart\", \n",
    "                placeholder=\"All Days\",\n",
    "                style={\"display\":\"block\", \"height\":\"10px\"})\n",
    "        ],style={\"float\":\"left\",\"margin-right\":\"10px\", \"margin-top\":\"10px\"}),\n",
    "\n",
    "         #Date Range Picker\n",
    "        html.Div([\n",
    "            html.Label(\"Date End:\"),\n",
    "            dcc.DatePickerSingle(id=\"dtpDateEnd\", \n",
    "                placeholder=\"All Days\",\n",
    "                style={\"display\":\"block\", \"height\":\"10px\"})\n",
    "        ],style={\"float\":\"left\",\"margin-right\":\"10px\", \"margin-top\":\"10px\"}),\n",
    "\n",
    "        #Data Normalization group\n",
    "        html.Div([\n",
    "            html.Label(\"Data Normalization:\",style={\"float\":\"left\"}),\n",
    "            dcc.Dropdown(id=\"dlDataNormalization\",\n",
    "                options=[\n",
    "                    {'label': \"Linear\", 'value': \"Linear\"},\n",
    "                    {'label': \"Log\", 'value': \"Log\"}\n",
    "                ],\n",
    "                value=\"Linear\", clearable=False)\n",
    "        ],style={\"width\":\"150px\", \"float\":\"left\", \"margin-right\":\"5px\", \"margin-top\":\"10px\"}),\n",
    "\n",
    "        #Data State group\n",
    "        html.Div([\n",
    "            html.Label(\"State:\",style={\"float\":\"left\"}),\n",
    "            dcc.Dropdown(id=\"dlStates\",\n",
    "                options=[\n",
    "                    {'label': fullname, 'value': key}\n",
    "                    for fullname, key in USA_States().items()\n",
    "                ],\n",
    "                value=\"All\", clearable=False)\n",
    "        ],style={\"width\":\"200px\", \"float\":\"left\", \"margin-right\":\"5px\", \"margin-top\":\"10px\"}),\n",
    "\n",
    "        #Data county group\n",
    "        html.Div([\n",
    "            html.Label(\"County:\",style={\"float\":\"left\"}),\n",
    "            dcc.Dropdown(id=\"dlCounties\",\n",
    "                options=[\n",
    "                    {'label': \"All\", 'value': \"All\"}\n",
    "                ], \n",
    "                value=\"All\", clearable=False)\n",
    "        ],style={\"width\":\"200px\", \"float\":\"left\", \"margin-right\":\"5px\", \"margin-top\":\"10px\"}),\n",
    "\n",
    "        #Data Prediction Model\n",
    "        html.Div([\n",
    "            html.Label(\"Prediction:\",style={\"float\":\"left\"}),\n",
    "            dcc.Dropdown(id=\"dlPredictionModels\",\n",
    "                options=[\n",
    "                    {'label': \"None\", 'value': \"None\"},\n",
    "                    {'label': \"Non-Linear Model\", 'value': \"nonL\"}\n",
    "                ], \n",
    "                value=\"None\", clearable=False),\n",
    "            dcc.Checklist(id=\"chkMovingAvg\",\n",
    "                options=[{\"label\":\"7-Days Moving Average\",\"value\":\"7Day\"}],value=[])\n",
    "        ],style={\"width\":\"200px\", \"float\":\"left\", \"margin-right\":\"5px\", \"margin-top\":\"10px\"})\n",
    "\n",
    "    ],style={\"margin-right\":\"5px\", \"margin-top\":\"0px\"}, id=\"divPlotControls\")    \n",
    "\n",
    "], style={\"font-size\":\"14px\"})"
   ]
  },
  {
   "cell_type": "markdown",
   "metadata": {},
   "source": [
    "## setup call backs"
   ]
  },
  {
   "cell_type": "code",
   "execution_count": 385,
   "metadata": {},
   "outputs": [],
   "source": [
    "@app.callback(   \n",
    "    Output(\"dlCounties\", \"options\"),\n",
    "    Input(\"dlStates\", \"value\"))\n",
    "def set_counties_options(selected_state):\n",
    "        return [{\"label\":c, \"value\": c} for c in USA_State_County(team_super_df, selected_state)]\n",
    "\n",
    "#@app.callback(   \n",
    "#    Output(\"testdateOutput\", \"children\"),\n",
    "#    Input(\"dtpDateStart\", \"date\"))\n",
    "#def testdatesel(date_value):\n",
    "#    if date_value is not None:\n",
    "#        date_object = date.fromisoformat(date_value)\n",
    "#        date_string = date_object.strftime(\"%B %d, %Y\")\n",
    "#        return date_object\n",
    "#    else:\n",
    "#        return \"noneasdfasdf\"\n",
    "\n",
    "@app.callback(\n",
    "    Output(\"dataPlot\", \"figure\"),\n",
    "    Output(\"divPlotControls\", \"style\"),\n",
    "    Output(\"divMapSlider\", \"style\"),\n",
    "    Output(\"divMapDateHeader\", \"children\"),\n",
    "    [Input(\"rdGraphType\", \"value\"),\n",
    "    Input(\"rdDataSource\", \"value\"),\n",
    "    Input(\"dlDataNormalization\", \"value\"),\n",
    "    Input(\"dlStates\", \"value\"),\n",
    "    Input(\"dlCounties\", \"value\"),\n",
    "    Input(\"dlPredictionModels\", \"value\"),\n",
    "    Input(\"chkMovingAvg\",\"value\"),\n",
    "    Input(\"rdMapDate\",\"value\")])\n",
    "def update_plot(rdGraphType_value, rdDataSource_value, dlDataNorm_value, dlStates_value, dlCounties_value, dlPredModels_value, chkMovingAvg_value, rdMapDate_value):\n",
    "\n",
    "    fig = None\n",
    "    divPlotControls_show_style = None\n",
    "    divMapSlider_show_style = None\n",
    "    divMapDateHeader_text = \"\"\n",
    "\n",
    "    if rdGraphType_value == \"plot\":\n",
    "        fig = plot_fig(rdDataSource_value, dlDataNorm_value, dlStates_value, dlCounties_value, dlPredModels_value, chkMovingAvg_value)\n",
    "        divPlotControls_show_style = {\"display\":\"block\"}\n",
    "        divMapSlider_show_style  = {\"display\":\"none\"}\n",
    "    else:\n",
    "        fig = map_fig(rdDataSource_value, rdMapDate_value)\n",
    "        divPlotControls_show_style = {\"display\":\"none\"}\n",
    "        divMapSlider_show_style  = {\"width\":\"700px\", \"float\":\"left\",\"margin-right\":\"5px\", \"display\": \"block\"}\n",
    "        divMapDateHeader_text = \"Current Date: {}\".format(get_days()[\"{}\".format(rdMapDate_value)])\n",
    "\n",
    "    return fig, divPlotControls_show_style, divMapSlider_show_style, divMapDateHeader_text"
   ]
  },
  {
   "cell_type": "code",
   "execution_count": 386,
   "metadata": {
    "tags": []
   },
   "outputs": [
    {
     "data": {
      "text/html": [
       "\n",
       "        <iframe\n",
       "            width=\"100%\"\n",
       "            height=\"650\"\n",
       "            src=\"http://127.0.0.1:8050/\"\n",
       "            frameborder=\"0\"\n",
       "            allowfullscreen\n",
       "        ></iframe>\n",
       "        "
      ],
      "text/plain": [
       "<IPython.lib.display.IFrame at 0x151eed89400>"
      ]
     },
     "metadata": {},
     "output_type": "display_data"
    }
   ],
   "source": [
    "app.enable_dev_tools(\n",
    "    dev_tools_ui=True,\n",
    "    dev_tools_serve_dev_bundles=True,\n",
    ")\n",
    "\n",
    "# Run app and display result inline in the notebook\n",
    "#app.run_server(mode='External', debug=True)\n",
    "app.run_server(mode='inline')"
   ]
  }
 ],
 "metadata": {
  "kernelspec": {
   "display_name": "Python 3",
   "language": "python",
   "name": "python3"
  },
  "language_info": {
   "codemirror_mode": {
    "name": "ipython",
    "version": 3
   },
   "file_extension": ".py",
   "mimetype": "text/x-python",
   "name": "python",
   "nbconvert_exporter": "python",
   "pygments_lexer": "ipython3",
   "version": "3.8.3"
  }
 },
 "nbformat": 4,
 "nbformat_minor": 2
}
